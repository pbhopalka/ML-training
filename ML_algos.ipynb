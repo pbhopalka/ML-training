{
  "nbformat": 4,
  "nbformat_minor": 0,
  "metadata": {
    "colab": {
      "name": "ML_algos.ipynb",
      "provenance": [],
      "collapsed_sections": [
        "h2ukucME3yhD",
        "vhKYkOWE8SYG",
        "6NwSsAXg_NO0",
        "Ffi2d_1fFgKI",
        "ox3Kb_tbXw2K",
        "0gmF25_ZbAEE",
        "GIIR942DPCwk",
        "O7rdy6Sftfw4",
        "xa4QFMqZJ6x8"
      ],
      "toc_visible": true,
      "include_colab_link": true
    },
    "kernelspec": {
      "name": "python3",
      "display_name": "Python 3"
    }
  },
  "cells": [
    {
      "cell_type": "markdown",
      "metadata": {
        "id": "view-in-github",
        "colab_type": "text"
      },
      "source": [
        "<a href=\"https://colab.research.google.com/github/pbhopalka/ML-training/blob/master/ML_algos.ipynb\" target=\"_parent\"><img src=\"https://colab.research.google.com/assets/colab-badge.svg\" alt=\"Open In Colab\"/></a>"
      ]
    },
    {
      "cell_type": "markdown",
      "metadata": {
        "id": "h2ukucME3yhD",
        "colab_type": "text"
      },
      "source": [
        "#Linear Regression\n",
        "\n",
        "y = mx + c"
      ]
    },
    {
      "cell_type": "markdown",
      "metadata": {
        "id": "vhKYkOWE8SYG",
        "colab_type": "text"
      },
      "source": [
        "## Implementing using maths directly"
      ]
    },
    {
      "cell_type": "code",
      "metadata": {
        "id": "qhnddc0t3GS3",
        "colab_type": "code",
        "colab": {}
      },
      "source": [
        "import theano\n",
        "import theano.tensor as th\n",
        "import numpy as np\n",
        "import matplotlib.pyplot as plt"
      ],
      "execution_count": 0,
      "outputs": []
    },
    {
      "cell_type": "code",
      "metadata": {
        "id": "DScfYhXE3-sK",
        "colab_type": "code",
        "colab": {}
      },
      "source": [
        "# Creating the data objects and the linear regression equation\n",
        "\n",
        "x = th.fvector('x')\n",
        "y = th.fvector('y')\n",
        "\n",
        "# Using shared makes sure that if value of m changes, it will take that new value.\n",
        "# So m and c are shared through all iterations\n",
        "m = theano.shared(0.8, 'm')\n",
        "c = theano.shared(0.5, 'c')\n",
        "\n",
        "y_hat = m*x + c"
      ],
      "execution_count": 0,
      "outputs": []
    },
    {
      "cell_type": "code",
      "metadata": {
        "id": "Ho2WjOpI4axb",
        "colab_type": "code",
        "colab": {}
      },
      "source": [
        "# Implementing cost function and training function\n",
        "\n",
        "cost = th.mean(th.square(y - y_hat))/2\n",
        "learning_rate = 0.07\n",
        "m_new = m - learning_rate*th.grad(cost, m)\n",
        "c_new = c - learning_rate*th.grad(cost, c)\n",
        "\n",
        "train = theano.function(inputs=[x, y], outputs=cost, updates=[(m, m_new), (c, c_new)])"
      ],
      "execution_count": 0,
      "outputs": []
    },
    {
      "cell_type": "code",
      "metadata": {
        "id": "wq3d9QcS5-Cx",
        "colab_type": "code",
        "colab": {}
      },
      "source": [
        "# Input data\n",
        "\n",
        "area = [1.2, 2.4, 3.5, 6.1, 7.5, 9.2, 4.2, 3.5, 1.6]\n",
        "price = [180, 280, 320, 720, 760, 870, 370, 390, 210]\n",
        "\n",
        "area = np.array(area, dtype=\"float32\")\n",
        "price = np.array(price, dtype=\"float32\")"
      ],
      "execution_count": 0,
      "outputs": []
    },
    {
      "cell_type": "code",
      "metadata": {
        "id": "-2sheTBV67Eu",
        "colab_type": "code",
        "outputId": "0a157d82-94dc-4914-f544-4a3ba7bd525b",
        "colab": {
          "base_uri": "https://localhost:8080/",
          "height": 51
        }
      },
      "source": [
        "# Iteration for training\n",
        "\n",
        "for i in range(100):\n",
        "  cost_val = train(area, price)\n",
        "  # You can comment the print below after you know that learning is good\n",
        "  # print(cost_val)\n",
        "\n",
        "print(\"Final value of m:\", m.get_value())\n",
        "print(\"Final value of c:\", c.get_value())"
      ],
      "execution_count": 0,
      "outputs": [
        {
          "output_type": "stream",
          "text": [
            "Final value of m: 92.8284860731418\n",
            "Final value of c: 51.23593052272081\n"
          ],
          "name": "stdout"
        }
      ]
    },
    {
      "cell_type": "markdown",
      "metadata": {
        "id": "9E41rC7D_HlN",
        "colab_type": "text"
      },
      "source": [
        "If you change number of iterations to number higher than 100 also, there is not much change in the cost_val and the final value of m and c. So you need to find the right number of iterations"
      ]
    },
    {
      "cell_type": "markdown",
      "metadata": {
        "id": "6NwSsAXg_NO0",
        "colab_type": "text"
      },
      "source": [
        "## Implementing using scikit-learn without coding the maths"
      ]
    },
    {
      "cell_type": "code",
      "metadata": {
        "id": "tzD3Wfsz_Snf",
        "colab_type": "code",
        "colab": {}
      },
      "source": [
        "import numpy as np\n",
        "import matplotlib.pyplot as plt\n",
        "from sklearn.linear_model import SGDRegressor"
      ],
      "execution_count": 0,
      "outputs": []
    },
    {
      "cell_type": "code",
      "metadata": {
        "id": "vofq4ria_hWi",
        "colab_type": "code",
        "colab": {}
      },
      "source": [
        "# Input data\n",
        "\n",
        "area = [1.2, 2.4, 3.5, 6.1, 7.5, 9.2, 4.2, 3.5, 1.6]\n",
        "price = [180, 280, 320, 720, 760, 870, 370, 390, 210]\n",
        "\n",
        "# Converting to a 2D array because scikit-learn expects in the certain format\n",
        "area = np.array(area).reshape(9,1)\n",
        "price = np.array(price, dtype=\"float32\")"
      ],
      "execution_count": 0,
      "outputs": []
    },
    {
      "cell_type": "code",
      "metadata": {
        "id": "U0cb-ys9_sMG",
        "colab_type": "code",
        "colab": {}
      },
      "source": [
        "# Creating model using Stochastic Gradient Descent\n",
        "\n",
        "# max_iter = total number of maximum iterations\n",
        "# learning_rate (invscaling) = says that choose a learning rate and reduce the learning rate automatically\n",
        "# tol = stop the iteration if the difference between current and previous is this value\n",
        "# random_state = seed for random numbers (for predictability)\n",
        "\n",
        "model = SGDRegressor(learning_rate='invscaling', max_iter=112500, tol=1e-4, random_state=5)"
      ],
      "execution_count": 0,
      "outputs": []
    },
    {
      "cell_type": "markdown",
      "metadata": {
        "id": "eOBh2vmBWMdP",
        "colab_type": "text"
      },
      "source": [
        "If your max_iter in the model gets over, before it reaches the tol defined in the model, it gives a warning of MaxConvergeWarning. To fix the warning, you need to increase your iterations so that the cost function can be further optimized"
      ]
    },
    {
      "cell_type": "code",
      "metadata": {
        "id": "VYacXqsdAWQf",
        "colab_type": "code",
        "outputId": "06709824-41ad-43bf-f46f-617421a04b81",
        "colab": {
          "base_uri": "https://localhost:8080/",
          "height": 51
        }
      },
      "source": [
        "# Training the model\n",
        "\n",
        "model.fit(area, price)\n",
        "\n",
        "print(\"Value of m: \", model.coef_)\n",
        "print(\"Value of c: \", model.intercept_)"
      ],
      "execution_count": 0,
      "outputs": [
        {
          "output_type": "stream",
          "text": [
            "Value of m:  [92.80769678]\n",
            "Value of c:  [51.32612339]\n"
          ],
          "name": "stdout"
        }
      ]
    },
    {
      "cell_type": "code",
      "metadata": {
        "id": "J043mpPDBQKB",
        "colab_type": "code",
        "outputId": "03a8fa53-57e4-40d8-8115-9a76742652f4",
        "colab": {
          "base_uri": "https://localhost:8080/",
          "height": 34
        }
      },
      "source": [
        "# Predicting the value\n",
        "\n",
        "model.predict([[1.7]])"
      ],
      "execution_count": 0,
      "outputs": [
        {
          "output_type": "execute_result",
          "data": {
            "text/plain": [
              "array([209.09920792])"
            ]
          },
          "metadata": {
            "tags": []
          },
          "execution_count": 69
        }
      ]
    },
    {
      "cell_type": "markdown",
      "metadata": {
        "id": "Ffi2d_1fFgKI",
        "colab_type": "text"
      },
      "source": [
        "## Working with real data\n",
        "\n",
        "Generally these are the steps for working with real data:\n",
        "<ul>\n",
        "  <li>Data exploration</li>\n",
        "  <li>Cleaning</li>\n",
        "  <li>Feature Engineering: Extraction and selection</li>\n",
        "  <li>Pre-processing</li>\n",
        "  <li>Machine Learning model</li>\n",
        "  <li>Evaluation of performance</li>\n",
        "  <li>Optimizing model for prediction</li>\n",
        "  <li>Exporting trained model</li>\n",
        "  <li>Deployment</li>\n",
        "  <li>Monitoring</li>\n",
        "</ul>"
      ]
    },
    {
      "cell_type": "code",
      "metadata": {
        "id": "gbXIubCwFlxY",
        "colab_type": "code",
        "colab": {}
      },
      "source": [
        "import numpy as np\n",
        "import pandas as pd\n",
        "import matplotlib.pyplot as plt\n",
        "import seaborn as sns"
      ],
      "execution_count": 0,
      "outputs": []
    },
    {
      "cell_type": "markdown",
      "metadata": {
        "id": "T7Je-XejH9HC",
        "colab_type": "text"
      },
      "source": [
        "### Data exploration"
      ]
    },
    {
      "cell_type": "code",
      "metadata": {
        "id": "qO-X--7_Fv_1",
        "colab_type": "code",
        "outputId": "613c230b-cbfa-43ed-a302-291613ada0b8",
        "colab": {
          "base_uri": "https://localhost:8080/",
          "height": 323
        }
      },
      "source": [
        "# Using the data from http://archive.ics.uci.edu/ml/datasets/Combined+Cycle+Power+Plant\n",
        "\n",
        "data_file = pd.read_excel('/content/Folds5x2_pp.xlsx')\n",
        "print(data_file.shape)\n",
        "print(data_file.head())\n",
        "print(data_file.info())"
      ],
      "execution_count": 0,
      "outputs": [
        {
          "output_type": "stream",
          "text": [
            "(9568, 5)\n",
            "      AT      V       AP     RH      PE\n",
            "0  14.96  41.76  1024.07  73.17  463.26\n",
            "1  25.18  62.96  1020.04  59.08  444.37\n",
            "2   5.11  39.40  1012.16  92.14  488.56\n",
            "3  20.86  57.32  1010.24  76.64  446.48\n",
            "4  10.82  37.50  1009.23  96.62  473.90\n",
            "<class 'pandas.core.frame.DataFrame'>\n",
            "RangeIndex: 9568 entries, 0 to 9567\n",
            "Data columns (total 5 columns):\n",
            "AT    9568 non-null float64\n",
            "V     9568 non-null float64\n",
            "AP    9568 non-null float64\n",
            "RH    9568 non-null float64\n",
            "PE    9568 non-null float64\n",
            "dtypes: float64(5)\n",
            "memory usage: 373.8 KB\n",
            "None\n"
          ],
          "name": "stdout"
        }
      ]
    },
    {
      "cell_type": "markdown",
      "metadata": {
        "id": "2FDn5JliIA43",
        "colab_type": "text"
      },
      "source": [
        "### Data cleaning"
      ]
    },
    {
      "cell_type": "code",
      "metadata": {
        "id": "uUDBW0_-IC8v",
        "colab_type": "code",
        "outputId": "6c56a2eb-6d2c-4dc1-aaa0-937ebfddd17c",
        "colab": {
          "base_uri": "https://localhost:8080/",
          "height": 136
        }
      },
      "source": [
        "print(data_file.duplicated().sum())\n",
        "print(data_file.isnull().sum())"
      ],
      "execution_count": 0,
      "outputs": [
        {
          "output_type": "stream",
          "text": [
            "41\n",
            "AT    0\n",
            "V     0\n",
            "AP    0\n",
            "RH    0\n",
            "PE    0\n",
            "dtype: int64\n"
          ],
          "name": "stdout"
        }
      ]
    },
    {
      "cell_type": "markdown",
      "metadata": {
        "id": "KxPtwMbLIZXj",
        "colab_type": "text"
      },
      "source": [
        "As it is naturally possible to have duplicates with this kind of data, based on the understanding, so we will not drop the duplicates, although we can see there are total of 41 duplicates"
      ]
    },
    {
      "cell_type": "markdown",
      "metadata": {
        "id": "eMGfdejnI2GE",
        "colab_type": "text"
      },
      "source": [
        "### Feature Engineering"
      ]
    },
    {
      "cell_type": "code",
      "metadata": {
        "id": "y5a0uKHtI5OH",
        "colab_type": "code",
        "outputId": "98dfa35c-1912-4c73-d11f-12f20a1c4f4e",
        "colab": {
          "base_uri": "https://localhost:8080/",
          "height": 378
        }
      },
      "source": [
        "# Using correlation here so that we can see if linear regression is going to be \n",
        "# a good fit. \n",
        "\n",
        "cor = data_file.corr()\n",
        "plt.figure(figsize=(8,6))\n",
        "sns.heatmap(cor, annot=True, cmap=\"coolwarm\")\n",
        "plt.show()"
      ],
      "execution_count": 0,
      "outputs": [
        {
          "output_type": "display_data",
          "data": {
            "image/png": "[encoded data removed]",
            "text/plain": [
              "<Figure size 576x432 with 2 Axes>"
            ]
          },
          "metadata": {
            "tags": []
          }
        }
      ]
    },
    {
      "cell_type": "markdown",
      "metadata": {
        "id": "PyGDmzF7M_tr",
        "colab_type": "text"
      },
      "source": [
        "As can be seen from the chart above, PE (which is our label) has a good correlation with all the other variables. This means that every other variable will impact it directly and therefore Linear Regression is a good fit."
      ]
    },
    {
      "cell_type": "markdown",
      "metadata": {
        "id": "KfTk_tQ5TUv9",
        "colab_type": "text"
      },
      "source": [
        "### Pre-processing"
      ]
    },
    {
      "cell_type": "code",
      "metadata": {
        "id": "PXQmrQ4gOVKX",
        "colab_type": "code",
        "colab": {}
      },
      "source": [
        "# Creating x and y from the input data_file\n",
        "\n",
        "x = data_file.drop([\"PE\"], axis=1)\n",
        "y = data_file['PE']"
      ],
      "execution_count": 0,
      "outputs": []
    },
    {
      "cell_type": "code",
      "metadata": {
        "id": "346AWYYAPgkh",
        "colab_type": "code",
        "outputId": "eacbcfdc-4085-429e-b29e-5509cc121e33",
        "colab": {
          "base_uri": "https://localhost:8080/",
          "height": 476
        }
      },
      "source": [
        "# Creating training set and validation set\n",
        "\n",
        "from sklearn.model_selection import train_test_split\n",
        "x_training, x_test, y_training, y_test = train_test_split(x, y, test_size=0.2)\n",
        "\n",
        "x.info()\n",
        "x_training.info()\n",
        "x_test.info()"
      ],
      "execution_count": 0,
      "outputs": [
        {
          "output_type": "stream",
          "text": [
            "<class 'pandas.core.frame.DataFrame'>\n",
            "RangeIndex: 9568 entries, 0 to 9567\n",
            "Data columns (total 4 columns):\n",
            "AT    9568 non-null float64\n",
            "V     9568 non-null float64\n",
            "AP    9568 non-null float64\n",
            "RH    9568 non-null float64\n",
            "dtypes: float64(4)\n",
            "memory usage: 299.1 KB\n",
            "<class 'pandas.core.frame.DataFrame'>\n",
            "Int64Index: 7654 entries, 445 to 3079\n",
            "Data columns (total 4 columns):\n",
            "AT    7654 non-null float64\n",
            "V     7654 non-null float64\n",
            "AP    7654 non-null float64\n",
            "RH    7654 non-null float64\n",
            "dtypes: float64(4)\n",
            "memory usage: 299.0 KB\n",
            "<class 'pandas.core.frame.DataFrame'>\n",
            "Int64Index: 1914 entries, 5979 to 5104\n",
            "Data columns (total 4 columns):\n",
            "AT    1914 non-null float64\n",
            "V     1914 non-null float64\n",
            "AP    1914 non-null float64\n",
            "RH    1914 non-null float64\n",
            "dtypes: float64(4)\n",
            "memory usage: 74.8 KB\n"
          ],
          "name": "stdout"
        }
      ]
    },
    {
      "cell_type": "markdown",
      "metadata": {
        "id": "n24ZznYrTX2f",
        "colab_type": "text"
      },
      "source": [
        "### Machine Learning model"
      ]
    },
    {
      "cell_type": "code",
      "metadata": {
        "id": "Z6Abl5R9QCe0",
        "colab_type": "code",
        "outputId": "5a743d43-5ecf-4244-d3c3-779e0793ec4a",
        "colab": {
          "base_uri": "https://localhost:8080/",
          "height": 34
        }
      },
      "source": [
        "from sklearn.linear_model import LinearRegression\n",
        "model = LinearRegression()\n",
        "\n",
        "model.fit(x_training, y_training)"
      ],
      "execution_count": 0,
      "outputs": [
        {
          "output_type": "execute_result",
          "data": {
            "text/plain": [
              "LinearRegression(copy_X=True, fit_intercept=True, n_jobs=None, normalize=False)"
            ]
          },
          "metadata": {
            "tags": []
          },
          "execution_count": 95
        }
      ]
    },
    {
      "cell_type": "markdown",
      "metadata": {
        "id": "_lQUope4TdRA",
        "colab_type": "text"
      },
      "source": [
        "### Evaluation of performance"
      ]
    },
    {
      "cell_type": "code",
      "metadata": {
        "id": "mHfNWXFmQhk3",
        "colab_type": "code",
        "outputId": "e0dde263-96ed-434f-b7a2-d36deae405a0",
        "colab": {
          "base_uri": "https://localhost:8080/",
          "height": 34
        }
      },
      "source": [
        "# Testing for only 1 data\n",
        "\n",
        "# Actual input from file (14.96  41.76  1024.07  73.17) \n",
        "# Actual output from file = 463.26\n",
        "\n",
        "test_input = np.array([14.96, 41.76, 1024.07, 73.17]).reshape(1, 4)\n",
        "model.predict(test_input)"
      ],
      "execution_count": 0,
      "outputs": [
        {
          "output_type": "execute_result",
          "data": {
            "text/plain": [
              "array([467.21799561])"
            ]
          },
          "metadata": {
            "tags": []
          },
          "execution_count": 101
        }
      ]
    },
    {
      "cell_type": "markdown",
      "metadata": {
        "id": "nQSyMdOqSAnS",
        "colab_type": "text"
      },
      "source": [
        "If you notice the output value is different. So you will almost never get the exact values. Its always an approximation."
      ]
    },
    {
      "cell_type": "code",
      "metadata": {
        "id": "1oamYwSTSkZY",
        "colab_type": "code",
        "outputId": "1f7fd59d-0157-4710-e407-51733d3b28ba",
        "colab": {
          "base_uri": "https://localhost:8080/",
          "height": 34
        }
      },
      "source": [
        "# Let's do prediction with the test data we prepared and then see how good it is \n",
        "# with using r-squared score. \n",
        "\n",
        "# If r2_score is higher then the prediction is good\n",
        "\n",
        "y_pred = model.predict(x_test)\n",
        "\n",
        "from sklearn.metrics import r2_score\n",
        "r2_score(y_test, y_pred)"
      ],
      "execution_count": 0,
      "outputs": [
        {
          "output_type": "execute_result",
          "data": {
            "text/plain": [
              "0.9272711555666701"
            ]
          },
          "metadata": {
            "tags": []
          },
          "execution_count": 102
        }
      ]
    },
    {
      "cell_type": "markdown",
      "metadata": {
        "id": "MWP86YPtTg7N",
        "colab_type": "text"
      },
      "source": [
        "### Export trained model"
      ]
    },
    {
      "cell_type": "code",
      "metadata": {
        "id": "XfeUEC6ATmDN",
        "colab_type": "code",
        "outputId": "b7357434-1387-4e4e-fdb1-4a9cfbb153a2",
        "colab": {
          "base_uri": "https://localhost:8080/",
          "height": 34
        }
      },
      "source": [
        "import joblib\n",
        "\n",
        "# Extension can really be almost anything. The reason most people give .pickle is \n",
        "# that many people used the pickle library previously for saving, which used to \n",
        "# create .pickle extensions\n",
        "joblib.dump(model, '/content/model_test.pickle')"
      ],
      "execution_count": 0,
      "outputs": [
        {
          "output_type": "execute_result",
          "data": {
            "text/plain": [
              "['/content/model_test.pickle']"
            ]
          },
          "metadata": {
            "tags": []
          },
          "execution_count": 104
        }
      ]
    },
    {
      "cell_type": "markdown",
      "metadata": {
        "id": "zjGJwLq-UcmA",
        "colab_type": "text"
      },
      "source": [
        "### Using already trained model"
      ]
    },
    {
      "cell_type": "code",
      "metadata": {
        "id": "ys9Uvpu0UXdU",
        "colab_type": "code",
        "outputId": "85996391-942a-434c-9c69-88213d41e1fe",
        "colab": {
          "base_uri": "https://localhost:8080/",
          "height": 34
        }
      },
      "source": [
        "import joblib\n",
        "\n",
        "model = joblib.load('/content/model_test.pickle')\n",
        "model.predict([[14.96, 41.76, 1024.07, 73.17]])"
      ],
      "execution_count": 0,
      "outputs": [
        {
          "output_type": "execute_result",
          "data": {
            "text/plain": [
              "array([467.21799561])"
            ]
          },
          "metadata": {
            "tags": []
          },
          "execution_count": 105
        }
      ]
    },
    {
      "cell_type": "markdown",
      "metadata": {
        "id": "ox3Kb_tbXw2K",
        "colab_type": "text"
      },
      "source": [
        "# Logistic Regression\n",
        "\n",
        "Used for classification (not for regression)\n",
        "\n",
        "But it is an extension of Linear Regression"
      ]
    },
    {
      "cell_type": "markdown",
      "metadata": {
        "id": "0gmF25_ZbAEE",
        "colab_type": "text"
      },
      "source": [
        "## Experimenting with some banking data"
      ]
    },
    {
      "cell_type": "code",
      "metadata": {
        "id": "PElril1yX7h3",
        "colab_type": "code",
        "colab": {}
      },
      "source": [
        "import numpy as np\n",
        "import matplotlib.pyplot as plt\n",
        "import pandas as pd\n",
        "import seaborn as sns"
      ],
      "execution_count": 0,
      "outputs": []
    },
    {
      "cell_type": "markdown",
      "metadata": {
        "id": "J208gG9fbEHU",
        "colab_type": "text"
      },
      "source": [
        "### Data exploration"
      ]
    },
    {
      "cell_type": "code",
      "metadata": {
        "id": "oNdnLZxYYHPl",
        "colab_type": "code",
        "outputId": "8f1457c6-98b0-4b39-d7e7-077d5a6b30d6",
        "colab": {
          "base_uri": "https://localhost:8080/",
          "height": 442
        }
      },
      "source": [
        "data_file = pd.read_csv('/content/Bank_churn_modelling.csv')\n",
        "\n",
        "print(data_file.shape)\n",
        "print(data_file.columns)\n",
        "print(data_file.info())"
      ],
      "execution_count": 0,
      "outputs": [
        {
          "output_type": "stream",
          "text": [
            "(10000, 14)\n",
            "Index(['RowNumber', 'CustomerId', 'Surname', 'CreditScore', 'Geography',\n",
            "       'Gender', 'Age', 'Tenure', 'Balance', 'NumOfProducts', 'HasCrCard',\n",
            "       'IsActiveMember', 'EstimatedSalary', 'Exited'],\n",
            "      dtype='object')\n",
            "<class 'pandas.core.frame.DataFrame'>\n",
            "RangeIndex: 10000 entries, 0 to 9999\n",
            "Data columns (total 14 columns):\n",
            "RowNumber          10000 non-null int64\n",
            "CustomerId         10000 non-null int64\n",
            "Surname            10000 non-null object\n",
            "CreditScore        10000 non-null int64\n",
            "Geography          10000 non-null object\n",
            "Gender             10000 non-null object\n",
            "Age                10000 non-null int64\n",
            "Tenure             10000 non-null int64\n",
            "Balance            10000 non-null float64\n",
            "NumOfProducts      10000 non-null int64\n",
            "HasCrCard          10000 non-null int64\n",
            "IsActiveMember     10000 non-null int64\n",
            "EstimatedSalary    10000 non-null float64\n",
            "Exited             10000 non-null int64\n",
            "dtypes: float64(2), int64(9), object(3)\n",
            "memory usage: 1.1+ MB\n",
            "None\n"
          ],
          "name": "stdout"
        }
      ]
    },
    {
      "cell_type": "markdown",
      "metadata": {
        "id": "Dnbe6Z6sYlLd",
        "colab_type": "text"
      },
      "source": [
        "In the info() information, if type is object, then it means that there are things like . or ? or impurities like that"
      ]
    },
    {
      "cell_type": "code",
      "metadata": {
        "id": "km9u0W1gYxAO",
        "colab_type": "code",
        "outputId": "1556577b-deed-4c03-c7e3-5d03e0163fbf",
        "colab": {
          "base_uri": "https://localhost:8080/",
          "height": 51
        }
      },
      "source": [
        "# Looking at all the unique values for the Geography\n",
        "\n",
        "print(data_file[\"Geography\"].unique())\n",
        "print(data_file[\"Tenure\"].unique())"
      ],
      "execution_count": 0,
      "outputs": [
        {
          "output_type": "stream",
          "text": [
            "['France' 'Spain' 'Germany']\n",
            "[ 2  1  8  7  4  6  3 10  5  9  0]\n"
          ],
          "name": "stdout"
        }
      ]
    },
    {
      "cell_type": "markdown",
      "metadata": {
        "id": "-1w4dXtdbHz2",
        "colab_type": "text"
      },
      "source": [
        "### Data cleaning"
      ]
    },
    {
      "cell_type": "code",
      "metadata": {
        "id": "cGfvGSUbZGjc",
        "colab_type": "code",
        "outputId": "cb876ff7-3115-4add-ef9d-a7f5eab8be86",
        "colab": {
          "base_uri": "https://localhost:8080/",
          "height": 425
        }
      },
      "source": [
        "print(data_file.duplicated().sum())\n",
        "print(data_file.isnull().sum())\n",
        "\n",
        "print(data_file.columns)\n",
        "data_file.drop(labels=[\"RowNumber\", \"CustomerId\", \"Surname\"], axis=1, inplace=True)\n",
        "\n",
        "print(data_file.columns)"
      ],
      "execution_count": 0,
      "outputs": [
        {
          "output_type": "stream",
          "text": [
            "0\n",
            "RowNumber          0\n",
            "CustomerId         0\n",
            "Surname            0\n",
            "CreditScore        0\n",
            "Geography          0\n",
            "Gender             0\n",
            "Age                0\n",
            "Tenure             0\n",
            "Balance            0\n",
            "NumOfProducts      0\n",
            "HasCrCard          0\n",
            "IsActiveMember     0\n",
            "EstimatedSalary    0\n",
            "Exited             0\n",
            "dtype: int64\n",
            "Index(['RowNumber', 'CustomerId', 'Surname', 'CreditScore', 'Geography',\n",
            "       'Gender', 'Age', 'Tenure', 'Balance', 'NumOfProducts', 'HasCrCard',\n",
            "       'IsActiveMember', 'EstimatedSalary', 'Exited'],\n",
            "      dtype='object')\n",
            "Index(['CreditScore', 'Geography', 'Gender', 'Age', 'Tenure', 'Balance',\n",
            "       'NumOfProducts', 'HasCrCard', 'IsActiveMember', 'EstimatedSalary',\n",
            "       'Exited'],\n",
            "      dtype='object')\n"
          ],
          "name": "stdout"
        }
      ]
    },
    {
      "cell_type": "markdown",
      "metadata": {
        "id": "mCgjYUPCbKmH",
        "colab_type": "text"
      },
      "source": [
        "### Feature Engineering"
      ]
    },
    {
      "cell_type": "code",
      "metadata": {
        "id": "H7vuyL-xaE8U",
        "colab_type": "code",
        "outputId": "2880cf5b-c4a1-468f-e53f-1ced0a1111c2",
        "colab": {
          "base_uri": "https://localhost:8080/",
          "height": 667
        }
      },
      "source": [
        "cor = data_file.corr()\n",
        "\n",
        "plt.figure(figsize=(12, 10))\n",
        "sns.heatmap(cor, cmap=\"coolwarm\", annot=True)\n",
        "plt.show()"
      ],
      "execution_count": 0,
      "outputs": [
        {
          "output_type": "display_data",
          "data": {
            "image/png": "[encoded data removed]",
            "text/plain": [
              "<Figure size 864x720 with 2 Axes>"
            ]
          },
          "metadata": {
            "tags": []
          }
        }
      ]
    },
    {
      "cell_type": "markdown",
      "metadata": {
        "id": "ZopgizZqanui",
        "colab_type": "text"
      },
      "source": [
        "If you look at the heat map, then we can see that no column has really good correlation with the label (i.e. Exited). So this is not a good candidate for Linear Regression. Maybe more of Logistic Regression."
      ]
    },
    {
      "cell_type": "markdown",
      "metadata": {
        "id": "qCvM6f5VbQks",
        "colab_type": "text"
      },
      "source": [
        "### Pre-processing"
      ]
    },
    {
      "cell_type": "code",
      "metadata": {
        "id": "d1CZ0gpfb3lE",
        "colab_type": "code",
        "colab": {}
      },
      "source": [
        "# Creating x and y data from data_file\n",
        "\n",
        "x = data_file.drop([\"Exited\"], axis=1)\n",
        "y = data_file[\"Exited\"]"
      ],
      "execution_count": 0,
      "outputs": []
    },
    {
      "cell_type": "code",
      "metadata": {
        "id": "H_qhkUc8bSdb",
        "colab_type": "code",
        "outputId": "f9a4533e-e562-44a3-fe46-e43f2530c78f",
        "colab": {
          "base_uri": "https://localhost:8080/",
          "height": 153
        }
      },
      "source": [
        "# Because geography and gender are categorical values, we need them to be converted \n",
        "# to numerical values. So we will encode these values\n",
        "\n",
        "from sklearn.preprocessing import LabelEncoder\n",
        "\n",
        "geography_encoder = LabelEncoder()\n",
        "gender_encoder = LabelEncoder()\n",
        "\n",
        "x[\"Geography\"] = geography_encoder.fit_transform(x[\"Geography\"])\n",
        "x[\"Gender\"] = gender_encoder.fit_transform(x[\"Gender\"])\n",
        "\n",
        "print(x.head())"
      ],
      "execution_count": 0,
      "outputs": [
        {
          "output_type": "stream",
          "text": [
            "   CreditScore  Geography  Gender  ...  HasCrCard  IsActiveMember  EstimatedSalary\n",
            "0          619          0       0  ...          1               1        101348.88\n",
            "1          608          2       0  ...          0               1        112542.58\n",
            "2          502          0       0  ...          1               0        113931.57\n",
            "3          699          0       0  ...          0               0         93826.63\n",
            "4          850          2       0  ...          1               1         79084.10\n",
            "\n",
            "[5 rows x 10 columns]\n"
          ],
          "name": "stdout"
        }
      ]
    },
    {
      "cell_type": "markdown",
      "metadata": {
        "id": "ThI7mdjQdNfz",
        "colab_type": "text"
      },
      "source": [
        "Here, gender is 0 and 1 (which are binary), so there is no issue.\n",
        "\n",
        "But as far as geography is concerned, it became 0, 1 and 2 (which will behave like a numerical data). So, we need to one-hot encode the geography_encode further."
      ]
    },
    {
      "cell_type": "code",
      "metadata": {
        "id": "XSDO-pTHdH60",
        "colab_type": "code",
        "outputId": "ae53bb54-1342-4602-ac82-de696b9593c0",
        "colab": {
          "base_uri": "https://localhost:8080/",
          "height": 156
        }
      },
      "source": [
        "# One-hot encoding of Geography\n",
        "\n",
        "from sklearn.preprocessing import OneHotEncoder\n",
        "\n",
        "one_hot_encoder = OneHotEncoder(categorical_features=[1])\n",
        "x = one_hot_encoder.fit_transform(x).toarray()\n",
        "\n",
        "x.shape"
      ],
      "execution_count": 0,
      "outputs": [
        {
          "output_type": "stream",
          "text": [
            "/usr/local/lib/python3.6/dist-packages/sklearn/preprocessing/_encoders.py:415: FutureWarning: The handling of integer data will change in version 0.22. Currently, the categories are determined based on the range [0, max(values)], while in the future they will be determined based on the unique values.\n",
            "If you want the future behaviour and silence this warning, you can specify \"categories='auto'\".\n",
            "In case you used a LabelEncoder before this OneHotEncoder to convert the categories to integers, then you can now use the OneHotEncoder directly.\n",
            "  warnings.warn(msg, FutureWarning)\n",
            "/usr/local/lib/python3.6/dist-packages/sklearn/preprocessing/_encoders.py:451: DeprecationWarning: The 'categorical_features' keyword is deprecated in version 0.20 and will be removed in 0.22. You can use the ColumnTransformer instead.\n",
            "  \"use the ColumnTransformer instead.\", DeprecationWarning)\n"
          ],
          "name": "stderr"
        },
        {
          "output_type": "execute_result",
          "data": {
            "text/plain": [
              "(10000, 12)"
            ]
          },
          "metadata": {
            "tags": []
          },
          "execution_count": 8
        }
      ]
    },
    {
      "cell_type": "code",
      "metadata": {
        "id": "xpdH1iKSkzUb",
        "colab_type": "code",
        "outputId": "e3aabb41-0f91-4658-ef0b-dcf2696eb731",
        "colab": {
          "base_uri": "https://localhost:8080/",
          "height": 34
        }
      },
      "source": [
        "# Feature scaling\n",
        "\n",
        "from sklearn.preprocessing import StandardScaler\n",
        "\n",
        "scaler = StandardScaler()\n",
        "x = scaler.fit_transform(x)\n",
        "\n",
        "print(x.shape)"
      ],
      "execution_count": 0,
      "outputs": [
        {
          "output_type": "stream",
          "text": [
            "(10000, 12)\n"
          ],
          "name": "stdout"
        }
      ]
    },
    {
      "cell_type": "code",
      "metadata": {
        "id": "-qJHgCVXPqeq",
        "colab_type": "code",
        "colab": {}
      },
      "source": [
        "from sklearn.model_selection import train_test_split\n",
        "\n",
        "x_training, x_test, y_training, y_test = train_test_split(x, y, test_size=0.2, random_state=5)"
      ],
      "execution_count": 0,
      "outputs": []
    },
    {
      "cell_type": "markdown",
      "metadata": {
        "id": "iZRIT1-WfexR",
        "colab_type": "text"
      },
      "source": [
        "### Machine Learning Model"
      ]
    },
    {
      "cell_type": "code",
      "metadata": {
        "id": "4_z1eOaNevjZ",
        "colab_type": "code",
        "outputId": "ef7bab72-904b-4613-d9ac-779e54fb4152",
        "colab": {
          "base_uri": "https://localhost:8080/",
          "height": 156
        }
      },
      "source": [
        "from sklearn.linear_model import LogisticRegression\n",
        "\n",
        "model = LogisticRegression(random_state=5)\n",
        "model.fit(x_training, y_training)"
      ],
      "execution_count": 0,
      "outputs": [
        {
          "output_type": "stream",
          "text": [
            "/usr/local/lib/python3.6/dist-packages/sklearn/linear_model/logistic.py:432: FutureWarning: Default solver will be changed to 'lbfgs' in 0.22. Specify a solver to silence this warning.\n",
            "  FutureWarning)\n"
          ],
          "name": "stderr"
        },
        {
          "output_type": "execute_result",
          "data": {
            "text/plain": [
              "LogisticRegression(C=1.0, class_weight=None, dual=False, fit_intercept=True,\n",
              "                   intercept_scaling=1, l1_ratio=None, max_iter=100,\n",
              "                   multi_class='warn', n_jobs=None, penalty='l2',\n",
              "                   random_state=5, solver='warn', tol=0.0001, verbose=0,\n",
              "                   warm_start=False)"
            ]
          },
          "metadata": {
            "tags": []
          },
          "execution_count": 10
        }
      ]
    },
    {
      "cell_type": "markdown",
      "metadata": {
        "id": "HjrpyyGAgeJ4",
        "colab_type": "text"
      },
      "source": [
        "### Evaluation of performance"
      ]
    },
    {
      "cell_type": "code",
      "metadata": {
        "id": "fwxqaxtNgh3Y",
        "colab_type": "code",
        "outputId": "14b948e4-1659-4c34-f651-2e3cb8f34b94",
        "colab": {
          "base_uri": "https://localhost:8080/",
          "height": 34
        }
      },
      "source": [
        "# Testing for dummy data\n",
        "'''\n",
        "france, 650, female, age=52, tenure=3, balance=456212, numOfProd=3, crCard=1, active=1, salary=354682\n",
        "'''\n",
        "input_data = [1, 0, 0, 650, 0, 52, 3, 456212, 3, 1, 1, 354682]\n",
        "input_data = np.array(input_data).reshape(1, 12)\n",
        "model.predict(input_data)"
      ],
      "execution_count": 0,
      "outputs": [
        {
          "output_type": "execute_result",
          "data": {
            "text/plain": [
              "array([1])"
            ]
          },
          "metadata": {
            "tags": []
          },
          "execution_count": 11
        }
      ]
    },
    {
      "cell_type": "code",
      "metadata": {
        "id": "08-JDAP0hSd-",
        "colab_type": "code",
        "outputId": "b119b905-59f6-4adb-a7c0-62cf92ecc22d",
        "colab": {
          "base_uri": "https://localhost:8080/",
          "height": 119
        }
      },
      "source": [
        "# Checking for accuracy\n",
        "\n",
        "y_pred = model.predict(x_test)\n",
        "\n",
        "from sklearn import metrics\n",
        "\n",
        "print(metrics.accuracy_score(y_test, y_pred))\n",
        "print(metrics.recall_score(y_test, y_pred))\n",
        "print(metrics.confusion_matrix(y_test, y_pred))\n",
        "print(metrics.precision_score(y_test, y_pred))\n",
        "print(metrics.f1_score(y_test, y_pred))"
      ],
      "execution_count": 0,
      "outputs": [
        {
          "output_type": "stream",
          "text": [
            "0.809\n",
            "0.19753086419753085\n",
            "[[1538   57]\n",
            " [ 325   80]]\n",
            "0.583941605839416\n",
            "0.29520295202952024\n"
          ],
          "name": "stdout"
        }
      ]
    },
    {
      "cell_type": "markdown",
      "metadata": {
        "id": "-4OqM_cdhxIn",
        "colab_type": "text"
      },
      "source": [
        "For logistic regression, accuracy is a good measure of performance. But for linear regression, it isn't.\n",
        "\n",
        "\n",
        "But based on business objective, we need to see if only accuracy is the right measure of performance. In this case, recall is a good measure. Higher the recall, better the performance.\n",
        "\n",
        "There are other performance metrics as well like confusion matrix, precision and f1 score"
      ]
    },
    {
      "cell_type": "markdown",
      "metadata": {
        "id": "GIIR942DPCwk",
        "colab_type": "text"
      },
      "source": [
        "# Decision Tree\n",
        "\n",
        "Check for entropy for all data, then split based on that, then continue recursively"
      ]
    },
    {
      "cell_type": "markdown",
      "metadata": {
        "id": "5mQcMBaHidKm",
        "colab_type": "text"
      },
      "source": [
        "We are going to use the same dataset that is used in Logistic Regression section.\n",
        "\n",
        "Let's start with just building the model"
      ]
    },
    {
      "cell_type": "code",
      "metadata": {
        "id": "p2GbEH9UPF7m",
        "colab_type": "code",
        "outputId": "b2bbe71f-a510-406f-c791-2fd87c5e911a",
        "colab": {
          "base_uri": "https://localhost:8080/",
          "height": 119
        }
      },
      "source": [
        "from sklearn.tree import DecisionTreeClassifier\n",
        "decision_tree_model = DecisionTreeClassifier(criterion='gini', random_state=5)\n",
        "\n",
        "decision_tree_model.fit(x_training, y_training)"
      ],
      "execution_count": 0,
      "outputs": [
        {
          "output_type": "execute_result",
          "data": {
            "text/plain": [
              "DecisionTreeClassifier(class_weight=None, criterion='gini', max_depth=None,\n",
              "                       max_features=None, max_leaf_nodes=None,\n",
              "                       min_impurity_decrease=0.0, min_impurity_split=None,\n",
              "                       min_samples_leaf=1, min_samples_split=2,\n",
              "                       min_weight_fraction_leaf=0.0, presort=False,\n",
              "                       random_state=5, splitter='best')"
            ]
          },
          "metadata": {
            "tags": []
          },
          "execution_count": 16
        }
      ]
    },
    {
      "cell_type": "code",
      "metadata": {
        "id": "9M6bH-JQQJsY",
        "colab_type": "code",
        "outputId": "74de9c7c-830a-4753-c3ab-f08f3fea53b6",
        "colab": {
          "base_uri": "https://localhost:8080/",
          "height": 51
        }
      },
      "source": [
        "y_pred = decision_tree_model.predict(x_test)\n",
        "\n",
        "print(metrics.accuracy_score(y_test, y_pred))\n",
        "print(metrics.recall_score(y_test, y_pred))"
      ],
      "execution_count": 0,
      "outputs": [
        {
          "output_type": "stream",
          "text": [
            "0.782\n",
            "0.5111111111111111\n"
          ],
          "name": "stdout"
        }
      ]
    },
    {
      "cell_type": "markdown",
      "metadata": {
        "id": "CMkcOLZrT2Y1",
        "colab_type": "text"
      },
      "source": [
        "## Overfitting"
      ]
    },
    {
      "cell_type": "code",
      "metadata": {
        "id": "A504XqXDT4q-",
        "colab_type": "code",
        "outputId": "49e07076-5bd1-4f87-9188-1a17292fdb84",
        "colab": {
          "base_uri": "https://localhost:8080/",
          "height": 34
        }
      },
      "source": [
        "# Checking the performance for the training data itself\n",
        "\n",
        "print(metrics.recall_score(y_training, decision_tree_model.predict(x_training)))"
      ],
      "execution_count": 0,
      "outputs": [
        {
          "output_type": "stream",
          "text": [
            "1.0\n"
          ],
          "name": "stdout"
        }
      ]
    },
    {
      "cell_type": "markdown",
      "metadata": {
        "id": "_tfN9fUIUQyA",
        "colab_type": "text"
      },
      "source": [
        "Here the recall is 1.0, this means that complete data was filled. What this says is that, all data was fit properly to the training data. But it probably was overfit, because it didn't give such a good recall for test data."
      ]
    },
    {
      "cell_type": "markdown",
      "metadata": {
        "id": "2FfVGCmVU-up",
        "colab_type": "text"
      },
      "source": [
        "### Solving overfitting"
      ]
    },
    {
      "cell_type": "code",
      "metadata": {
        "id": "qEjJf-0rUDRy",
        "colab_type": "code",
        "outputId": "a6afbda1-7b5e-4a17-915c-2641ab847d6e",
        "colab": {
          "base_uri": "https://localhost:8080/",
          "height": 119
        }
      },
      "source": [
        "from sklearn.tree import DecisionTreeClassifier\n",
        "decision_tree_model = DecisionTreeClassifier(criterion='gini', \n",
        "                                             random_state=5,\n",
        "                                             max_depth=8, \n",
        "                                             min_samples_leaf=20,\n",
        "                                             min_samples_split=40,\n",
        "                                             max_leaf_nodes=30)\n",
        "\n",
        "decision_tree_model.fit(x_training, y_training)"
      ],
      "execution_count": 0,
      "outputs": [
        {
          "output_type": "execute_result",
          "data": {
            "text/plain": [
              "DecisionTreeClassifier(class_weight=None, criterion='gini', max_depth=8,\n",
              "                       max_features=None, max_leaf_nodes=30,\n",
              "                       min_impurity_decrease=0.0, min_impurity_split=None,\n",
              "                       min_samples_leaf=20, min_samples_split=40,\n",
              "                       min_weight_fraction_leaf=0.0, presort=False,\n",
              "                       random_state=5, splitter='best')"
            ]
          },
          "metadata": {
            "tags": []
          },
          "execution_count": 21
        }
      ]
    },
    {
      "cell_type": "code",
      "metadata": {
        "id": "H3FP5qmkVfKe",
        "colab_type": "code",
        "outputId": "0f93c016-c58b-4d96-b1c2-74a2514853da",
        "colab": {
          "base_uri": "https://localhost:8080/",
          "height": 51
        }
      },
      "source": [
        "y_pred = decision_tree_model.predict(x_test)\n",
        "\n",
        "print(metrics.accuracy_score(y_test, y_pred))\n",
        "print(metrics.recall_score(y_test, y_pred))"
      ],
      "execution_count": 0,
      "outputs": [
        {
          "output_type": "stream",
          "text": [
            "0.8545\n",
            "0.42962962962962964\n"
          ],
          "name": "stdout"
        }
      ]
    },
    {
      "cell_type": "code",
      "metadata": {
        "id": "APn3uOLeVq9Z",
        "colab_type": "code",
        "outputId": "99435fa7-02ca-44cf-e300-7429b7d9d892",
        "colab": {
          "base_uri": "https://localhost:8080/",
          "height": 34
        }
      },
      "source": [
        "# Checking the performance for the training data itself\n",
        "\n",
        "print(metrics.recall_score(y_training, decision_tree_model.predict(x_training)))"
      ],
      "execution_count": 0,
      "outputs": [
        {
          "output_type": "stream",
          "text": [
            "0.46568627450980393\n"
          ],
          "name": "stdout"
        }
      ]
    },
    {
      "cell_type": "markdown",
      "metadata": {
        "id": "EBEsFUGbVwbT",
        "colab_type": "text"
      },
      "source": [
        "Now you can see that recall for test data and training data is not so different. This means that things are good and at least there was no overfitting."
      ]
    },
    {
      "cell_type": "markdown",
      "metadata": {
        "id": "hsFiNdlpV6hW",
        "colab_type": "text"
      },
      "source": [
        "## GridSearch"
      ]
    },
    {
      "cell_type": "code",
      "metadata": {
        "id": "DTHOVcTNV8Kp",
        "colab_type": "code",
        "outputId": "bfc10f4c-a9a3-4517-cc09-20e4037d3f0b",
        "colab": {
          "base_uri": "https://localhost:8080/",
          "height": 479
        }
      },
      "source": [
        "from sklearn.model_selection import GridSearchCV\n",
        "\n",
        "params = {\n",
        "    \"max_depth\": np.arange(5, 20, 2),\n",
        "    \"min_samples_leaf\": np.arange(10, 80, 5),\n",
        "    \"min_samples_split\": np.arange(10, 100, 10)\n",
        "}\n",
        "\n",
        "search = GridSearchCV(DecisionTreeClassifier(random_state=5),\n",
        "                      param_grid=params,\n",
        "                      scoring=\"recall\",\n",
        "                      n_jobs=-1,\n",
        "                      verbose=True)\n",
        "\n",
        "search.fit(x, y)"
      ],
      "execution_count": 0,
      "outputs": [
        {
          "output_type": "stream",
          "text": [
            "Fitting 3 folds for each of 1008 candidates, totalling 3024 fits\n"
          ],
          "name": "stdout"
        },
        {
          "output_type": "stream",
          "text": [
            "/usr/local/lib/python3.6/dist-packages/sklearn/model_selection/_split.py:1978: FutureWarning: The default value of cv will change from 3 to 5 in version 0.22. Specify it explicitly to silence this warning.\n",
            "  warnings.warn(CV_WARNING, FutureWarning)\n",
            "[Parallel(n_jobs=-1)]: Using backend LokyBackend with 2 concurrent workers.\n",
            "[Parallel(n_jobs=-1)]: Done 165 tasks      | elapsed:    4.2s\n",
            "[Parallel(n_jobs=-1)]: Done 1065 tasks      | elapsed:   20.1s\n",
            "[Parallel(n_jobs=-1)]: Done 2565 tasks      | elapsed:   50.7s\n",
            "[Parallel(n_jobs=-1)]: Done 3024 out of 3024 | elapsed:   59.9s finished\n"
          ],
          "name": "stderr"
        },
        {
          "output_type": "execute_result",
          "data": {
            "text/plain": [
              "GridSearchCV(cv='warn', error_score='raise-deprecating',\n",
              "             estimator=DecisionTreeClassifier(class_weight=None,\n",
              "                                              criterion='gini', max_depth=None,\n",
              "                                              max_features=None,\n",
              "                                              max_leaf_nodes=None,\n",
              "                                              min_impurity_decrease=0.0,\n",
              "                                              min_impurity_split=None,\n",
              "                                              min_samples_leaf=1,\n",
              "                                              min_samples_split=2,\n",
              "                                              min_weight_fraction_leaf=0.0,\n",
              "                                              presort=False, random_state=5,\n",
              "                                              splitter='best'),\n",
              "             iid='warn', n_jobs=-1,\n",
              "             param_grid={'max_depth': array([ 5,  7,  9, 11, 13, 15, 17, 19]),\n",
              "                         'min_samples_leaf': array([10, 15, 20, 25, 30, 35, 40, 45, 50, 55, 60, 65, 70, 75]),\n",
              "                         'min_samples_split': array([10, 20, 30, 40, 50, 60, 70, 80, 90])},\n",
              "             pre_dispatch='2*n_jobs', refit=True, return_train_score=False,\n",
              "             scoring='recall', verbose=True)"
            ]
          },
          "metadata": {
            "tags": []
          },
          "execution_count": 29
        }
      ]
    },
    {
      "cell_type": "code",
      "metadata": {
        "id": "2YIqVpBDXnI7",
        "colab_type": "code",
        "outputId": "c3253efe-32f1-4fa2-fd09-86215795f4b4",
        "colab": {
          "base_uri": "https://localhost:8080/",
          "height": 51
        }
      },
      "source": [
        "print(search.best_params_)\n",
        "print(search.best_score_)"
      ],
      "execution_count": 0,
      "outputs": [
        {
          "output_type": "stream",
          "text": [
            "{'max_depth': 13, 'min_samples_leaf': 10, 'min_samples_split': 30}\n",
            "0.5022091310751104\n"
          ],
          "name": "stdout"
        }
      ]
    },
    {
      "cell_type": "markdown",
      "metadata": {
        "id": "lrIhzNsqX1Ox",
        "colab_type": "text"
      },
      "source": [
        "## Visualizing Decision Tree"
      ]
    },
    {
      "cell_type": "code",
      "metadata": {
        "id": "iHl5ynymX3ZD",
        "colab_type": "code",
        "colab": {}
      },
      "source": [
        "import graphviz\n",
        "from sklearn import tree"
      ],
      "execution_count": 0,
      "outputs": []
    },
    {
      "cell_type": "code",
      "metadata": {
        "id": "VNgQPzqPX54b",
        "colab_type": "code",
        "outputId": "75e9cd92-be79-48e1-aac4-0142514179c4",
        "colab": {
          "base_uri": "https://localhost:8080/",
          "height": 1000
        }
      },
      "source": [
        "fnames = ['France', 'Germany', 'Spain', 'CreditScore', 'Gender', 'Age', 'Tenure', 'Balance',\n",
        "       'NumOfProducts', 'HasCrCard', 'IsActiveMember', 'EstimatedSalary']\n",
        "\n",
        "cnames = ['Exited', 'Not Exited']\n",
        "\n",
        "graph_data = tree.export_graphviz(decision_tree_model, \n",
        "                                  out_file=None,\n",
        "                                  feature_names=fnames,\n",
        "                                  class_names=cnames,\n",
        "                                  rounded=True,\n",
        "                                  filled=True)\n",
        "\n",
        "graph = graphviz.Source(graph_data)\n",
        "graph"
      ],
      "execution_count": 0,
      "outputs": [
        {
          "output_type": "execute_result",
          "data": {
            "text/plain": [
              "<graphviz.files.Source at 0x7f09d8182cc0>"
            ],
            "image/svg+xml": "<?xml version=\"1.0\" encoding=\"UTF-8\" standalone=\"no\"?>\n<!DOCTYPE svg PUBLIC \"-//W3C//DTD SVG 1.1//EN\"\n \"http://www.w3.org/Graphics/SVG/1.1/DTD/svg11.dtd\">\n<!-- Generated by graphviz version 2.40.1 (20161225.0304)\n -->\n<!-- Title: Tree Pages: 1 -->\n<svg width=\"2039pt\" height=\"1028pt\"\n viewBox=\"0.00 0.00 2039.00 1028.00\" xmlns=\"http://www.w3.org/2000/svg\" xmlns:xlink=\"http://www.w3.org/1999/xlink\">\n<g id=\"graph0\" class=\"graph\" transform=\"scale(1 1) rotate(0) translate(4 1024)\">\n<title>Tree</title>\n<polygon fill=\"#ffffff\" stroke=\"transparent\" points=\"-4,4 -4,-1024 2035,-1024 2035,4 -4,4\"/>\n<!-- 0 -->\n<g id=\"node1\" class=\"node\">\n<title>0</title>\n<path fill=\"#eca16c\" stroke=\"#000000\" d=\"M1058.5,-1020C1058.5,-1020 933.5,-1020 933.5,-1020 927.5,-1020 921.5,-1014 921.5,-1008 921.5,-1008 921.5,-949 921.5,-949 921.5,-943 927.5,-937 933.5,-937 933.5,-937 1058.5,-937 1058.5,-937 1064.5,-937 1070.5,-943 1070.5,-949 1070.5,-949 1070.5,-1008 1070.5,-1008 1070.5,-1014 1064.5,-1020 1058.5,-1020\"/>\n<text text-anchor=\"middle\" x=\"996\" y=\"-1004.8\" font-family=\"Helvetica,sans-Serif\" font-size=\"14.00\" fill=\"#000000\">Age &lt;= 0.341</text>\n<text text-anchor=\"middle\" x=\"996\" y=\"-989.8\" font-family=\"Helvetica,sans-Serif\" font-size=\"14.00\" fill=\"#000000\">gini = 0.325</text>\n<text text-anchor=\"middle\" x=\"996\" y=\"-974.8\" font-family=\"Helvetica,sans-Serif\" font-size=\"14.00\" fill=\"#000000\">samples = 8000</text>\n<text text-anchor=\"middle\" x=\"996\" y=\"-959.8\" font-family=\"Helvetica,sans-Serif\" font-size=\"14.00\" fill=\"#000000\">value = [6368, 1632]</text>\n<text text-anchor=\"middle\" x=\"996\" y=\"-944.8\" font-family=\"Helvetica,sans-Serif\" font-size=\"14.00\" fill=\"#000000\">class = Exited</text>\n</g>\n<!-- 1 -->\n<g id=\"node2\" class=\"node\">\n<title>1</title>\n<path fill=\"#e89253\" stroke=\"#000000\" d=\"M930.5,-901C930.5,-901 773.5,-901 773.5,-901 767.5,-901 761.5,-895 761.5,-889 761.5,-889 761.5,-830 761.5,-830 761.5,-824 767.5,-818 773.5,-818 773.5,-818 930.5,-818 930.5,-818 936.5,-818 942.5,-824 942.5,-830 942.5,-830 942.5,-889 942.5,-889 942.5,-895 936.5,-901 930.5,-901\"/>\n<text text-anchor=\"middle\" x=\"852\" y=\"-885.8\" font-family=\"Helvetica,sans-Serif\" font-size=\"14.00\" fill=\"#000000\">NumOfProducts &lt;= 1.667</text>\n<text text-anchor=\"middle\" x=\"852\" y=\"-870.8\" font-family=\"Helvetica,sans-Serif\" font-size=\"14.00\" fill=\"#000000\">gini = 0.207</text>\n<text text-anchor=\"middle\" x=\"852\" y=\"-855.8\" font-family=\"Helvetica,sans-Serif\" font-size=\"14.00\" fill=\"#000000\">samples = 5681</text>\n<text text-anchor=\"middle\" x=\"852\" y=\"-840.8\" font-family=\"Helvetica,sans-Serif\" font-size=\"14.00\" fill=\"#000000\">value = [5016, 665]</text>\n<text text-anchor=\"middle\" x=\"852\" y=\"-825.8\" font-family=\"Helvetica,sans-Serif\" font-size=\"14.00\" fill=\"#000000\">class = Exited</text>\n</g>\n<!-- 0&#45;&gt;1 -->\n<g id=\"edge1\" class=\"edge\">\n<title>0&#45;&gt;1</title>\n<path fill=\"none\" stroke=\"#000000\" d=\"M945.6358,-936.8796C934.3015,-927.513 922.1785,-917.4948 910.5419,-907.8784\"/>\n<polygon fill=\"#000000\" stroke=\"#000000\" points=\"912.5173,-904.9703 902.5792,-901.2981 908.0581,-910.3663 912.5173,-904.9703\"/>\n<text text-anchor=\"middle\" x=\"904.9449\" y=\"-922.4859\" font-family=\"Helvetica,sans-Serif\" font-size=\"14.00\" fill=\"#000000\">True</text>\n</g>\n<!-- 2 -->\n<g id=\"node23\" class=\"node\">\n<title>2</title>\n<path fill=\"#f8dbc7\" stroke=\"#000000\" d=\"M1319,-901C1319,-901 1165,-901 1165,-901 1159,-901 1153,-895 1153,-889 1153,-889 1153,-830 1153,-830 1153,-824 1159,-818 1165,-818 1165,-818 1319,-818 1319,-818 1325,-818 1331,-824 1331,-830 1331,-830 1331,-889 1331,-889 1331,-895 1325,-901 1319,-901\"/>\n<text text-anchor=\"middle\" x=\"1242\" y=\"-885.8\" font-family=\"Helvetica,sans-Serif\" font-size=\"14.00\" fill=\"#000000\">IsActiveMember &lt;= &#45;0.03</text>\n<text text-anchor=\"middle\" x=\"1242\" y=\"-870.8\" font-family=\"Helvetica,sans-Serif\" font-size=\"14.00\" fill=\"#000000\">gini = 0.486</text>\n<text text-anchor=\"middle\" x=\"1242\" y=\"-855.8\" font-family=\"Helvetica,sans-Serif\" font-size=\"14.00\" fill=\"#000000\">samples = 2319</text>\n<text text-anchor=\"middle\" x=\"1242\" y=\"-840.8\" font-family=\"Helvetica,sans-Serif\" font-size=\"14.00\" fill=\"#000000\">value = [1352, 967]</text>\n<text text-anchor=\"middle\" x=\"1242\" y=\"-825.8\" font-family=\"Helvetica,sans-Serif\" font-size=\"14.00\" fill=\"#000000\">class = Exited</text>\n</g>\n<!-- 0&#45;&gt;2 -->\n<g id=\"edge22\" class=\"edge\">\n<title>0&#45;&gt;2</title>\n<path fill=\"none\" stroke=\"#000000\" d=\"M1070.8101,-942.3114C1094.7302,-930.7403 1121.5386,-917.772 1146.7132,-905.594\"/>\n<polygon fill=\"#000000\" stroke=\"#000000\" points=\"1148.4279,-908.6526 1155.9058,-901.1472 1145.3796,-902.3512 1148.4279,-908.6526\"/>\n<text text-anchor=\"middle\" x=\"1147.6903\" y=\"-921.0587\" font-family=\"Helvetica,sans-Serif\" font-size=\"14.00\" fill=\"#000000\">False</text>\n</g>\n<!-- 5 -->\n<g id=\"node3\" class=\"node\">\n<title>5</title>\n<path fill=\"#e88f50\" stroke=\"#000000\" d=\"M709.5,-782C709.5,-782 548.5,-782 548.5,-782 542.5,-782 536.5,-776 536.5,-770 536.5,-770 536.5,-711 536.5,-711 536.5,-705 542.5,-699 548.5,-699 548.5,-699 709.5,-699 709.5,-699 715.5,-699 721.5,-705 721.5,-711 721.5,-711 721.5,-770 721.5,-770 721.5,-776 715.5,-782 709.5,-782\"/>\n<text text-anchor=\"middle\" x=\"629\" y=\"-766.8\" font-family=\"Helvetica,sans-Serif\" font-size=\"14.00\" fill=\"#000000\">NumOfProducts &lt;= &#45;0.052</text>\n<text text-anchor=\"middle\" x=\"629\" y=\"-751.8\" font-family=\"Helvetica,sans-Serif\" font-size=\"14.00\" fill=\"#000000\">gini = 0.184</text>\n<text text-anchor=\"middle\" x=\"629\" y=\"-736.8\" font-family=\"Helvetica,sans-Serif\" font-size=\"14.00\" fill=\"#000000\">samples = 5556</text>\n<text text-anchor=\"middle\" x=\"629\" y=\"-721.8\" font-family=\"Helvetica,sans-Serif\" font-size=\"14.00\" fill=\"#000000\">value = [4985, 571]</text>\n<text text-anchor=\"middle\" x=\"629\" y=\"-706.8\" font-family=\"Helvetica,sans-Serif\" font-size=\"14.00\" fill=\"#000000\">class = Exited</text>\n</g>\n<!-- 1&#45;&gt;5 -->\n<g id=\"edge2\" class=\"edge\">\n<title>1&#45;&gt;5</title>\n<path fill=\"none\" stroke=\"#000000\" d=\"M774.0054,-817.8796C755.2475,-807.8697 735.0948,-797.1156 715.9572,-786.9031\"/>\n<polygon fill=\"#000000\" stroke=\"#000000\" points=\"717.4208,-783.7171 706.9505,-782.0969 714.1252,-789.8928 717.4208,-783.7171\"/>\n</g>\n<!-- 6 -->\n<g id=\"node20\" class=\"node\">\n<title>6</title>\n<path fill=\"#7abdee\" stroke=\"#000000\" d=\"M907.5,-782C907.5,-782 796.5,-782 796.5,-782 790.5,-782 784.5,-776 784.5,-770 784.5,-770 784.5,-711 784.5,-711 784.5,-705 790.5,-699 796.5,-699 796.5,-699 907.5,-699 907.5,-699 913.5,-699 919.5,-705 919.5,-711 919.5,-711 919.5,-770 919.5,-770 919.5,-776 913.5,-782 907.5,-782\"/>\n<text text-anchor=\"middle\" x=\"852\" y=\"-766.8\" font-family=\"Helvetica,sans-Serif\" font-size=\"14.00\" fill=\"#000000\">Balance &lt;= &#45;0.231</text>\n<text text-anchor=\"middle\" x=\"852\" y=\"-751.8\" font-family=\"Helvetica,sans-Serif\" font-size=\"14.00\" fill=\"#000000\">gini = 0.373</text>\n<text text-anchor=\"middle\" x=\"852\" y=\"-736.8\" font-family=\"Helvetica,sans-Serif\" font-size=\"14.00\" fill=\"#000000\">samples = 125</text>\n<text text-anchor=\"middle\" x=\"852\" y=\"-721.8\" font-family=\"Helvetica,sans-Serif\" font-size=\"14.00\" fill=\"#000000\">value = [31, 94]</text>\n<text text-anchor=\"middle\" x=\"852\" y=\"-706.8\" font-family=\"Helvetica,sans-Serif\" font-size=\"14.00\" fill=\"#000000\">class = Not Exited</text>\n</g>\n<!-- 1&#45;&gt;6 -->\n<g id=\"edge19\" class=\"edge\">\n<title>1&#45;&gt;6</title>\n<path fill=\"none\" stroke=\"#000000\" d=\"M852,-817.8796C852,-809.6838 852,-800.9891 852,-792.5013\"/>\n<polygon fill=\"#000000\" stroke=\"#000000\" points=\"855.5001,-792.298 852,-782.2981 848.5001,-792.2981 855.5001,-792.298\"/>\n</g>\n<!-- 11 -->\n<g id=\"node4\" class=\"node\">\n<title>11</title>\n<path fill=\"#ea9a61\" stroke=\"#000000\" d=\"M505,-663C505,-663 389,-663 389,-663 383,-663 377,-657 377,-651 377,-651 377,-592 377,-592 377,-586 383,-580 389,-580 389,-580 505,-580 505,-580 511,-580 517,-586 517,-592 517,-592 517,-651 517,-651 517,-657 511,-663 505,-663\"/>\n<text text-anchor=\"middle\" x=\"447\" y=\"-647.8\" font-family=\"Helvetica,sans-Serif\" font-size=\"14.00\" fill=\"#000000\">Germany &lt;= 0.575</text>\n<text text-anchor=\"middle\" x=\"447\" y=\"-632.8\" font-family=\"Helvetica,sans-Serif\" font-size=\"14.00\" fill=\"#000000\">gini = 0.278</text>\n<text text-anchor=\"middle\" x=\"447\" y=\"-617.8\" font-family=\"Helvetica,sans-Serif\" font-size=\"14.00\" fill=\"#000000\">samples = 2762</text>\n<text text-anchor=\"middle\" x=\"447\" y=\"-602.8\" font-family=\"Helvetica,sans-Serif\" font-size=\"14.00\" fill=\"#000000\">value = [2302, 460]</text>\n<text text-anchor=\"middle\" x=\"447\" y=\"-587.8\" font-family=\"Helvetica,sans-Serif\" font-size=\"14.00\" fill=\"#000000\">class = Exited</text>\n</g>\n<!-- 5&#45;&gt;11 -->\n<g id=\"edge3\" class=\"edge\">\n<title>5&#45;&gt;11</title>\n<path fill=\"none\" stroke=\"#000000\" d=\"M565.3452,-698.8796C550.3824,-689.0962 534.3323,-678.6019 519.0309,-668.5971\"/>\n<polygon fill=\"#000000\" stroke=\"#000000\" points=\"520.9039,-665.6401 510.6188,-663.0969 517.0731,-671.4989 520.9039,-665.6401\"/>\n</g>\n<!-- 12 -->\n<g id=\"node19\" class=\"node\">\n<title>12</title>\n<path fill=\"#e68641\" stroke=\"#000000\" d=\"M687,-655.5C687,-655.5 571,-655.5 571,-655.5 565,-655.5 559,-649.5 559,-643.5 559,-643.5 559,-599.5 559,-599.5 559,-593.5 565,-587.5 571,-587.5 571,-587.5 687,-587.5 687,-587.5 693,-587.5 699,-593.5 699,-599.5 699,-599.5 699,-643.5 699,-643.5 699,-649.5 693,-655.5 687,-655.5\"/>\n<text text-anchor=\"middle\" x=\"629\" y=\"-640.3\" font-family=\"Helvetica,sans-Serif\" font-size=\"14.00\" fill=\"#000000\">gini = 0.076</text>\n<text text-anchor=\"middle\" x=\"629\" y=\"-625.3\" font-family=\"Helvetica,sans-Serif\" font-size=\"14.00\" fill=\"#000000\">samples = 2794</text>\n<text text-anchor=\"middle\" x=\"629\" y=\"-610.3\" font-family=\"Helvetica,sans-Serif\" font-size=\"14.00\" fill=\"#000000\">value = [2683, 111]</text>\n<text text-anchor=\"middle\" x=\"629\" y=\"-595.3\" font-family=\"Helvetica,sans-Serif\" font-size=\"14.00\" fill=\"#000000\">class = Exited</text>\n</g>\n<!-- 5&#45;&gt;12 -->\n<g id=\"edge18\" class=\"edge\">\n<title>5&#45;&gt;12</title>\n<path fill=\"none\" stroke=\"#000000\" d=\"M629,-698.8796C629,-688.2134 629,-676.7021 629,-665.9015\"/>\n<polygon fill=\"#000000\" stroke=\"#000000\" points=\"632.5001,-665.8149 629,-655.8149 625.5001,-665.815 632.5001,-665.8149\"/>\n</g>\n<!-- 23 -->\n<g id=\"node5\" class=\"node\">\n<title>23</title>\n<path fill=\"#e99558\" stroke=\"#000000\" d=\"M323,-544C323,-544 207,-544 207,-544 201,-544 195,-538 195,-532 195,-532 195,-473 195,-473 195,-467 201,-461 207,-461 207,-461 323,-461 323,-461 329,-461 335,-467 335,-473 335,-473 335,-532 335,-532 335,-538 329,-544 323,-544\"/>\n<text text-anchor=\"middle\" x=\"265\" y=\"-528.8\" font-family=\"Helvetica,sans-Serif\" font-size=\"14.00\" fill=\"#000000\">Balance &lt;= &#45;0.037</text>\n<text text-anchor=\"middle\" x=\"265\" y=\"-513.8\" font-family=\"Helvetica,sans-Serif\" font-size=\"14.00\" fill=\"#000000\">gini = 0.234</text>\n<text text-anchor=\"middle\" x=\"265\" y=\"-498.8\" font-family=\"Helvetica,sans-Serif\" font-size=\"14.00\" fill=\"#000000\">samples = 2087</text>\n<text text-anchor=\"middle\" x=\"265\" y=\"-483.8\" font-family=\"Helvetica,sans-Serif\" font-size=\"14.00\" fill=\"#000000\">value = [1804, 283]</text>\n<text text-anchor=\"middle\" x=\"265\" y=\"-468.8\" font-family=\"Helvetica,sans-Serif\" font-size=\"14.00\" fill=\"#000000\">class = Exited</text>\n</g>\n<!-- 11&#45;&gt;23 -->\n<g id=\"edge4\" class=\"edge\">\n<title>11&#45;&gt;23</title>\n<path fill=\"none\" stroke=\"#000000\" d=\"M383.3452,-579.8796C368.3824,-570.0962 352.3323,-559.6019 337.0309,-549.5971\"/>\n<polygon fill=\"#000000\" stroke=\"#000000\" points=\"338.9039,-546.6401 328.6188,-544.0969 335.0731,-552.4989 338.9039,-546.6401\"/>\n</g>\n<!-- 24 -->\n<g id=\"node12\" class=\"node\">\n<title>24</title>\n<path fill=\"#eeae7f\" stroke=\"#000000\" d=\"M501,-544C501,-544 393,-544 393,-544 387,-544 381,-538 381,-532 381,-532 381,-473 381,-473 381,-467 387,-461 393,-461 393,-461 501,-461 501,-461 507,-461 513,-467 513,-473 513,-473 513,-532 513,-532 513,-538 507,-544 501,-544\"/>\n<text text-anchor=\"middle\" x=\"447\" y=\"-528.8\" font-family=\"Helvetica,sans-Serif\" font-size=\"14.00\" fill=\"#000000\">Age &lt;= &#45;0.517</text>\n<text text-anchor=\"middle\" x=\"447\" y=\"-513.8\" font-family=\"Helvetica,sans-Serif\" font-size=\"14.00\" fill=\"#000000\">gini = 0.387</text>\n<text text-anchor=\"middle\" x=\"447\" y=\"-498.8\" font-family=\"Helvetica,sans-Serif\" font-size=\"14.00\" fill=\"#000000\">samples = 675</text>\n<text text-anchor=\"middle\" x=\"447\" y=\"-483.8\" font-family=\"Helvetica,sans-Serif\" font-size=\"14.00\" fill=\"#000000\">value = [498, 177]</text>\n<text text-anchor=\"middle\" x=\"447\" y=\"-468.8\" font-family=\"Helvetica,sans-Serif\" font-size=\"14.00\" fill=\"#000000\">class = Exited</text>\n</g>\n<!-- 11&#45;&gt;24 -->\n<g id=\"edge11\" class=\"edge\">\n<title>11&#45;&gt;24</title>\n<path fill=\"none\" stroke=\"#000000\" d=\"M447,-579.8796C447,-571.6838 447,-562.9891 447,-554.5013\"/>\n<polygon fill=\"#000000\" stroke=\"#000000\" points=\"450.5001,-554.298 447,-544.2981 443.5001,-554.2981 450.5001,-554.298\"/>\n</g>\n<!-- 25 -->\n<g id=\"node6\" class=\"node\">\n<title>25</title>\n<path fill=\"#edaa79\" stroke=\"#000000\" d=\"M165,-417.5C165,-417.5 57,-417.5 57,-417.5 51,-417.5 45,-411.5 45,-405.5 45,-405.5 45,-361.5 45,-361.5 45,-355.5 51,-349.5 57,-349.5 57,-349.5 165,-349.5 165,-349.5 171,-349.5 177,-355.5 177,-361.5 177,-361.5 177,-405.5 177,-405.5 177,-411.5 171,-417.5 165,-417.5\"/>\n<text text-anchor=\"middle\" x=\"111\" y=\"-402.3\" font-family=\"Helvetica,sans-Serif\" font-size=\"14.00\" fill=\"#000000\">gini = 0.37</text>\n<text text-anchor=\"middle\" x=\"111\" y=\"-387.3\" font-family=\"Helvetica,sans-Serif\" font-size=\"14.00\" fill=\"#000000\">samples = 556</text>\n<text text-anchor=\"middle\" x=\"111\" y=\"-372.3\" font-family=\"Helvetica,sans-Serif\" font-size=\"14.00\" fill=\"#000000\">value = [420, 136]</text>\n<text text-anchor=\"middle\" x=\"111\" y=\"-357.3\" font-family=\"Helvetica,sans-Serif\" font-size=\"14.00\" fill=\"#000000\">class = Exited</text>\n</g>\n<!-- 23&#45;&gt;25 -->\n<g id=\"edge5\" class=\"edge\">\n<title>23&#45;&gt;25</title>\n<path fill=\"none\" stroke=\"#000000\" d=\"M211.1383,-460.8796C195.7696,-449.0038 179.0453,-436.0804 163.7441,-424.2568\"/>\n<polygon fill=\"#000000\" stroke=\"#000000\" points=\"165.4605,-421.1599 155.4076,-417.8149 161.1804,-426.699 165.4605,-421.1599\"/>\n</g>\n<!-- 26 -->\n<g id=\"node7\" class=\"node\">\n<title>26</title>\n<path fill=\"#e88e4e\" stroke=\"#000000\" d=\"M323,-425C323,-425 207,-425 207,-425 201,-425 195,-419 195,-413 195,-413 195,-354 195,-354 195,-348 201,-342 207,-342 207,-342 323,-342 323,-342 329,-342 335,-348 335,-354 335,-354 335,-413 335,-413 335,-419 329,-425 323,-425\"/>\n<text text-anchor=\"middle\" x=\"265\" y=\"-409.8\" font-family=\"Helvetica,sans-Serif\" font-size=\"14.00\" fill=\"#000000\">Balance &lt;= 1.623</text>\n<text text-anchor=\"middle\" x=\"265\" y=\"-394.8\" font-family=\"Helvetica,sans-Serif\" font-size=\"14.00\" fill=\"#000000\">gini = 0.174</text>\n<text text-anchor=\"middle\" x=\"265\" y=\"-379.8\" font-family=\"Helvetica,sans-Serif\" font-size=\"14.00\" fill=\"#000000\">samples = 1531</text>\n<text text-anchor=\"middle\" x=\"265\" y=\"-364.8\" font-family=\"Helvetica,sans-Serif\" font-size=\"14.00\" fill=\"#000000\">value = [1384, 147]</text>\n<text text-anchor=\"middle\" x=\"265\" y=\"-349.8\" font-family=\"Helvetica,sans-Serif\" font-size=\"14.00\" fill=\"#000000\">class = Exited</text>\n</g>\n<!-- 23&#45;&gt;26 -->\n<g id=\"edge6\" class=\"edge\">\n<title>23&#45;&gt;26</title>\n<path fill=\"none\" stroke=\"#000000\" d=\"M265,-460.8796C265,-452.6838 265,-443.9891 265,-435.5013\"/>\n<polygon fill=\"#000000\" stroke=\"#000000\" points=\"268.5001,-435.298 265,-425.2981 261.5001,-435.2981 268.5001,-435.298\"/>\n</g>\n<!-- 45 -->\n<g id=\"node8\" class=\"node\">\n<title>45</title>\n<path fill=\"#e78d4c\" stroke=\"#000000\" d=\"M191,-306C191,-306 75,-306 75,-306 69,-306 63,-300 63,-294 63,-294 63,-235 63,-235 63,-229 69,-223 75,-223 75,-223 191,-223 191,-223 197,-223 203,-229 203,-235 203,-235 203,-294 203,-294 203,-300 197,-306 191,-306\"/>\n<text text-anchor=\"middle\" x=\"133\" y=\"-290.8\" font-family=\"Helvetica,sans-Serif\" font-size=\"14.00\" fill=\"#000000\">Age &lt;= 0.055</text>\n<text text-anchor=\"middle\" x=\"133\" y=\"-275.8\" font-family=\"Helvetica,sans-Serif\" font-size=\"14.00\" fill=\"#000000\">gini = 0.157</text>\n<text text-anchor=\"middle\" x=\"133\" y=\"-260.8\" font-family=\"Helvetica,sans-Serif\" font-size=\"14.00\" fill=\"#000000\">samples = 1474</text>\n<text text-anchor=\"middle\" x=\"133\" y=\"-245.8\" font-family=\"Helvetica,sans-Serif\" font-size=\"14.00\" fill=\"#000000\">value = [1347, 127]</text>\n<text text-anchor=\"middle\" x=\"133\" y=\"-230.8\" font-family=\"Helvetica,sans-Serif\" font-size=\"14.00\" fill=\"#000000\">class = Exited</text>\n</g>\n<!-- 26&#45;&gt;45 -->\n<g id=\"edge7\" class=\"edge\">\n<title>26&#45;&gt;45</title>\n<path fill=\"none\" stroke=\"#000000\" d=\"M218.8328,-341.8796C208.5429,-332.6031 197.544,-322.6874 186.9713,-313.1559\"/>\n<polygon fill=\"#000000\" stroke=\"#000000\" points=\"189.1352,-310.3944 179.3642,-306.2981 184.4481,-315.5935 189.1352,-310.3944\"/>\n</g>\n<!-- 46 -->\n<g id=\"node11\" class=\"node\">\n<title>46</title>\n<path fill=\"#f3c5a4\" stroke=\"#000000\" d=\"M325,-298.5C325,-298.5 233,-298.5 233,-298.5 227,-298.5 221,-292.5 221,-286.5 221,-286.5 221,-242.5 221,-242.5 221,-236.5 227,-230.5 233,-230.5 233,-230.5 325,-230.5 325,-230.5 331,-230.5 337,-236.5 337,-242.5 337,-242.5 337,-286.5 337,-286.5 337,-292.5 331,-298.5 325,-298.5\"/>\n<text text-anchor=\"middle\" x=\"279\" y=\"-283.3\" font-family=\"Helvetica,sans-Serif\" font-size=\"14.00\" fill=\"#000000\">gini = 0.456</text>\n<text text-anchor=\"middle\" x=\"279\" y=\"-268.3\" font-family=\"Helvetica,sans-Serif\" font-size=\"14.00\" fill=\"#000000\">samples = 57</text>\n<text text-anchor=\"middle\" x=\"279\" y=\"-253.3\" font-family=\"Helvetica,sans-Serif\" font-size=\"14.00\" fill=\"#000000\">value = [37, 20]</text>\n<text text-anchor=\"middle\" x=\"279\" y=\"-238.3\" font-family=\"Helvetica,sans-Serif\" font-size=\"14.00\" fill=\"#000000\">class = Exited</text>\n</g>\n<!-- 26&#45;&gt;46 -->\n<g id=\"edge10\" class=\"edge\">\n<title>26&#45;&gt;46</title>\n<path fill=\"none\" stroke=\"#000000\" d=\"M269.8965,-341.8796C271.1514,-331.2134 272.5056,-319.7021 273.7763,-308.9015\"/>\n<polygon fill=\"#000000\" stroke=\"#000000\" points=\"277.2705,-309.1554 274.9629,-298.8149 270.3184,-308.3375 277.2705,-309.1554\"/>\n</g>\n<!-- 57 -->\n<g id=\"node9\" class=\"node\">\n<title>57</title>\n<path fill=\"#e78a48\" stroke=\"#000000\" d=\"M120,-179.5C120,-179.5 12,-179.5 12,-179.5 6,-179.5 0,-173.5 0,-167.5 0,-167.5 0,-123.5 0,-123.5 0,-117.5 6,-111.5 12,-111.5 12,-111.5 120,-111.5 120,-111.5 126,-111.5 132,-117.5 132,-123.5 132,-123.5 132,-167.5 132,-167.5 132,-173.5 126,-179.5 120,-179.5\"/>\n<text text-anchor=\"middle\" x=\"66\" y=\"-164.3\" font-family=\"Helvetica,sans-Serif\" font-size=\"14.00\" fill=\"#000000\">gini = 0.13</text>\n<text text-anchor=\"middle\" x=\"66\" y=\"-149.3\" font-family=\"Helvetica,sans-Serif\" font-size=\"14.00\" fill=\"#000000\">samples = 1248</text>\n<text text-anchor=\"middle\" x=\"66\" y=\"-134.3\" font-family=\"Helvetica,sans-Serif\" font-size=\"14.00\" fill=\"#000000\">value = [1161, 87]</text>\n<text text-anchor=\"middle\" x=\"66\" y=\"-119.3\" font-family=\"Helvetica,sans-Serif\" font-size=\"14.00\" fill=\"#000000\">class = Exited</text>\n</g>\n<!-- 45&#45;&gt;57 -->\n<g id=\"edge8\" class=\"edge\">\n<title>45&#45;&gt;57</title>\n<path fill=\"none\" stroke=\"#000000\" d=\"M109.5667,-222.8796C103.3137,-211.7735 96.5448,-199.7513 90.249,-188.5691\"/>\n<polygon fill=\"#000000\" stroke=\"#000000\" points=\"93.2761,-186.8116 85.3202,-179.8149 87.1765,-190.2459 93.2761,-186.8116\"/>\n</g>\n<!-- 58 -->\n<g id=\"node10\" class=\"node\">\n<title>58</title>\n<path fill=\"#eb9c64\" stroke=\"#000000\" d=\"M262,-179.5C262,-179.5 162,-179.5 162,-179.5 156,-179.5 150,-173.5 150,-167.5 150,-167.5 150,-123.5 150,-123.5 150,-117.5 156,-111.5 162,-111.5 162,-111.5 262,-111.5 262,-111.5 268,-111.5 274,-117.5 274,-123.5 274,-123.5 274,-167.5 274,-167.5 274,-173.5 268,-179.5 262,-179.5\"/>\n<text text-anchor=\"middle\" x=\"212\" y=\"-164.3\" font-family=\"Helvetica,sans-Serif\" font-size=\"14.00\" fill=\"#000000\">gini = 0.291</text>\n<text text-anchor=\"middle\" x=\"212\" y=\"-149.3\" font-family=\"Helvetica,sans-Serif\" font-size=\"14.00\" fill=\"#000000\">samples = 226</text>\n<text text-anchor=\"middle\" x=\"212\" y=\"-134.3\" font-family=\"Helvetica,sans-Serif\" font-size=\"14.00\" fill=\"#000000\">value = [186, 40]</text>\n<text text-anchor=\"middle\" x=\"212\" y=\"-119.3\" font-family=\"Helvetica,sans-Serif\" font-size=\"14.00\" fill=\"#000000\">class = Exited</text>\n</g>\n<!-- 45&#45;&gt;58 -->\n<g id=\"edge9\" class=\"edge\">\n<title>45&#45;&gt;58</title>\n<path fill=\"none\" stroke=\"#000000\" d=\"M160.6304,-222.8796C168.0763,-211.6636 176.1425,-199.5131 183.6282,-188.2372\"/>\n<polygon fill=\"#000000\" stroke=\"#000000\" points=\"186.6046,-190.082 189.2195,-179.8149 180.7727,-186.2104 186.6046,-190.082\"/>\n</g>\n<!-- 31 -->\n<g id=\"node13\" class=\"node\">\n<title>31</title>\n<path fill=\"#ea9a61\" stroke=\"#000000\" d=\"M465,-417.5C465,-417.5 365,-417.5 365,-417.5 359,-417.5 353,-411.5 353,-405.5 353,-405.5 353,-361.5 353,-361.5 353,-355.5 359,-349.5 365,-349.5 365,-349.5 465,-349.5 465,-349.5 471,-349.5 477,-355.5 477,-361.5 477,-361.5 477,-405.5 477,-405.5 477,-411.5 471,-417.5 465,-417.5\"/>\n<text text-anchor=\"middle\" x=\"415\" y=\"-402.3\" font-family=\"Helvetica,sans-Serif\" font-size=\"14.00\" fill=\"#000000\">gini = 0.28</text>\n<text text-anchor=\"middle\" x=\"415\" y=\"-387.3\" font-family=\"Helvetica,sans-Serif\" font-size=\"14.00\" fill=\"#000000\">samples = 315</text>\n<text text-anchor=\"middle\" x=\"415\" y=\"-372.3\" font-family=\"Helvetica,sans-Serif\" font-size=\"14.00\" fill=\"#000000\">value = [262, 53]</text>\n<text text-anchor=\"middle\" x=\"415\" y=\"-357.3\" font-family=\"Helvetica,sans-Serif\" font-size=\"14.00\" fill=\"#000000\">class = Exited</text>\n</g>\n<!-- 24&#45;&gt;31 -->\n<g id=\"edge12\" class=\"edge\">\n<title>24&#45;&gt;31</title>\n<path fill=\"none\" stroke=\"#000000\" d=\"M435.808,-460.8796C432.9102,-450.1034 429.7804,-438.4647 426.8501,-427.5677\"/>\n<polygon fill=\"#000000\" stroke=\"#000000\" points=\"430.2044,-426.563 424.2275,-417.8149 423.4445,-428.3808 430.2044,-426.563\"/>\n</g>\n<!-- 32 -->\n<g id=\"node14\" class=\"node\">\n<title>32</title>\n<path fill=\"#f3c3a1\" stroke=\"#000000\" d=\"M615,-425C615,-425 507,-425 507,-425 501,-425 495,-419 495,-413 495,-413 495,-354 495,-354 495,-348 501,-342 507,-342 507,-342 615,-342 615,-342 621,-342 627,-348 627,-354 627,-354 627,-413 627,-413 627,-419 621,-425 615,-425\"/>\n<text text-anchor=\"middle\" x=\"561\" y=\"-409.8\" font-family=\"Helvetica,sans-Serif\" font-size=\"14.00\" fill=\"#000000\">Balance &lt;= 0.222</text>\n<text text-anchor=\"middle\" x=\"561\" y=\"-394.8\" font-family=\"Helvetica,sans-Serif\" font-size=\"14.00\" fill=\"#000000\">gini = 0.452</text>\n<text text-anchor=\"middle\" x=\"561\" y=\"-379.8\" font-family=\"Helvetica,sans-Serif\" font-size=\"14.00\" fill=\"#000000\">samples = 360</text>\n<text text-anchor=\"middle\" x=\"561\" y=\"-364.8\" font-family=\"Helvetica,sans-Serif\" font-size=\"14.00\" fill=\"#000000\">value = [236, 124]</text>\n<text text-anchor=\"middle\" x=\"561\" y=\"-349.8\" font-family=\"Helvetica,sans-Serif\" font-size=\"14.00\" fill=\"#000000\">class = Exited</text>\n</g>\n<!-- 24&#45;&gt;32 -->\n<g id=\"edge13\" class=\"edge\">\n<title>24&#45;&gt;32</title>\n<path fill=\"none\" stroke=\"#000000\" d=\"M486.8717,-460.8796C495.5858,-451.7832 504.8888,-442.0722 513.8562,-432.7116\"/>\n<polygon fill=\"#000000\" stroke=\"#000000\" points=\"516.5678,-434.9405 520.9581,-425.2981 511.513,-430.098 516.5678,-434.9405\"/>\n</g>\n<!-- 41 -->\n<g id=\"node15\" class=\"node\">\n<title>41</title>\n<path fill=\"#e78a47\" stroke=\"#000000\" d=\"M464.5,-298.5C464.5,-298.5 381.5,-298.5 381.5,-298.5 375.5,-298.5 369.5,-292.5 369.5,-286.5 369.5,-286.5 369.5,-242.5 369.5,-242.5 369.5,-236.5 375.5,-230.5 381.5,-230.5 381.5,-230.5 464.5,-230.5 464.5,-230.5 470.5,-230.5 476.5,-236.5 476.5,-242.5 476.5,-242.5 476.5,-286.5 476.5,-286.5 476.5,-292.5 470.5,-298.5 464.5,-298.5\"/>\n<text text-anchor=\"middle\" x=\"423\" y=\"-283.3\" font-family=\"Helvetica,sans-Serif\" font-size=\"14.00\" fill=\"#000000\">gini = 0.124</text>\n<text text-anchor=\"middle\" x=\"423\" y=\"-268.3\" font-family=\"Helvetica,sans-Serif\" font-size=\"14.00\" fill=\"#000000\">samples = 45</text>\n<text text-anchor=\"middle\" x=\"423\" y=\"-253.3\" font-family=\"Helvetica,sans-Serif\" font-size=\"14.00\" fill=\"#000000\">value = [42, 3]</text>\n<text text-anchor=\"middle\" x=\"423\" y=\"-238.3\" font-family=\"Helvetica,sans-Serif\" font-size=\"14.00\" fill=\"#000000\">class = Exited</text>\n</g>\n<!-- 32&#45;&gt;41 -->\n<g id=\"edge14\" class=\"edge\">\n<title>32&#45;&gt;41</title>\n<path fill=\"none\" stroke=\"#000000\" d=\"M512.7343,-341.8796C499.0899,-330.1138 484.2531,-317.3197 470.6454,-305.5855\"/>\n<polygon fill=\"#000000\" stroke=\"#000000\" points=\"472.6527,-302.6948 462.7938,-298.8149 468.0813,-307.9961 472.6527,-302.6948\"/>\n</g>\n<!-- 42 -->\n<g id=\"node16\" class=\"node\">\n<title>42</title>\n<path fill=\"#f5d0b4\" stroke=\"#000000\" d=\"M615,-306C615,-306 507,-306 507,-306 501,-306 495,-300 495,-294 495,-294 495,-235 495,-235 495,-229 501,-223 507,-223 507,-223 615,-223 615,-223 621,-223 627,-229 627,-235 627,-235 627,-294 627,-294 627,-300 621,-306 615,-306\"/>\n<text text-anchor=\"middle\" x=\"561\" y=\"-290.8\" font-family=\"Helvetica,sans-Serif\" font-size=\"14.00\" fill=\"#000000\">Balance &lt;= 1.248</text>\n<text text-anchor=\"middle\" x=\"561\" y=\"-275.8\" font-family=\"Helvetica,sans-Serif\" font-size=\"14.00\" fill=\"#000000\">gini = 0.473</text>\n<text text-anchor=\"middle\" x=\"561\" y=\"-260.8\" font-family=\"Helvetica,sans-Serif\" font-size=\"14.00\" fill=\"#000000\">samples = 315</text>\n<text text-anchor=\"middle\" x=\"561\" y=\"-245.8\" font-family=\"Helvetica,sans-Serif\" font-size=\"14.00\" fill=\"#000000\">value = [194, 121]</text>\n<text text-anchor=\"middle\" x=\"561\" y=\"-230.8\" font-family=\"Helvetica,sans-Serif\" font-size=\"14.00\" fill=\"#000000\">class = Exited</text>\n</g>\n<!-- 32&#45;&gt;42 -->\n<g id=\"edge15\" class=\"edge\">\n<title>32&#45;&gt;42</title>\n<path fill=\"none\" stroke=\"#000000\" d=\"M561,-341.8796C561,-333.6838 561,-324.9891 561,-316.5013\"/>\n<polygon fill=\"#000000\" stroke=\"#000000\" points=\"564.5001,-316.298 561,-306.2981 557.5001,-316.2981 564.5001,-316.298\"/>\n</g>\n<!-- 43 -->\n<g id=\"node17\" class=\"node\">\n<title>43</title>\n<path fill=\"#f8dbc7\" stroke=\"#000000\" d=\"M477,-179.5C477,-179.5 369,-179.5 369,-179.5 363,-179.5 357,-173.5 357,-167.5 357,-167.5 357,-123.5 357,-123.5 357,-117.5 363,-111.5 369,-111.5 369,-111.5 477,-111.5 477,-111.5 483,-111.5 489,-117.5 489,-123.5 489,-123.5 489,-167.5 489,-167.5 489,-173.5 483,-179.5 477,-179.5\"/>\n<text text-anchor=\"middle\" x=\"423\" y=\"-164.3\" font-family=\"Helvetica,sans-Serif\" font-size=\"14.00\" fill=\"#000000\">gini = 0.486</text>\n<text text-anchor=\"middle\" x=\"423\" y=\"-149.3\" font-family=\"Helvetica,sans-Serif\" font-size=\"14.00\" fill=\"#000000\">samples = 290</text>\n<text text-anchor=\"middle\" x=\"423\" y=\"-134.3\" font-family=\"Helvetica,sans-Serif\" font-size=\"14.00\" fill=\"#000000\">value = [169, 121]</text>\n<text text-anchor=\"middle\" x=\"423\" y=\"-119.3\" font-family=\"Helvetica,sans-Serif\" font-size=\"14.00\" fill=\"#000000\">class = Exited</text>\n</g>\n<!-- 42&#45;&gt;43 -->\n<g id=\"edge16\" class=\"edge\">\n<title>42&#45;&gt;43</title>\n<path fill=\"none\" stroke=\"#000000\" d=\"M512.7343,-222.8796C499.0899,-211.1138 484.2531,-198.3197 470.6454,-186.5855\"/>\n<polygon fill=\"#000000\" stroke=\"#000000\" points=\"472.6527,-183.6948 462.7938,-179.8149 468.0813,-188.9961 472.6527,-183.6948\"/>\n</g>\n<!-- 44 -->\n<g id=\"node18\" class=\"node\">\n<title>44</title>\n<path fill=\"#e58139\" stroke=\"#000000\" d=\"M602.5,-179.5C602.5,-179.5 519.5,-179.5 519.5,-179.5 513.5,-179.5 507.5,-173.5 507.5,-167.5 507.5,-167.5 507.5,-123.5 507.5,-123.5 507.5,-117.5 513.5,-111.5 519.5,-111.5 519.5,-111.5 602.5,-111.5 602.5,-111.5 608.5,-111.5 614.5,-117.5 614.5,-123.5 614.5,-123.5 614.5,-167.5 614.5,-167.5 614.5,-173.5 608.5,-179.5 602.5,-179.5\"/>\n<text text-anchor=\"middle\" x=\"561\" y=\"-164.3\" font-family=\"Helvetica,sans-Serif\" font-size=\"14.00\" fill=\"#000000\">gini = 0.0</text>\n<text text-anchor=\"middle\" x=\"561\" y=\"-149.3\" font-family=\"Helvetica,sans-Serif\" font-size=\"14.00\" fill=\"#000000\">samples = 25</text>\n<text text-anchor=\"middle\" x=\"561\" y=\"-134.3\" font-family=\"Helvetica,sans-Serif\" font-size=\"14.00\" fill=\"#000000\">value = [25, 0]</text>\n<text text-anchor=\"middle\" x=\"561\" y=\"-119.3\" font-family=\"Helvetica,sans-Serif\" font-size=\"14.00\" fill=\"#000000\">class = Exited</text>\n</g>\n<!-- 42&#45;&gt;44 -->\n<g id=\"edge17\" class=\"edge\">\n<title>42&#45;&gt;44</title>\n<path fill=\"none\" stroke=\"#000000\" d=\"M561,-222.8796C561,-212.2134 561,-200.7021 561,-189.9015\"/>\n<polygon fill=\"#000000\" stroke=\"#000000\" points=\"564.5001,-189.8149 561,-179.8149 557.5001,-189.815 564.5001,-189.8149\"/>\n</g>\n<!-- 27 -->\n<g id=\"node21\" class=\"node\">\n<title>27</title>\n<path fill=\"#ffffff\" stroke=\"#000000\" d=\"M824,-655.5C824,-655.5 732,-655.5 732,-655.5 726,-655.5 720,-649.5 720,-643.5 720,-643.5 720,-599.5 720,-599.5 720,-593.5 726,-587.5 732,-587.5 732,-587.5 824,-587.5 824,-587.5 830,-587.5 836,-593.5 836,-599.5 836,-599.5 836,-643.5 836,-643.5 836,-649.5 830,-655.5 824,-655.5\"/>\n<text text-anchor=\"middle\" x=\"778\" y=\"-640.3\" font-family=\"Helvetica,sans-Serif\" font-size=\"14.00\" fill=\"#000000\">gini = 0.5</text>\n<text text-anchor=\"middle\" x=\"778\" y=\"-625.3\" font-family=\"Helvetica,sans-Serif\" font-size=\"14.00\" fill=\"#000000\">samples = 50</text>\n<text text-anchor=\"middle\" x=\"778\" y=\"-610.3\" font-family=\"Helvetica,sans-Serif\" font-size=\"14.00\" fill=\"#000000\">value = [25, 25]</text>\n<text text-anchor=\"middle\" x=\"778\" y=\"-595.3\" font-family=\"Helvetica,sans-Serif\" font-size=\"14.00\" fill=\"#000000\">class = Exited</text>\n</g>\n<!-- 6&#45;&gt;27 -->\n<g id=\"edge20\" class=\"edge\">\n<title>6&#45;&gt;27</title>\n<path fill=\"none\" stroke=\"#000000\" d=\"M826.1184,-698.8796C819.2121,-687.7735 811.7361,-675.7513 804.7825,-664.5691\"/>\n<polygon fill=\"#000000\" stroke=\"#000000\" points=\"807.5917,-662.4587 799.3387,-655.8149 801.6473,-666.1552 807.5917,-662.4587\"/>\n</g>\n<!-- 28 -->\n<g id=\"node22\" class=\"node\">\n<title>28</title>\n<path fill=\"#4aa6e7\" stroke=\"#000000\" d=\"M975.5,-655.5C975.5,-655.5 866.5,-655.5 866.5,-655.5 860.5,-655.5 854.5,-649.5 854.5,-643.5 854.5,-643.5 854.5,-599.5 854.5,-599.5 854.5,-593.5 860.5,-587.5 866.5,-587.5 866.5,-587.5 975.5,-587.5 975.5,-587.5 981.5,-587.5 987.5,-593.5 987.5,-599.5 987.5,-599.5 987.5,-643.5 987.5,-643.5 987.5,-649.5 981.5,-655.5 975.5,-655.5\"/>\n<text text-anchor=\"middle\" x=\"921\" y=\"-640.3\" font-family=\"Helvetica,sans-Serif\" font-size=\"14.00\" fill=\"#000000\">gini = 0.147</text>\n<text text-anchor=\"middle\" x=\"921\" y=\"-625.3\" font-family=\"Helvetica,sans-Serif\" font-size=\"14.00\" fill=\"#000000\">samples = 75</text>\n<text text-anchor=\"middle\" x=\"921\" y=\"-610.3\" font-family=\"Helvetica,sans-Serif\" font-size=\"14.00\" fill=\"#000000\">value = [6, 69]</text>\n<text text-anchor=\"middle\" x=\"921\" y=\"-595.3\" font-family=\"Helvetica,sans-Serif\" font-size=\"14.00\" fill=\"#000000\">class = Not Exited</text>\n</g>\n<!-- 6&#45;&gt;28 -->\n<g id=\"edge21\" class=\"edge\">\n<title>6&#45;&gt;28</title>\n<path fill=\"none\" stroke=\"#000000\" d=\"M876.1329,-698.8796C882.5725,-687.7735 889.5434,-675.7513 896.0271,-664.5691\"/>\n<polygon fill=\"#000000\" stroke=\"#000000\" points=\"899.1148,-666.2215 901.1031,-655.8149 893.0591,-662.7102 899.1148,-666.2215\"/>\n</g>\n<!-- 3 -->\n<g id=\"node24\" class=\"node\">\n<title>3</title>\n<path fill=\"#c1e0f7\" stroke=\"#000000\" d=\"M1296.5,-782C1296.5,-782 1187.5,-782 1187.5,-782 1181.5,-782 1175.5,-776 1175.5,-770 1175.5,-770 1175.5,-711 1175.5,-711 1175.5,-705 1181.5,-699 1187.5,-699 1187.5,-699 1296.5,-699 1296.5,-699 1302.5,-699 1308.5,-705 1308.5,-711 1308.5,-711 1308.5,-770 1308.5,-770 1308.5,-776 1302.5,-782 1296.5,-782\"/>\n<text text-anchor=\"middle\" x=\"1242\" y=\"-766.8\" font-family=\"Helvetica,sans-Serif\" font-size=\"14.00\" fill=\"#000000\">Age &lt;= 1.199</text>\n<text text-anchor=\"middle\" x=\"1242\" y=\"-751.8\" font-family=\"Helvetica,sans-Serif\" font-size=\"14.00\" fill=\"#000000\">gini = 0.482</text>\n<text text-anchor=\"middle\" x=\"1242\" y=\"-736.8\" font-family=\"Helvetica,sans-Serif\" font-size=\"14.00\" fill=\"#000000\">samples = 1058</text>\n<text text-anchor=\"middle\" x=\"1242\" y=\"-721.8\" font-family=\"Helvetica,sans-Serif\" font-size=\"14.00\" fill=\"#000000\">value = [430, 628]</text>\n<text text-anchor=\"middle\" x=\"1242\" y=\"-706.8\" font-family=\"Helvetica,sans-Serif\" font-size=\"14.00\" fill=\"#000000\">class = Not Exited</text>\n</g>\n<!-- 2&#45;&gt;3 -->\n<g id=\"edge23\" class=\"edge\">\n<title>2&#45;&gt;3</title>\n<path fill=\"none\" stroke=\"#000000\" d=\"M1242,-817.8796C1242,-809.6838 1242,-800.9891 1242,-792.5013\"/>\n<polygon fill=\"#000000\" stroke=\"#000000\" points=\"1245.5001,-792.298 1242,-782.2981 1238.5001,-792.2981 1245.5001,-792.298\"/>\n</g>\n<!-- 4 -->\n<g id=\"node41\" class=\"node\">\n<title>4</title>\n<path fill=\"#efaf82\" stroke=\"#000000\" d=\"M1678.5,-782C1678.5,-782 1521.5,-782 1521.5,-782 1515.5,-782 1509.5,-776 1509.5,-770 1509.5,-770 1509.5,-711 1509.5,-711 1509.5,-705 1515.5,-699 1521.5,-699 1521.5,-699 1678.5,-699 1678.5,-699 1684.5,-699 1690.5,-705 1690.5,-711 1690.5,-711 1690.5,-770 1690.5,-770 1690.5,-776 1684.5,-782 1678.5,-782\"/>\n<text text-anchor=\"middle\" x=\"1600\" y=\"-766.8\" font-family=\"Helvetica,sans-Serif\" font-size=\"14.00\" fill=\"#000000\">NumOfProducts &lt;= 1.667</text>\n<text text-anchor=\"middle\" x=\"1600\" y=\"-751.8\" font-family=\"Helvetica,sans-Serif\" font-size=\"14.00\" fill=\"#000000\">gini = 0.393</text>\n<text text-anchor=\"middle\" x=\"1600\" y=\"-736.8\" font-family=\"Helvetica,sans-Serif\" font-size=\"14.00\" fill=\"#000000\">samples = 1261</text>\n<text text-anchor=\"middle\" x=\"1600\" y=\"-721.8\" font-family=\"Helvetica,sans-Serif\" font-size=\"14.00\" fill=\"#000000\">value = [922, 339]</text>\n<text text-anchor=\"middle\" x=\"1600\" y=\"-706.8\" font-family=\"Helvetica,sans-Serif\" font-size=\"14.00\" fill=\"#000000\">class = Exited</text>\n</g>\n<!-- 2&#45;&gt;4 -->\n<g id=\"edge40\" class=\"edge\">\n<title>2&#45;&gt;4</title>\n<path fill=\"none\" stroke=\"#000000\" d=\"M1331.415,-829.7782C1382.4968,-812.7985 1446.693,-791.4596 1499.5138,-773.9018\"/>\n<polygon fill=\"#000000\" stroke=\"#000000\" points=\"1500.853,-777.145 1509.2385,-770.6693 1498.645,-770.5024 1500.853,-777.145\"/>\n</g>\n<!-- 7 -->\n<g id=\"node25\" class=\"node\">\n<title>7</title>\n<path fill=\"#fef9f5\" stroke=\"#000000\" d=\"M1234.5,-663C1234.5,-663 1073.5,-663 1073.5,-663 1067.5,-663 1061.5,-657 1061.5,-651 1061.5,-651 1061.5,-592 1061.5,-592 1061.5,-586 1067.5,-580 1073.5,-580 1073.5,-580 1234.5,-580 1234.5,-580 1240.5,-580 1246.5,-586 1246.5,-592 1246.5,-592 1246.5,-651 1246.5,-651 1246.5,-657 1240.5,-663 1234.5,-663\"/>\n<text text-anchor=\"middle\" x=\"1154\" y=\"-647.8\" font-family=\"Helvetica,sans-Serif\" font-size=\"14.00\" fill=\"#000000\">NumOfProducts &lt;= &#45;0.052</text>\n<text text-anchor=\"middle\" x=\"1154\" y=\"-632.8\" font-family=\"Helvetica,sans-Serif\" font-size=\"14.00\" fill=\"#000000\">gini = 0.5</text>\n<text text-anchor=\"middle\" x=\"1154\" y=\"-617.8\" font-family=\"Helvetica,sans-Serif\" font-size=\"14.00\" fill=\"#000000\">samples = 767</text>\n<text text-anchor=\"middle\" x=\"1154\" y=\"-602.8\" font-family=\"Helvetica,sans-Serif\" font-size=\"14.00\" fill=\"#000000\">value = [393, 374]</text>\n<text text-anchor=\"middle\" x=\"1154\" y=\"-587.8\" font-family=\"Helvetica,sans-Serif\" font-size=\"14.00\" fill=\"#000000\">class = Exited</text>\n</g>\n<!-- 3&#45;&gt;7 -->\n<g id=\"edge24\" class=\"edge\">\n<title>3&#45;&gt;7</title>\n<path fill=\"none\" stroke=\"#000000\" d=\"M1211.2219,-698.8796C1204.6949,-690.0534 1197.7401,-680.6485 1191.0092,-671.5466\"/>\n<polygon fill=\"#000000\" stroke=\"#000000\" points=\"1193.6695,-669.2574 1184.9095,-663.2981 1188.0412,-673.4195 1193.6695,-669.2574\"/>\n</g>\n<!-- 8 -->\n<g id=\"node40\" class=\"node\">\n<title>8</title>\n<path fill=\"#56abe9\" stroke=\"#000000\" d=\"M1385.5,-655.5C1385.5,-655.5 1276.5,-655.5 1276.5,-655.5 1270.5,-655.5 1264.5,-649.5 1264.5,-643.5 1264.5,-643.5 1264.5,-599.5 1264.5,-599.5 1264.5,-593.5 1270.5,-587.5 1276.5,-587.5 1276.5,-587.5 1385.5,-587.5 1385.5,-587.5 1391.5,-587.5 1397.5,-593.5 1397.5,-599.5 1397.5,-599.5 1397.5,-643.5 1397.5,-643.5 1397.5,-649.5 1391.5,-655.5 1385.5,-655.5\"/>\n<text text-anchor=\"middle\" x=\"1331\" y=\"-640.3\" font-family=\"Helvetica,sans-Serif\" font-size=\"14.00\" fill=\"#000000\">gini = 0.222</text>\n<text text-anchor=\"middle\" x=\"1331\" y=\"-625.3\" font-family=\"Helvetica,sans-Serif\" font-size=\"14.00\" fill=\"#000000\">samples = 291</text>\n<text text-anchor=\"middle\" x=\"1331\" y=\"-610.3\" font-family=\"Helvetica,sans-Serif\" font-size=\"14.00\" fill=\"#000000\">value = [37, 254]</text>\n<text text-anchor=\"middle\" x=\"1331\" y=\"-595.3\" font-family=\"Helvetica,sans-Serif\" font-size=\"14.00\" fill=\"#000000\">class = Not Exited</text>\n</g>\n<!-- 3&#45;&gt;8 -->\n<g id=\"edge39\" class=\"edge\">\n<title>3&#45;&gt;8</title>\n<path fill=\"none\" stroke=\"#000000\" d=\"M1273.1279,-698.8796C1281.5986,-687.5536 1290.7819,-675.2748 1299.2847,-663.9058\"/>\n<polygon fill=\"#000000\" stroke=\"#000000\" points=\"1302.1495,-665.9193 1305.3359,-655.8149 1296.5438,-661.7268 1302.1495,-665.9193\"/>\n</g>\n<!-- 13 -->\n<g id=\"node26\" class=\"node\">\n<title>13</title>\n<path fill=\"#b9ddf6\" stroke=\"#000000\" d=\"M1047.5,-544C1047.5,-544 934.5,-544 934.5,-544 928.5,-544 922.5,-538 922.5,-532 922.5,-532 922.5,-473 922.5,-473 922.5,-467 928.5,-461 934.5,-461 934.5,-461 1047.5,-461 1047.5,-461 1053.5,-461 1059.5,-467 1059.5,-473 1059.5,-473 1059.5,-532 1059.5,-532 1059.5,-538 1053.5,-544 1047.5,-544\"/>\n<text text-anchor=\"middle\" x=\"991\" y=\"-528.8\" font-family=\"Helvetica,sans-Serif\" font-size=\"14.00\" fill=\"#000000\">Germany &lt;= 0.575</text>\n<text text-anchor=\"middle\" x=\"991\" y=\"-513.8\" font-family=\"Helvetica,sans-Serif\" font-size=\"14.00\" fill=\"#000000\">gini = 0.477</text>\n<text text-anchor=\"middle\" x=\"991\" y=\"-498.8\" font-family=\"Helvetica,sans-Serif\" font-size=\"14.00\" fill=\"#000000\">samples = 460</text>\n<text text-anchor=\"middle\" x=\"991\" y=\"-483.8\" font-family=\"Helvetica,sans-Serif\" font-size=\"14.00\" fill=\"#000000\">value = [181, 279]</text>\n<text text-anchor=\"middle\" x=\"991\" y=\"-468.8\" font-family=\"Helvetica,sans-Serif\" font-size=\"14.00\" fill=\"#000000\">class = Not Exited</text>\n</g>\n<!-- 7&#45;&gt;13 -->\n<g id=\"edge25\" class=\"edge\">\n<title>7&#45;&gt;13</title>\n<path fill=\"none\" stroke=\"#000000\" d=\"M1096.9905,-579.8796C1083.8379,-570.2774 1069.7472,-559.9903 1056.2732,-550.1534\"/>\n<polygon fill=\"#000000\" stroke=\"#000000\" points=\"1058.1177,-547.1666 1047.9773,-544.0969 1053.9902,-552.8202 1058.1177,-547.1666\"/>\n</g>\n<!-- 14 -->\n<g id=\"node35\" class=\"node\">\n<title>14</title>\n<path fill=\"#f1b992\" stroke=\"#000000\" d=\"M1246.5,-544C1246.5,-544 1089.5,-544 1089.5,-544 1083.5,-544 1077.5,-538 1077.5,-532 1077.5,-532 1077.5,-473 1077.5,-473 1077.5,-467 1083.5,-461 1089.5,-461 1089.5,-461 1246.5,-461 1246.5,-461 1252.5,-461 1258.5,-467 1258.5,-473 1258.5,-473 1258.5,-532 1258.5,-532 1258.5,-538 1252.5,-544 1246.5,-544\"/>\n<text text-anchor=\"middle\" x=\"1168\" y=\"-528.8\" font-family=\"Helvetica,sans-Serif\" font-size=\"14.00\" fill=\"#000000\">NumOfProducts &lt;= 1.667</text>\n<text text-anchor=\"middle\" x=\"1168\" y=\"-513.8\" font-family=\"Helvetica,sans-Serif\" font-size=\"14.00\" fill=\"#000000\">gini = 0.427</text>\n<text text-anchor=\"middle\" x=\"1168\" y=\"-498.8\" font-family=\"Helvetica,sans-Serif\" font-size=\"14.00\" fill=\"#000000\">samples = 307</text>\n<text text-anchor=\"middle\" x=\"1168\" y=\"-483.8\" font-family=\"Helvetica,sans-Serif\" font-size=\"14.00\" fill=\"#000000\">value = [212, 95]</text>\n<text text-anchor=\"middle\" x=\"1168\" y=\"-468.8\" font-family=\"Helvetica,sans-Serif\" font-size=\"14.00\" fill=\"#000000\">class = Exited</text>\n</g>\n<!-- 7&#45;&gt;14 -->\n<g id=\"edge34\" class=\"edge\">\n<title>7&#45;&gt;14</title>\n<path fill=\"none\" stroke=\"#000000\" d=\"M1158.8965,-579.8796C1159.8607,-571.6838 1160.8836,-562.9891 1161.8822,-554.5013\"/>\n<polygon fill=\"#000000\" stroke=\"#000000\" points=\"1165.3901,-554.6386 1163.0826,-544.2981 1158.4381,-553.8206 1165.3901,-554.6386\"/>\n</g>\n<!-- 21 -->\n<g id=\"node27\" class=\"node\">\n<title>21</title>\n<path fill=\"#fafcfe\" stroke=\"#000000\" d=\"M901.5,-425C901.5,-425 792.5,-425 792.5,-425 786.5,-425 780.5,-419 780.5,-413 780.5,-413 780.5,-354 780.5,-354 780.5,-348 786.5,-342 792.5,-342 792.5,-342 901.5,-342 901.5,-342 907.5,-342 913.5,-348 913.5,-354 913.5,-354 913.5,-413 913.5,-413 913.5,-419 907.5,-425 901.5,-425\"/>\n<text text-anchor=\"middle\" x=\"847\" y=\"-409.8\" font-family=\"Helvetica,sans-Serif\" font-size=\"14.00\" fill=\"#000000\">Balance &lt;= 0.085</text>\n<text text-anchor=\"middle\" x=\"847\" y=\"-394.8\" font-family=\"Helvetica,sans-Serif\" font-size=\"14.00\" fill=\"#000000\">gini = 0.5</text>\n<text text-anchor=\"middle\" x=\"847\" y=\"-379.8\" font-family=\"Helvetica,sans-Serif\" font-size=\"14.00\" fill=\"#000000\">samples = 296</text>\n<text text-anchor=\"middle\" x=\"847\" y=\"-364.8\" font-family=\"Helvetica,sans-Serif\" font-size=\"14.00\" fill=\"#000000\">value = [146, 150]</text>\n<text text-anchor=\"middle\" x=\"847\" y=\"-349.8\" font-family=\"Helvetica,sans-Serif\" font-size=\"14.00\" fill=\"#000000\">class = Not Exited</text>\n</g>\n<!-- 13&#45;&gt;21 -->\n<g id=\"edge26\" class=\"edge\">\n<title>13&#45;&gt;21</title>\n<path fill=\"none\" stroke=\"#000000\" d=\"M940.6358,-460.8796C929.3015,-451.513 917.1785,-441.4948 905.5419,-431.8784\"/>\n<polygon fill=\"#000000\" stroke=\"#000000\" points=\"907.5173,-428.9703 897.5792,-425.2981 903.0581,-434.3663 907.5173,-428.9703\"/>\n</g>\n<!-- 22 -->\n<g id=\"node34\" class=\"node\">\n<title>22</title>\n<path fill=\"#6fb8ec\" stroke=\"#000000\" d=\"M1052.5,-417.5C1052.5,-417.5 943.5,-417.5 943.5,-417.5 937.5,-417.5 931.5,-411.5 931.5,-405.5 931.5,-405.5 931.5,-361.5 931.5,-361.5 931.5,-355.5 937.5,-349.5 943.5,-349.5 943.5,-349.5 1052.5,-349.5 1052.5,-349.5 1058.5,-349.5 1064.5,-355.5 1064.5,-361.5 1064.5,-361.5 1064.5,-405.5 1064.5,-405.5 1064.5,-411.5 1058.5,-417.5 1052.5,-417.5\"/>\n<text text-anchor=\"middle\" x=\"998\" y=\"-402.3\" font-family=\"Helvetica,sans-Serif\" font-size=\"14.00\" fill=\"#000000\">gini = 0.336</text>\n<text text-anchor=\"middle\" x=\"998\" y=\"-387.3\" font-family=\"Helvetica,sans-Serif\" font-size=\"14.00\" fill=\"#000000\">samples = 164</text>\n<text text-anchor=\"middle\" x=\"998\" y=\"-372.3\" font-family=\"Helvetica,sans-Serif\" font-size=\"14.00\" fill=\"#000000\">value = [35, 129]</text>\n<text text-anchor=\"middle\" x=\"998\" y=\"-357.3\" font-family=\"Helvetica,sans-Serif\" font-size=\"14.00\" fill=\"#000000\">class = Not Exited</text>\n</g>\n<!-- 13&#45;&gt;22 -->\n<g id=\"edge33\" class=\"edge\">\n<title>13&#45;&gt;22</title>\n<path fill=\"none\" stroke=\"#000000\" d=\"M993.4483,-460.8796C994.0757,-450.2134 994.7528,-438.7021 995.3881,-427.9015\"/>\n<polygon fill=\"#000000\" stroke=\"#000000\" points=\"998.8881,-428.0032 995.9815,-417.8149 991.9002,-427.5921 998.8881,-428.0032\"/>\n</g>\n<!-- 33 -->\n<g id=\"node28\" class=\"node\">\n<title>33</title>\n<path fill=\"#9dcff2\" stroke=\"#000000\" d=\"M881.5,-306C881.5,-306 772.5,-306 772.5,-306 766.5,-306 760.5,-300 760.5,-294 760.5,-294 760.5,-235 760.5,-235 760.5,-229 766.5,-223 772.5,-223 772.5,-223 881.5,-223 881.5,-223 887.5,-223 893.5,-229 893.5,-235 893.5,-235 893.5,-294 893.5,-294 893.5,-300 887.5,-306 881.5,-306\"/>\n<text text-anchor=\"middle\" x=\"827\" y=\"-290.8\" font-family=\"Helvetica,sans-Serif\" font-size=\"14.00\" fill=\"#000000\">Age &lt;= 0.532</text>\n<text text-anchor=\"middle\" x=\"827\" y=\"-275.8\" font-family=\"Helvetica,sans-Serif\" font-size=\"14.00\" fill=\"#000000\">gini = 0.446</text>\n<text text-anchor=\"middle\" x=\"827\" y=\"-260.8\" font-family=\"Helvetica,sans-Serif\" font-size=\"14.00\" fill=\"#000000\">samples = 122</text>\n<text text-anchor=\"middle\" x=\"827\" y=\"-245.8\" font-family=\"Helvetica,sans-Serif\" font-size=\"14.00\" fill=\"#000000\">value = [41, 81]</text>\n<text text-anchor=\"middle\" x=\"827\" y=\"-230.8\" font-family=\"Helvetica,sans-Serif\" font-size=\"14.00\" fill=\"#000000\">class = Not Exited</text>\n</g>\n<!-- 21&#45;&gt;33 -->\n<g id=\"edge27\" class=\"edge\">\n<title>21&#45;&gt;33</title>\n<path fill=\"none\" stroke=\"#000000\" d=\"M840.005,-341.8796C838.6124,-333.5938 837.1341,-324.798 835.6927,-316.2216\"/>\n<polygon fill=\"#000000\" stroke=\"#000000\" points=\"839.134,-315.5796 834.0249,-306.2981 832.2308,-316.7399 839.134,-315.5796\"/>\n</g>\n<!-- 34 -->\n<g id=\"node31\" class=\"node\">\n<title>34</title>\n<path fill=\"#f6d4bb\" stroke=\"#000000\" d=\"M1030.5,-306C1030.5,-306 923.5,-306 923.5,-306 917.5,-306 911.5,-300 911.5,-294 911.5,-294 911.5,-235 911.5,-235 911.5,-229 917.5,-223 923.5,-223 923.5,-223 1030.5,-223 1030.5,-223 1036.5,-223 1042.5,-229 1042.5,-235 1042.5,-235 1042.5,-294 1042.5,-294 1042.5,-300 1036.5,-306 1030.5,-306\"/>\n<text text-anchor=\"middle\" x=\"977\" y=\"-290.8\" font-family=\"Helvetica,sans-Serif\" font-size=\"14.00\" fill=\"#000000\">Balance &lt;= 1.375</text>\n<text text-anchor=\"middle\" x=\"977\" y=\"-275.8\" font-family=\"Helvetica,sans-Serif\" font-size=\"14.00\" fill=\"#000000\">gini = 0.479</text>\n<text text-anchor=\"middle\" x=\"977\" y=\"-260.8\" font-family=\"Helvetica,sans-Serif\" font-size=\"14.00\" fill=\"#000000\">samples = 174</text>\n<text text-anchor=\"middle\" x=\"977\" y=\"-245.8\" font-family=\"Helvetica,sans-Serif\" font-size=\"14.00\" fill=\"#000000\">value = [105, 69]</text>\n<text text-anchor=\"middle\" x=\"977\" y=\"-230.8\" font-family=\"Helvetica,sans-Serif\" font-size=\"14.00\" fill=\"#000000\">class = Exited</text>\n</g>\n<!-- 21&#45;&gt;34 -->\n<g id=\"edge30\" class=\"edge\">\n<title>21&#45;&gt;34</title>\n<path fill=\"none\" stroke=\"#000000\" d=\"M892.4677,-341.8796C902.6017,-332.6031 913.434,-322.6874 923.8465,-313.1559\"/>\n<polygon fill=\"#000000\" stroke=\"#000000\" points=\"926.3252,-315.6319 931.3382,-306.2981 921.5987,-310.4685 926.3252,-315.6319\"/>\n</g>\n<!-- 55 -->\n<g id=\"node29\" class=\"node\">\n<title>55</title>\n<path fill=\"#f7dac5\" stroke=\"#000000\" d=\"M737,-179.5C737,-179.5 645,-179.5 645,-179.5 639,-179.5 633,-173.5 633,-167.5 633,-167.5 633,-123.5 633,-123.5 633,-117.5 639,-111.5 645,-111.5 645,-111.5 737,-111.5 737,-111.5 743,-111.5 749,-117.5 749,-123.5 749,-123.5 749,-167.5 749,-167.5 749,-173.5 743,-179.5 737,-179.5\"/>\n<text text-anchor=\"middle\" x=\"691\" y=\"-164.3\" font-family=\"Helvetica,sans-Serif\" font-size=\"14.00\" fill=\"#000000\">gini = 0.485</text>\n<text text-anchor=\"middle\" x=\"691\" y=\"-149.3\" font-family=\"Helvetica,sans-Serif\" font-size=\"14.00\" fill=\"#000000\">samples = 29</text>\n<text text-anchor=\"middle\" x=\"691\" y=\"-134.3\" font-family=\"Helvetica,sans-Serif\" font-size=\"14.00\" fill=\"#000000\">value = [17, 12]</text>\n<text text-anchor=\"middle\" x=\"691\" y=\"-119.3\" font-family=\"Helvetica,sans-Serif\" font-size=\"14.00\" fill=\"#000000\">class = Exited</text>\n</g>\n<!-- 33&#45;&gt;55 -->\n<g id=\"edge28\" class=\"edge\">\n<title>33&#45;&gt;55</title>\n<path fill=\"none\" stroke=\"#000000\" d=\"M779.4338,-222.8796C765.9872,-211.1138 751.3653,-198.3197 737.9549,-186.5855\"/>\n<polygon fill=\"#000000\" stroke=\"#000000\" points=\"740.0476,-183.766 730.2171,-179.8149 735.4381,-189.034 740.0476,-183.766\"/>\n</g>\n<!-- 56 -->\n<g id=\"node30\" class=\"node\">\n<title>56</title>\n<path fill=\"#7ebfee\" stroke=\"#000000\" d=\"M888.5,-179.5C888.5,-179.5 779.5,-179.5 779.5,-179.5 773.5,-179.5 767.5,-173.5 767.5,-167.5 767.5,-167.5 767.5,-123.5 767.5,-123.5 767.5,-117.5 773.5,-111.5 779.5,-111.5 779.5,-111.5 888.5,-111.5 888.5,-111.5 894.5,-111.5 900.5,-117.5 900.5,-123.5 900.5,-123.5 900.5,-167.5 900.5,-167.5 900.5,-173.5 894.5,-179.5 888.5,-179.5\"/>\n<text text-anchor=\"middle\" x=\"834\" y=\"-164.3\" font-family=\"Helvetica,sans-Serif\" font-size=\"14.00\" fill=\"#000000\">gini = 0.383</text>\n<text text-anchor=\"middle\" x=\"834\" y=\"-149.3\" font-family=\"Helvetica,sans-Serif\" font-size=\"14.00\" fill=\"#000000\">samples = 93</text>\n<text text-anchor=\"middle\" x=\"834\" y=\"-134.3\" font-family=\"Helvetica,sans-Serif\" font-size=\"14.00\" fill=\"#000000\">value = [24, 69]</text>\n<text text-anchor=\"middle\" x=\"834\" y=\"-119.3\" font-family=\"Helvetica,sans-Serif\" font-size=\"14.00\" fill=\"#000000\">class = Not Exited</text>\n</g>\n<!-- 33&#45;&gt;56 -->\n<g id=\"edge29\" class=\"edge\">\n<title>33&#45;&gt;56</title>\n<path fill=\"none\" stroke=\"#000000\" d=\"M829.4483,-222.8796C830.0757,-212.2134 830.7528,-200.7021 831.3881,-189.9015\"/>\n<polygon fill=\"#000000\" stroke=\"#000000\" points=\"834.8881,-190.0032 831.9815,-179.8149 827.9002,-189.5921 834.8881,-190.0032\"/>\n</g>\n<!-- 47 -->\n<g id=\"node32\" class=\"node\">\n<title>47</title>\n<path fill=\"#f2c19e\" stroke=\"#000000\" d=\"M1023,-179.5C1023,-179.5 931,-179.5 931,-179.5 925,-179.5 919,-173.5 919,-167.5 919,-167.5 919,-123.5 919,-123.5 919,-117.5 925,-111.5 931,-111.5 931,-111.5 1023,-111.5 1023,-111.5 1029,-111.5 1035,-117.5 1035,-123.5 1035,-123.5 1035,-167.5 1035,-167.5 1035,-173.5 1029,-179.5 1023,-179.5\"/>\n<text text-anchor=\"middle\" x=\"977\" y=\"-164.3\" font-family=\"Helvetica,sans-Serif\" font-size=\"14.00\" fill=\"#000000\">gini = 0.447</text>\n<text text-anchor=\"middle\" x=\"977\" y=\"-149.3\" font-family=\"Helvetica,sans-Serif\" font-size=\"14.00\" fill=\"#000000\">samples = 145</text>\n<text text-anchor=\"middle\" x=\"977\" y=\"-134.3\" font-family=\"Helvetica,sans-Serif\" font-size=\"14.00\" fill=\"#000000\">value = [96, 49]</text>\n<text text-anchor=\"middle\" x=\"977\" y=\"-119.3\" font-family=\"Helvetica,sans-Serif\" font-size=\"14.00\" fill=\"#000000\">class = Exited</text>\n</g>\n<!-- 34&#45;&gt;47 -->\n<g id=\"edge31\" class=\"edge\">\n<title>34&#45;&gt;47</title>\n<path fill=\"none\" stroke=\"#000000\" d=\"M977,-222.8796C977,-212.2134 977,-200.7021 977,-189.9015\"/>\n<polygon fill=\"#000000\" stroke=\"#000000\" points=\"980.5001,-189.8149 977,-179.8149 973.5001,-189.815 980.5001,-189.8149\"/>\n</g>\n<!-- 48 -->\n<g id=\"node33\" class=\"node\">\n<title>48</title>\n<path fill=\"#92c9f1\" stroke=\"#000000\" d=\"M1174.5,-179.5C1174.5,-179.5 1065.5,-179.5 1065.5,-179.5 1059.5,-179.5 1053.5,-173.5 1053.5,-167.5 1053.5,-167.5 1053.5,-123.5 1053.5,-123.5 1053.5,-117.5 1059.5,-111.5 1065.5,-111.5 1065.5,-111.5 1174.5,-111.5 1174.5,-111.5 1180.5,-111.5 1186.5,-117.5 1186.5,-123.5 1186.5,-123.5 1186.5,-167.5 1186.5,-167.5 1186.5,-173.5 1180.5,-179.5 1174.5,-179.5\"/>\n<text text-anchor=\"middle\" x=\"1120\" y=\"-164.3\" font-family=\"Helvetica,sans-Serif\" font-size=\"14.00\" fill=\"#000000\">gini = 0.428</text>\n<text text-anchor=\"middle\" x=\"1120\" y=\"-149.3\" font-family=\"Helvetica,sans-Serif\" font-size=\"14.00\" fill=\"#000000\">samples = 29</text>\n<text text-anchor=\"middle\" x=\"1120\" y=\"-134.3\" font-family=\"Helvetica,sans-Serif\" font-size=\"14.00\" fill=\"#000000\">value = [9, 20]</text>\n<text text-anchor=\"middle\" x=\"1120\" y=\"-119.3\" font-family=\"Helvetica,sans-Serif\" font-size=\"14.00\" fill=\"#000000\">class = Not Exited</text>\n</g>\n<!-- 34&#45;&gt;48 -->\n<g id=\"edge32\" class=\"edge\">\n<title>34&#45;&gt;48</title>\n<path fill=\"none\" stroke=\"#000000\" d=\"M1027.0145,-222.8796C1041.2853,-211.0038 1056.8151,-198.0804 1071.0233,-186.2568\"/>\n<polygon fill=\"#000000\" stroke=\"#000000\" points=\"1073.3166,-188.9019 1078.7644,-179.8149 1068.839,-183.5212 1073.3166,-188.9019\"/>\n</g>\n<!-- 15 -->\n<g id=\"node36\" class=\"node\">\n<title>15</title>\n<path fill=\"#eb9f69\" stroke=\"#000000\" d=\"M1208.5,-425C1208.5,-425 1101.5,-425 1101.5,-425 1095.5,-425 1089.5,-419 1089.5,-413 1089.5,-413 1089.5,-354 1089.5,-354 1089.5,-348 1095.5,-342 1101.5,-342 1101.5,-342 1208.5,-342 1208.5,-342 1214.5,-342 1220.5,-348 1220.5,-354 1220.5,-354 1220.5,-413 1220.5,-413 1220.5,-419 1214.5,-425 1208.5,-425\"/>\n<text text-anchor=\"middle\" x=\"1155\" y=\"-409.8\" font-family=\"Helvetica,sans-Serif\" font-size=\"14.00\" fill=\"#000000\">Balance &lt;= 0.094</text>\n<text text-anchor=\"middle\" x=\"1155\" y=\"-394.8\" font-family=\"Helvetica,sans-Serif\" font-size=\"14.00\" fill=\"#000000\">gini = 0.313</text>\n<text text-anchor=\"middle\" x=\"1155\" y=\"-379.8\" font-family=\"Helvetica,sans-Serif\" font-size=\"14.00\" fill=\"#000000\">samples = 263</text>\n<text text-anchor=\"middle\" x=\"1155\" y=\"-364.8\" font-family=\"Helvetica,sans-Serif\" font-size=\"14.00\" fill=\"#000000\">value = [212, 51]</text>\n<text text-anchor=\"middle\" x=\"1155\" y=\"-349.8\" font-family=\"Helvetica,sans-Serif\" font-size=\"14.00\" fill=\"#000000\">class = Exited</text>\n</g>\n<!-- 14&#45;&gt;15 -->\n<g id=\"edge35\" class=\"edge\">\n<title>14&#45;&gt;15</title>\n<path fill=\"none\" stroke=\"#000000\" d=\"M1163.4532,-460.8796C1162.5579,-452.6838 1161.6081,-443.9891 1160.6808,-435.5013\"/>\n<polygon fill=\"#000000\" stroke=\"#000000\" points=\"1164.1315,-434.8588 1159.5662,-425.2981 1157.1729,-435.6191 1164.1315,-434.8588\"/>\n</g>\n<!-- 16 -->\n<g id=\"node39\" class=\"node\">\n<title>16</title>\n<path fill=\"#399de5\" stroke=\"#000000\" d=\"M1359.5,-417.5C1359.5,-417.5 1250.5,-417.5 1250.5,-417.5 1244.5,-417.5 1238.5,-411.5 1238.5,-405.5 1238.5,-405.5 1238.5,-361.5 1238.5,-361.5 1238.5,-355.5 1244.5,-349.5 1250.5,-349.5 1250.5,-349.5 1359.5,-349.5 1359.5,-349.5 1365.5,-349.5 1371.5,-355.5 1371.5,-361.5 1371.5,-361.5 1371.5,-405.5 1371.5,-405.5 1371.5,-411.5 1365.5,-417.5 1359.5,-417.5\"/>\n<text text-anchor=\"middle\" x=\"1305\" y=\"-402.3\" font-family=\"Helvetica,sans-Serif\" font-size=\"14.00\" fill=\"#000000\">gini = 0.0</text>\n<text text-anchor=\"middle\" x=\"1305\" y=\"-387.3\" font-family=\"Helvetica,sans-Serif\" font-size=\"14.00\" fill=\"#000000\">samples = 44</text>\n<text text-anchor=\"middle\" x=\"1305\" y=\"-372.3\" font-family=\"Helvetica,sans-Serif\" font-size=\"14.00\" fill=\"#000000\">value = [0, 44]</text>\n<text text-anchor=\"middle\" x=\"1305\" y=\"-357.3\" font-family=\"Helvetica,sans-Serif\" font-size=\"14.00\" fill=\"#000000\">class = Not Exited</text>\n</g>\n<!-- 14&#45;&gt;16 -->\n<g id=\"edge38\" class=\"edge\">\n<title>14&#45;&gt;16</title>\n<path fill=\"none\" stroke=\"#000000\" d=\"M1215.916,-460.8796C1229.4615,-449.1138 1244.1908,-436.3197 1257.6998,-424.5855\"/>\n<polygon fill=\"#000000\" stroke=\"#000000\" points=\"1260.2401,-427.015 1265.4946,-417.8149 1255.6497,-421.7303 1260.2401,-427.015\"/>\n</g>\n<!-- 53 -->\n<g id=\"node37\" class=\"node\">\n<title>53</title>\n<path fill=\"#e89051\" stroke=\"#000000\" d=\"M1173,-298.5C1173,-298.5 1073,-298.5 1073,-298.5 1067,-298.5 1061,-292.5 1061,-286.5 1061,-286.5 1061,-242.5 1061,-242.5 1061,-236.5 1067,-230.5 1073,-230.5 1073,-230.5 1173,-230.5 1173,-230.5 1179,-230.5 1185,-236.5 1185,-242.5 1185,-242.5 1185,-286.5 1185,-286.5 1185,-292.5 1179,-298.5 1173,-298.5\"/>\n<text text-anchor=\"middle\" x=\"1123\" y=\"-283.3\" font-family=\"Helvetica,sans-Serif\" font-size=\"14.00\" fill=\"#000000\">gini = 0.193</text>\n<text text-anchor=\"middle\" x=\"1123\" y=\"-268.3\" font-family=\"Helvetica,sans-Serif\" font-size=\"14.00\" fill=\"#000000\">samples = 148</text>\n<text text-anchor=\"middle\" x=\"1123\" y=\"-253.3\" font-family=\"Helvetica,sans-Serif\" font-size=\"14.00\" fill=\"#000000\">value = [132, 16]</text>\n<text text-anchor=\"middle\" x=\"1123\" y=\"-238.3\" font-family=\"Helvetica,sans-Serif\" font-size=\"14.00\" fill=\"#000000\">class = Exited</text>\n</g>\n<!-- 15&#45;&gt;53 -->\n<g id=\"edge36\" class=\"edge\">\n<title>15&#45;&gt;53</title>\n<path fill=\"none\" stroke=\"#000000\" d=\"M1143.808,-341.8796C1140.9102,-331.1034 1137.7804,-319.4647 1134.8501,-308.5677\"/>\n<polygon fill=\"#000000\" stroke=\"#000000\" points=\"1138.2044,-307.563 1132.2275,-298.8149 1131.4445,-309.3808 1138.2044,-307.563\"/>\n</g>\n<!-- 54 -->\n<g id=\"node38\" class=\"node\">\n<title>54</title>\n<path fill=\"#f0b890\" stroke=\"#000000\" d=\"M1307,-298.5C1307,-298.5 1215,-298.5 1215,-298.5 1209,-298.5 1203,-292.5 1203,-286.5 1203,-286.5 1203,-242.5 1203,-242.5 1203,-236.5 1209,-230.5 1215,-230.5 1215,-230.5 1307,-230.5 1307,-230.5 1313,-230.5 1319,-236.5 1319,-242.5 1319,-242.5 1319,-286.5 1319,-286.5 1319,-292.5 1313,-298.5 1307,-298.5\"/>\n<text text-anchor=\"middle\" x=\"1261\" y=\"-283.3\" font-family=\"Helvetica,sans-Serif\" font-size=\"14.00\" fill=\"#000000\">gini = 0.423</text>\n<text text-anchor=\"middle\" x=\"1261\" y=\"-268.3\" font-family=\"Helvetica,sans-Serif\" font-size=\"14.00\" fill=\"#000000\">samples = 115</text>\n<text text-anchor=\"middle\" x=\"1261\" y=\"-253.3\" font-family=\"Helvetica,sans-Serif\" font-size=\"14.00\" fill=\"#000000\">value = [80, 35]</text>\n<text text-anchor=\"middle\" x=\"1261\" y=\"-238.3\" font-family=\"Helvetica,sans-Serif\" font-size=\"14.00\" fill=\"#000000\">class = Exited</text>\n</g>\n<!-- 15&#45;&gt;54 -->\n<g id=\"edge37\" class=\"edge\">\n<title>15&#45;&gt;54</title>\n<path fill=\"none\" stroke=\"#000000\" d=\"M1192.0737,-341.8796C1202.2603,-330.4436 1213.3122,-318.0363 1223.5215,-306.575\"/>\n<polygon fill=\"#000000\" stroke=\"#000000\" points=\"1226.3958,-308.6101 1230.4338,-298.8149 1221.1688,-303.9541 1226.3958,-308.6101\"/>\n</g>\n<!-- 9 -->\n<g id=\"node42\" class=\"node\">\n<title>9</title>\n<path fill=\"#eda877\" stroke=\"#000000\" d=\"M1680.5,-663C1680.5,-663 1519.5,-663 1519.5,-663 1513.5,-663 1507.5,-657 1507.5,-651 1507.5,-651 1507.5,-592 1507.5,-592 1507.5,-586 1513.5,-580 1519.5,-580 1519.5,-580 1680.5,-580 1680.5,-580 1686.5,-580 1692.5,-586 1692.5,-592 1692.5,-592 1692.5,-651 1692.5,-651 1692.5,-657 1686.5,-663 1680.5,-663\"/>\n<text text-anchor=\"middle\" x=\"1600\" y=\"-647.8\" font-family=\"Helvetica,sans-Serif\" font-size=\"14.00\" fill=\"#000000\">NumOfProducts &lt;= &#45;0.052</text>\n<text text-anchor=\"middle\" x=\"1600\" y=\"-632.8\" font-family=\"Helvetica,sans-Serif\" font-size=\"14.00\" fill=\"#000000\">gini = 0.363</text>\n<text text-anchor=\"middle\" x=\"1600\" y=\"-617.8\" font-family=\"Helvetica,sans-Serif\" font-size=\"14.00\" fill=\"#000000\">samples = 1207</text>\n<text text-anchor=\"middle\" x=\"1600\" y=\"-602.8\" font-family=\"Helvetica,sans-Serif\" font-size=\"14.00\" fill=\"#000000\">value = [919, 288]</text>\n<text text-anchor=\"middle\" x=\"1600\" y=\"-587.8\" font-family=\"Helvetica,sans-Serif\" font-size=\"14.00\" fill=\"#000000\">class = Exited</text>\n</g>\n<!-- 4&#45;&gt;9 -->\n<g id=\"edge41\" class=\"edge\">\n<title>4&#45;&gt;9</title>\n<path fill=\"none\" stroke=\"#000000\" d=\"M1600,-698.8796C1600,-690.6838 1600,-681.9891 1600,-673.5013\"/>\n<polygon fill=\"#000000\" stroke=\"#000000\" points=\"1603.5001,-673.298 1600,-663.2981 1596.5001,-673.2981 1603.5001,-673.298\"/>\n</g>\n<!-- 10 -->\n<g id=\"node59\" class=\"node\">\n<title>10</title>\n<path fill=\"#45a3e7\" stroke=\"#000000\" d=\"M1831.5,-655.5C1831.5,-655.5 1722.5,-655.5 1722.5,-655.5 1716.5,-655.5 1710.5,-649.5 1710.5,-643.5 1710.5,-643.5 1710.5,-599.5 1710.5,-599.5 1710.5,-593.5 1716.5,-587.5 1722.5,-587.5 1722.5,-587.5 1831.5,-587.5 1831.5,-587.5 1837.5,-587.5 1843.5,-593.5 1843.5,-599.5 1843.5,-599.5 1843.5,-643.5 1843.5,-643.5 1843.5,-649.5 1837.5,-655.5 1831.5,-655.5\"/>\n<text text-anchor=\"middle\" x=\"1777\" y=\"-640.3\" font-family=\"Helvetica,sans-Serif\" font-size=\"14.00\" fill=\"#000000\">gini = 0.105</text>\n<text text-anchor=\"middle\" x=\"1777\" y=\"-625.3\" font-family=\"Helvetica,sans-Serif\" font-size=\"14.00\" fill=\"#000000\">samples = 54</text>\n<text text-anchor=\"middle\" x=\"1777\" y=\"-610.3\" font-family=\"Helvetica,sans-Serif\" font-size=\"14.00\" fill=\"#000000\">value = [3, 51]</text>\n<text text-anchor=\"middle\" x=\"1777\" y=\"-595.3\" font-family=\"Helvetica,sans-Serif\" font-size=\"14.00\" fill=\"#000000\">class = Not Exited</text>\n</g>\n<!-- 4&#45;&gt;10 -->\n<g id=\"edge58\" class=\"edge\">\n<title>4&#45;&gt;10</title>\n<path fill=\"none\" stroke=\"#000000\" d=\"M1661.906,-698.8796C1679.9828,-686.7263 1699.6914,-673.4759 1717.6087,-661.4297\"/>\n<polygon fill=\"#000000\" stroke=\"#000000\" points=\"1719.8996,-664.1071 1726.2456,-655.623 1715.9939,-658.2979 1719.8996,-664.1071\"/>\n</g>\n<!-- 17 -->\n<g id=\"node43\" class=\"node\">\n<title>17</title>\n<path fill=\"#f3c3a0\" stroke=\"#000000\" d=\"M1656.5,-544C1656.5,-544 1543.5,-544 1543.5,-544 1537.5,-544 1531.5,-538 1531.5,-532 1531.5,-532 1531.5,-473 1531.5,-473 1531.5,-467 1537.5,-461 1543.5,-461 1543.5,-461 1656.5,-461 1656.5,-461 1662.5,-461 1668.5,-467 1668.5,-473 1668.5,-473 1668.5,-532 1668.5,-532 1668.5,-538 1662.5,-544 1656.5,-544\"/>\n<text text-anchor=\"middle\" x=\"1600\" y=\"-528.8\" font-family=\"Helvetica,sans-Serif\" font-size=\"14.00\" fill=\"#000000\">Germany &lt;= 0.575</text>\n<text text-anchor=\"middle\" x=\"1600\" y=\"-513.8\" font-family=\"Helvetica,sans-Serif\" font-size=\"14.00\" fill=\"#000000\">gini = 0.45</text>\n<text text-anchor=\"middle\" x=\"1600\" y=\"-498.8\" font-family=\"Helvetica,sans-Serif\" font-size=\"14.00\" fill=\"#000000\">samples = 651</text>\n<text text-anchor=\"middle\" x=\"1600\" y=\"-483.8\" font-family=\"Helvetica,sans-Serif\" font-size=\"14.00\" fill=\"#000000\">value = [428, 223]</text>\n<text text-anchor=\"middle\" x=\"1600\" y=\"-468.8\" font-family=\"Helvetica,sans-Serif\" font-size=\"14.00\" fill=\"#000000\">class = Exited</text>\n</g>\n<!-- 9&#45;&gt;17 -->\n<g id=\"edge42\" class=\"edge\">\n<title>9&#45;&gt;17</title>\n<path fill=\"none\" stroke=\"#000000\" d=\"M1600,-579.8796C1600,-571.6838 1600,-562.9891 1600,-554.5013\"/>\n<polygon fill=\"#000000\" stroke=\"#000000\" points=\"1603.5001,-554.298 1600,-544.2981 1596.5001,-554.2981 1603.5001,-554.298\"/>\n</g>\n<!-- 18 -->\n<g id=\"node56\" class=\"node\">\n<title>18</title>\n<path fill=\"#e89253\" stroke=\"#000000\" d=\"M1882.5,-544C1882.5,-544 1771.5,-544 1771.5,-544 1765.5,-544 1759.5,-538 1759.5,-532 1759.5,-532 1759.5,-473 1759.5,-473 1759.5,-467 1765.5,-461 1771.5,-461 1771.5,-461 1882.5,-461 1882.5,-461 1888.5,-461 1894.5,-467 1894.5,-473 1894.5,-473 1894.5,-532 1894.5,-532 1894.5,-538 1888.5,-544 1882.5,-544\"/>\n<text text-anchor=\"middle\" x=\"1827\" y=\"-528.8\" font-family=\"Helvetica,sans-Serif\" font-size=\"14.00\" fill=\"#000000\">Balance &lt;= &#45;0.536</text>\n<text text-anchor=\"middle\" x=\"1827\" y=\"-513.8\" font-family=\"Helvetica,sans-Serif\" font-size=\"14.00\" fill=\"#000000\">gini = 0.206</text>\n<text text-anchor=\"middle\" x=\"1827\" y=\"-498.8\" font-family=\"Helvetica,sans-Serif\" font-size=\"14.00\" fill=\"#000000\">samples = 556</text>\n<text text-anchor=\"middle\" x=\"1827\" y=\"-483.8\" font-family=\"Helvetica,sans-Serif\" font-size=\"14.00\" fill=\"#000000\">value = [491, 65]</text>\n<text text-anchor=\"middle\" x=\"1827\" y=\"-468.8\" font-family=\"Helvetica,sans-Serif\" font-size=\"14.00\" fill=\"#000000\">class = Exited</text>\n</g>\n<!-- 9&#45;&gt;18 -->\n<g id=\"edge55\" class=\"edge\">\n<title>9&#45;&gt;18</title>\n<path fill=\"none\" stroke=\"#000000\" d=\"M1679.3936,-579.8796C1702.4189,-567.809 1727.5088,-554.6562 1750.3619,-542.6759\"/>\n<polygon fill=\"#000000\" stroke=\"#000000\" points=\"1752.1027,-545.7152 1759.3344,-537.9723 1748.8525,-539.5154 1752.1027,-545.7152\"/>\n</g>\n<!-- 19 -->\n<g id=\"node44\" class=\"node\">\n<title>19</title>\n<path fill=\"#eeae7f\" stroke=\"#000000\" d=\"M1583.5,-425C1583.5,-425 1472.5,-425 1472.5,-425 1466.5,-425 1460.5,-419 1460.5,-413 1460.5,-413 1460.5,-354 1460.5,-354 1460.5,-348 1466.5,-342 1472.5,-342 1472.5,-342 1583.5,-342 1583.5,-342 1589.5,-342 1595.5,-348 1595.5,-354 1595.5,-354 1595.5,-413 1595.5,-413 1595.5,-419 1589.5,-425 1583.5,-425\"/>\n<text text-anchor=\"middle\" x=\"1528\" y=\"-409.8\" font-family=\"Helvetica,sans-Serif\" font-size=\"14.00\" fill=\"#000000\">Balance &lt;= &#45;0.161</text>\n<text text-anchor=\"middle\" x=\"1528\" y=\"-394.8\" font-family=\"Helvetica,sans-Serif\" font-size=\"14.00\" fill=\"#000000\">gini = 0.387</text>\n<text text-anchor=\"middle\" x=\"1528\" y=\"-379.8\" font-family=\"Helvetica,sans-Serif\" font-size=\"14.00\" fill=\"#000000\">samples = 466</text>\n<text text-anchor=\"middle\" x=\"1528\" y=\"-364.8\" font-family=\"Helvetica,sans-Serif\" font-size=\"14.00\" fill=\"#000000\">value = [344, 122]</text>\n<text text-anchor=\"middle\" x=\"1528\" y=\"-349.8\" font-family=\"Helvetica,sans-Serif\" font-size=\"14.00\" fill=\"#000000\">class = Exited</text>\n</g>\n<!-- 17&#45;&gt;19 -->\n<g id=\"edge43\" class=\"edge\">\n<title>17&#45;&gt;19</title>\n<path fill=\"none\" stroke=\"#000000\" d=\"M1574.8179,-460.8796C1569.5867,-452.2335 1564.0195,-443.0322 1558.6177,-434.1042\"/>\n<polygon fill=\"#000000\" stroke=\"#000000\" points=\"1561.4608,-432.0421 1553.2896,-425.2981 1555.4717,-435.6658 1561.4608,-432.0421\"/>\n</g>\n<!-- 20 -->\n<g id=\"node51\" class=\"node\">\n<title>20</title>\n<path fill=\"#deeffb\" stroke=\"#000000\" d=\"M1734.5,-425C1734.5,-425 1625.5,-425 1625.5,-425 1619.5,-425 1613.5,-419 1613.5,-413 1613.5,-413 1613.5,-354 1613.5,-354 1613.5,-348 1619.5,-342 1625.5,-342 1625.5,-342 1734.5,-342 1734.5,-342 1740.5,-342 1746.5,-348 1746.5,-354 1746.5,-354 1746.5,-413 1746.5,-413 1746.5,-419 1740.5,-425 1734.5,-425\"/>\n<text text-anchor=\"middle\" x=\"1680\" y=\"-409.8\" font-family=\"Helvetica,sans-Serif\" font-size=\"14.00\" fill=\"#000000\">Age &lt;= 1.867</text>\n<text text-anchor=\"middle\" x=\"1680\" y=\"-394.8\" font-family=\"Helvetica,sans-Serif\" font-size=\"14.00\" fill=\"#000000\">gini = 0.496</text>\n<text text-anchor=\"middle\" x=\"1680\" y=\"-379.8\" font-family=\"Helvetica,sans-Serif\" font-size=\"14.00\" fill=\"#000000\">samples = 185</text>\n<text text-anchor=\"middle\" x=\"1680\" y=\"-364.8\" font-family=\"Helvetica,sans-Serif\" font-size=\"14.00\" fill=\"#000000\">value = [84, 101]</text>\n<text text-anchor=\"middle\" x=\"1680\" y=\"-349.8\" font-family=\"Helvetica,sans-Serif\" font-size=\"14.00\" fill=\"#000000\">class = Not Exited</text>\n</g>\n<!-- 17&#45;&gt;20 -->\n<g id=\"edge50\" class=\"edge\">\n<title>17&#45;&gt;20</title>\n<path fill=\"none\" stroke=\"#000000\" d=\"M1627.9801,-460.8796C1633.8531,-452.1434 1640.1073,-442.8404 1646.1679,-433.8253\"/>\n<polygon fill=\"#000000\" stroke=\"#000000\" points=\"1649.2259,-435.5498 1651.9005,-425.2981 1643.4166,-431.6444 1649.2259,-435.5498\"/>\n</g>\n<!-- 29 -->\n<g id=\"node45\" class=\"node\">\n<title>29</title>\n<path fill=\"#f8decb\" stroke=\"#000000\" d=\"M1441,-306C1441,-306 1349,-306 1349,-306 1343,-306 1337,-300 1337,-294 1337,-294 1337,-235 1337,-235 1337,-229 1343,-223 1349,-223 1349,-223 1441,-223 1441,-223 1447,-223 1453,-229 1453,-235 1453,-235 1453,-294 1453,-294 1453,-300 1447,-306 1441,-306\"/>\n<text text-anchor=\"middle\" x=\"1395\" y=\"-290.8\" font-family=\"Helvetica,sans-Serif\" font-size=\"14.00\" fill=\"#000000\">Age &lt;= 2.153</text>\n<text text-anchor=\"middle\" x=\"1395\" y=\"-275.8\" font-family=\"Helvetica,sans-Serif\" font-size=\"14.00\" fill=\"#000000\">gini = 0.489</text>\n<text text-anchor=\"middle\" x=\"1395\" y=\"-260.8\" font-family=\"Helvetica,sans-Serif\" font-size=\"14.00\" fill=\"#000000\">samples = 139</text>\n<text text-anchor=\"middle\" x=\"1395\" y=\"-245.8\" font-family=\"Helvetica,sans-Serif\" font-size=\"14.00\" fill=\"#000000\">value = [80, 59]</text>\n<text text-anchor=\"middle\" x=\"1395\" y=\"-230.8\" font-family=\"Helvetica,sans-Serif\" font-size=\"14.00\" fill=\"#000000\">class = Exited</text>\n</g>\n<!-- 19&#45;&gt;29 -->\n<g id=\"edge44\" class=\"edge\">\n<title>19&#45;&gt;29</title>\n<path fill=\"none\" stroke=\"#000000\" d=\"M1481.4831,-341.8796C1471.1152,-332.6031 1460.0329,-322.6874 1449.3801,-313.1559\"/>\n<polygon fill=\"#000000\" stroke=\"#000000\" points=\"1451.5017,-310.3577 1441.7155,-306.2981 1446.8341,-315.5744 1451.5017,-310.3577\"/>\n</g>\n<!-- 30 -->\n<g id=\"node50\" class=\"node\">\n<title>30</title>\n<path fill=\"#eb9f68\" stroke=\"#000000\" d=\"M1583,-298.5C1583,-298.5 1483,-298.5 1483,-298.5 1477,-298.5 1471,-292.5 1471,-286.5 1471,-286.5 1471,-242.5 1471,-242.5 1471,-236.5 1477,-230.5 1483,-230.5 1483,-230.5 1583,-230.5 1583,-230.5 1589,-230.5 1595,-236.5 1595,-242.5 1595,-242.5 1595,-286.5 1595,-286.5 1595,-292.5 1589,-298.5 1583,-298.5\"/>\n<text text-anchor=\"middle\" x=\"1533\" y=\"-283.3\" font-family=\"Helvetica,sans-Serif\" font-size=\"14.00\" fill=\"#000000\">gini = 0.311</text>\n<text text-anchor=\"middle\" x=\"1533\" y=\"-268.3\" font-family=\"Helvetica,sans-Serif\" font-size=\"14.00\" fill=\"#000000\">samples = 327</text>\n<text text-anchor=\"middle\" x=\"1533\" y=\"-253.3\" font-family=\"Helvetica,sans-Serif\" font-size=\"14.00\" fill=\"#000000\">value = [264, 63]</text>\n<text text-anchor=\"middle\" x=\"1533\" y=\"-238.3\" font-family=\"Helvetica,sans-Serif\" font-size=\"14.00\" fill=\"#000000\">class = Exited</text>\n</g>\n<!-- 19&#45;&gt;30 -->\n<g id=\"edge49\" class=\"edge\">\n<title>19&#45;&gt;30</title>\n<path fill=\"none\" stroke=\"#000000\" d=\"M1529.7488,-341.8796C1530.1969,-331.2134 1530.6806,-319.7021 1531.1344,-308.9015\"/>\n<polygon fill=\"#000000\" stroke=\"#000000\" points=\"1534.6352,-308.9531 1531.5582,-298.8149 1527.6414,-308.6592 1534.6352,-308.9531\"/>\n</g>\n<!-- 35 -->\n<g id=\"node46\" class=\"node\">\n<title>35</title>\n<path fill=\"#f5fafe\" stroke=\"#000000\" d=\"M1387.5,-187C1387.5,-187 1278.5,-187 1278.5,-187 1272.5,-187 1266.5,-181 1266.5,-175 1266.5,-175 1266.5,-116 1266.5,-116 1266.5,-110 1272.5,-104 1278.5,-104 1278.5,-104 1387.5,-104 1387.5,-104 1393.5,-104 1399.5,-110 1399.5,-116 1399.5,-116 1399.5,-175 1399.5,-175 1399.5,-181 1393.5,-187 1387.5,-187\"/>\n<text text-anchor=\"middle\" x=\"1333\" y=\"-171.8\" font-family=\"Helvetica,sans-Serif\" font-size=\"14.00\" fill=\"#000000\">Age &lt;= 0.532</text>\n<text text-anchor=\"middle\" x=\"1333\" y=\"-156.8\" font-family=\"Helvetica,sans-Serif\" font-size=\"14.00\" fill=\"#000000\">gini = 0.5</text>\n<text text-anchor=\"middle\" x=\"1333\" y=\"-141.8\" font-family=\"Helvetica,sans-Serif\" font-size=\"14.00\" fill=\"#000000\">samples = 113</text>\n<text text-anchor=\"middle\" x=\"1333\" y=\"-126.8\" font-family=\"Helvetica,sans-Serif\" font-size=\"14.00\" fill=\"#000000\">value = [55, 58]</text>\n<text text-anchor=\"middle\" x=\"1333\" y=\"-111.8\" font-family=\"Helvetica,sans-Serif\" font-size=\"14.00\" fill=\"#000000\">class = Not Exited</text>\n</g>\n<!-- 29&#45;&gt;35 -->\n<g id=\"edge45\" class=\"edge\">\n<title>29&#45;&gt;35</title>\n<path fill=\"none\" stroke=\"#000000\" d=\"M1373.3154,-222.8796C1368.8577,-214.3236 1364.1166,-205.2238 1359.5106,-196.3833\"/>\n<polygon fill=\"#000000\" stroke=\"#000000\" points=\"1362.5017,-194.5494 1354.7771,-187.2981 1356.2938,-197.7838 1362.5017,-194.5494\"/>\n</g>\n<!-- 36 -->\n<g id=\"node49\" class=\"node\">\n<title>36</title>\n<path fill=\"#e68641\" stroke=\"#000000\" d=\"M1512.5,-179.5C1512.5,-179.5 1429.5,-179.5 1429.5,-179.5 1423.5,-179.5 1417.5,-173.5 1417.5,-167.5 1417.5,-167.5 1417.5,-123.5 1417.5,-123.5 1417.5,-117.5 1423.5,-111.5 1429.5,-111.5 1429.5,-111.5 1512.5,-111.5 1512.5,-111.5 1518.5,-111.5 1524.5,-117.5 1524.5,-123.5 1524.5,-123.5 1524.5,-167.5 1524.5,-167.5 1524.5,-173.5 1518.5,-179.5 1512.5,-179.5\"/>\n<text text-anchor=\"middle\" x=\"1471\" y=\"-164.3\" font-family=\"Helvetica,sans-Serif\" font-size=\"14.00\" fill=\"#000000\">gini = 0.074</text>\n<text text-anchor=\"middle\" x=\"1471\" y=\"-149.3\" font-family=\"Helvetica,sans-Serif\" font-size=\"14.00\" fill=\"#000000\">samples = 26</text>\n<text text-anchor=\"middle\" x=\"1471\" y=\"-134.3\" font-family=\"Helvetica,sans-Serif\" font-size=\"14.00\" fill=\"#000000\">value = [25, 1]</text>\n<text text-anchor=\"middle\" x=\"1471\" y=\"-119.3\" font-family=\"Helvetica,sans-Serif\" font-size=\"14.00\" fill=\"#000000\">class = Exited</text>\n</g>\n<!-- 29&#45;&gt;36 -->\n<g id=\"edge48\" class=\"edge\">\n<title>29&#45;&gt;36</title>\n<path fill=\"none\" stroke=\"#000000\" d=\"M1421.5811,-222.8796C1428.674,-211.7735 1436.3521,-199.7513 1443.4937,-188.5691\"/>\n<polygon fill=\"#000000\" stroke=\"#000000\" points=\"1446.6518,-190.1267 1449.0846,-179.8149 1440.7523,-186.3589 1446.6518,-190.1267\"/>\n</g>\n<!-- 49 -->\n<g id=\"node47\" class=\"node\">\n<title>49</title>\n<path fill=\"#eb9f68\" stroke=\"#000000\" d=\"M1305.5,-68C1305.5,-68 1222.5,-68 1222.5,-68 1216.5,-68 1210.5,-62 1210.5,-56 1210.5,-56 1210.5,-12 1210.5,-12 1210.5,-6 1216.5,0 1222.5,0 1222.5,0 1305.5,0 1305.5,0 1311.5,0 1317.5,-6 1317.5,-12 1317.5,-12 1317.5,-56 1317.5,-56 1317.5,-62 1311.5,-68 1305.5,-68\"/>\n<text text-anchor=\"middle\" x=\"1264\" y=\"-52.8\" font-family=\"Helvetica,sans-Serif\" font-size=\"14.00\" fill=\"#000000\">gini = 0.308</text>\n<text text-anchor=\"middle\" x=\"1264\" y=\"-37.8\" font-family=\"Helvetica,sans-Serif\" font-size=\"14.00\" fill=\"#000000\">samples = 21</text>\n<text text-anchor=\"middle\" x=\"1264\" y=\"-22.8\" font-family=\"Helvetica,sans-Serif\" font-size=\"14.00\" fill=\"#000000\">value = [17, 4]</text>\n<text text-anchor=\"middle\" x=\"1264\" y=\"-7.8\" font-family=\"Helvetica,sans-Serif\" font-size=\"14.00\" fill=\"#000000\">class = Exited</text>\n</g>\n<!-- 35&#45;&gt;49 -->\n<g id=\"edge46\" class=\"edge\">\n<title>35&#45;&gt;49</title>\n<path fill=\"none\" stroke=\"#000000\" d=\"M1307.3069,-103.9815C1301.8469,-95.1585 1296.0716,-85.8258 1290.5793,-76.9506\"/>\n<polygon fill=\"#000000\" stroke=\"#000000\" points=\"1293.442,-74.9254 1285.2035,-68.2637 1287.4896,-78.609 1293.442,-74.9254\"/>\n</g>\n<!-- 50 -->\n<g id=\"node48\" class=\"node\">\n<title>50</title>\n<path fill=\"#c4e2f7\" stroke=\"#000000\" d=\"M1456.5,-68C1456.5,-68 1347.5,-68 1347.5,-68 1341.5,-68 1335.5,-62 1335.5,-56 1335.5,-56 1335.5,-12 1335.5,-12 1335.5,-6 1341.5,0 1347.5,0 1347.5,0 1456.5,0 1456.5,0 1462.5,0 1468.5,-6 1468.5,-12 1468.5,-12 1468.5,-56 1468.5,-56 1468.5,-62 1462.5,-68 1456.5,-68\"/>\n<text text-anchor=\"middle\" x=\"1402\" y=\"-52.8\" font-family=\"Helvetica,sans-Serif\" font-size=\"14.00\" fill=\"#000000\">gini = 0.485</text>\n<text text-anchor=\"middle\" x=\"1402\" y=\"-37.8\" font-family=\"Helvetica,sans-Serif\" font-size=\"14.00\" fill=\"#000000\">samples = 92</text>\n<text text-anchor=\"middle\" x=\"1402\" y=\"-22.8\" font-family=\"Helvetica,sans-Serif\" font-size=\"14.00\" fill=\"#000000\">value = [38, 54]</text>\n<text text-anchor=\"middle\" x=\"1402\" y=\"-7.8\" font-family=\"Helvetica,sans-Serif\" font-size=\"14.00\" fill=\"#000000\">class = Not Exited</text>\n</g>\n<!-- 35&#45;&gt;50 -->\n<g id=\"edge47\" class=\"edge\">\n<title>35&#45;&gt;50</title>\n<path fill=\"none\" stroke=\"#000000\" d=\"M1358.6931,-103.9815C1364.1531,-95.1585 1369.9284,-85.8258 1375.4207,-76.9506\"/>\n<polygon fill=\"#000000\" stroke=\"#000000\" points=\"1378.5104,-78.609 1380.7965,-68.2637 1372.558,-74.9254 1378.5104,-78.609\"/>\n</g>\n<!-- 37 -->\n<g id=\"node52\" class=\"node\">\n<title>37</title>\n<path fill=\"#a8d4f4\" stroke=\"#000000\" d=\"M1734.5,-306C1734.5,-306 1625.5,-306 1625.5,-306 1619.5,-306 1613.5,-300 1613.5,-294 1613.5,-294 1613.5,-235 1613.5,-235 1613.5,-229 1619.5,-223 1625.5,-223 1625.5,-223 1734.5,-223 1734.5,-223 1740.5,-223 1746.5,-229 1746.5,-235 1746.5,-235 1746.5,-294 1746.5,-294 1746.5,-300 1740.5,-306 1734.5,-306\"/>\n<text text-anchor=\"middle\" x=\"1680\" y=\"-290.8\" font-family=\"Helvetica,sans-Serif\" font-size=\"14.00\" fill=\"#000000\">Balance &lt;= 0.931</text>\n<text text-anchor=\"middle\" x=\"1680\" y=\"-275.8\" font-family=\"Helvetica,sans-Serif\" font-size=\"14.00\" fill=\"#000000\">gini = 0.46</text>\n<text text-anchor=\"middle\" x=\"1680\" y=\"-260.8\" font-family=\"Helvetica,sans-Serif\" font-size=\"14.00\" fill=\"#000000\">samples = 134</text>\n<text text-anchor=\"middle\" x=\"1680\" y=\"-245.8\" font-family=\"Helvetica,sans-Serif\" font-size=\"14.00\" fill=\"#000000\">value = [48, 86]</text>\n<text text-anchor=\"middle\" x=\"1680\" y=\"-230.8\" font-family=\"Helvetica,sans-Serif\" font-size=\"14.00\" fill=\"#000000\">class = Not Exited</text>\n</g>\n<!-- 20&#45;&gt;37 -->\n<g id=\"edge51\" class=\"edge\">\n<title>20&#45;&gt;37</title>\n<path fill=\"none\" stroke=\"#000000\" d=\"M1680,-341.8796C1680,-333.6838 1680,-324.9891 1680,-316.5013\"/>\n<polygon fill=\"#000000\" stroke=\"#000000\" points=\"1683.5001,-316.298 1680,-306.2981 1676.5001,-316.2981 1683.5001,-316.298\"/>\n</g>\n<!-- 38 -->\n<g id=\"node55\" class=\"node\">\n<title>38</title>\n<path fill=\"#f0b58b\" stroke=\"#000000\" d=\"M1869,-298.5C1869,-298.5 1777,-298.5 1777,-298.5 1771,-298.5 1765,-292.5 1765,-286.5 1765,-286.5 1765,-242.5 1765,-242.5 1765,-236.5 1771,-230.5 1777,-230.5 1777,-230.5 1869,-230.5 1869,-230.5 1875,-230.5 1881,-236.5 1881,-242.5 1881,-242.5 1881,-286.5 1881,-286.5 1881,-292.5 1875,-298.5 1869,-298.5\"/>\n<text text-anchor=\"middle\" x=\"1823\" y=\"-283.3\" font-family=\"Helvetica,sans-Serif\" font-size=\"14.00\" fill=\"#000000\">gini = 0.415</text>\n<text text-anchor=\"middle\" x=\"1823\" y=\"-268.3\" font-family=\"Helvetica,sans-Serif\" font-size=\"14.00\" fill=\"#000000\">samples = 51</text>\n<text text-anchor=\"middle\" x=\"1823\" y=\"-253.3\" font-family=\"Helvetica,sans-Serif\" font-size=\"14.00\" fill=\"#000000\">value = [36, 15]</text>\n<text text-anchor=\"middle\" x=\"1823\" y=\"-238.3\" font-family=\"Helvetica,sans-Serif\" font-size=\"14.00\" fill=\"#000000\">class = Exited</text>\n</g>\n<!-- 20&#45;&gt;38 -->\n<g id=\"edge54\" class=\"edge\">\n<title>20&#45;&gt;38</title>\n<path fill=\"none\" stroke=\"#000000\" d=\"M1730.0145,-341.8796C1744.2853,-330.0038 1759.8151,-317.0804 1774.0233,-305.2568\"/>\n<polygon fill=\"#000000\" stroke=\"#000000\" points=\"1776.3166,-307.9019 1781.7644,-298.8149 1771.839,-302.5212 1776.3166,-307.9019\"/>\n</g>\n<!-- 51 -->\n<g id=\"node53\" class=\"node\">\n<title>51</title>\n<path fill=\"#83c1ef\" stroke=\"#000000\" d=\"M1667.5,-179.5C1667.5,-179.5 1558.5,-179.5 1558.5,-179.5 1552.5,-179.5 1546.5,-173.5 1546.5,-167.5 1546.5,-167.5 1546.5,-123.5 1546.5,-123.5 1546.5,-117.5 1552.5,-111.5 1558.5,-111.5 1558.5,-111.5 1667.5,-111.5 1667.5,-111.5 1673.5,-111.5 1679.5,-117.5 1679.5,-123.5 1679.5,-123.5 1679.5,-167.5 1679.5,-167.5 1679.5,-173.5 1673.5,-179.5 1667.5,-179.5\"/>\n<text text-anchor=\"middle\" x=\"1613\" y=\"-164.3\" font-family=\"Helvetica,sans-Serif\" font-size=\"14.00\" fill=\"#000000\">gini = 0.395</text>\n<text text-anchor=\"middle\" x=\"1613\" y=\"-149.3\" font-family=\"Helvetica,sans-Serif\" font-size=\"14.00\" fill=\"#000000\">samples = 96</text>\n<text text-anchor=\"middle\" x=\"1613\" y=\"-134.3\" font-family=\"Helvetica,sans-Serif\" font-size=\"14.00\" fill=\"#000000\">value = [26, 70]</text>\n<text text-anchor=\"middle\" x=\"1613\" y=\"-119.3\" font-family=\"Helvetica,sans-Serif\" font-size=\"14.00\" fill=\"#000000\">class = Not Exited</text>\n</g>\n<!-- 37&#45;&gt;51 -->\n<g id=\"edge52\" class=\"edge\">\n<title>37&#45;&gt;51</title>\n<path fill=\"none\" stroke=\"#000000\" d=\"M1656.5667,-222.8796C1650.3137,-211.7735 1643.5448,-199.7513 1637.249,-188.5691\"/>\n<polygon fill=\"#000000\" stroke=\"#000000\" points=\"1640.2761,-186.8116 1632.3202,-179.8149 1634.1765,-190.2459 1640.2761,-186.8116\"/>\n</g>\n<!-- 52 -->\n<g id=\"node54\" class=\"node\">\n<title>52</title>\n<path fill=\"#f8ddc9\" stroke=\"#000000\" d=\"M1802,-179.5C1802,-179.5 1710,-179.5 1710,-179.5 1704,-179.5 1698,-173.5 1698,-167.5 1698,-167.5 1698,-123.5 1698,-123.5 1698,-117.5 1704,-111.5 1710,-111.5 1710,-111.5 1802,-111.5 1802,-111.5 1808,-111.5 1814,-117.5 1814,-123.5 1814,-123.5 1814,-167.5 1814,-167.5 1814,-173.5 1808,-179.5 1802,-179.5\"/>\n<text text-anchor=\"middle\" x=\"1756\" y=\"-164.3\" font-family=\"Helvetica,sans-Serif\" font-size=\"14.00\" fill=\"#000000\">gini = 0.488</text>\n<text text-anchor=\"middle\" x=\"1756\" y=\"-149.3\" font-family=\"Helvetica,sans-Serif\" font-size=\"14.00\" fill=\"#000000\">samples = 38</text>\n<text text-anchor=\"middle\" x=\"1756\" y=\"-134.3\" font-family=\"Helvetica,sans-Serif\" font-size=\"14.00\" fill=\"#000000\">value = [22, 16]</text>\n<text text-anchor=\"middle\" x=\"1756\" y=\"-119.3\" font-family=\"Helvetica,sans-Serif\" font-size=\"14.00\" fill=\"#000000\">class = Exited</text>\n</g>\n<!-- 37&#45;&gt;52 -->\n<g id=\"edge53\" class=\"edge\">\n<title>37&#45;&gt;52</title>\n<path fill=\"none\" stroke=\"#000000\" d=\"M1706.5811,-222.8796C1713.674,-211.7735 1721.3521,-199.7513 1728.4937,-188.5691\"/>\n<polygon fill=\"#000000\" stroke=\"#000000\" points=\"1731.6518,-190.1267 1734.0846,-179.8149 1725.7523,-186.3589 1731.6518,-190.1267\"/>\n</g>\n<!-- 39 -->\n<g id=\"node57\" class=\"node\">\n<title>39</title>\n<path fill=\"#e68641\" stroke=\"#000000\" d=\"M1877,-417.5C1877,-417.5 1777,-417.5 1777,-417.5 1771,-417.5 1765,-411.5 1765,-405.5 1765,-405.5 1765,-361.5 1765,-361.5 1765,-355.5 1771,-349.5 1777,-349.5 1777,-349.5 1877,-349.5 1877,-349.5 1883,-349.5 1889,-355.5 1889,-361.5 1889,-361.5 1889,-405.5 1889,-405.5 1889,-411.5 1883,-417.5 1877,-417.5\"/>\n<text text-anchor=\"middle\" x=\"1827\" y=\"-402.3\" font-family=\"Helvetica,sans-Serif\" font-size=\"14.00\" fill=\"#000000\">gini = 0.074</text>\n<text text-anchor=\"middle\" x=\"1827\" y=\"-387.3\" font-family=\"Helvetica,sans-Serif\" font-size=\"14.00\" fill=\"#000000\">samples = 312</text>\n<text text-anchor=\"middle\" x=\"1827\" y=\"-372.3\" font-family=\"Helvetica,sans-Serif\" font-size=\"14.00\" fill=\"#000000\">value = [300, 12]</text>\n<text text-anchor=\"middle\" x=\"1827\" y=\"-357.3\" font-family=\"Helvetica,sans-Serif\" font-size=\"14.00\" fill=\"#000000\">class = Exited</text>\n</g>\n<!-- 18&#45;&gt;39 -->\n<g id=\"edge56\" class=\"edge\">\n<title>18&#45;&gt;39</title>\n<path fill=\"none\" stroke=\"#000000\" d=\"M1827,-460.8796C1827,-450.2134 1827,-438.7021 1827,-427.9015\"/>\n<polygon fill=\"#000000\" stroke=\"#000000\" points=\"1830.5001,-427.8149 1827,-417.8149 1823.5001,-427.815 1830.5001,-427.8149\"/>\n</g>\n<!-- 40 -->\n<g id=\"node58\" class=\"node\">\n<title>40</title>\n<path fill=\"#eca470\" stroke=\"#000000\" d=\"M2019,-417.5C2019,-417.5 1919,-417.5 1919,-417.5 1913,-417.5 1907,-411.5 1907,-405.5 1907,-405.5 1907,-361.5 1907,-361.5 1907,-355.5 1913,-349.5 1919,-349.5 1919,-349.5 2019,-349.5 2019,-349.5 2025,-349.5 2031,-355.5 2031,-361.5 2031,-361.5 2031,-405.5 2031,-405.5 2031,-411.5 2025,-417.5 2019,-417.5\"/>\n<text text-anchor=\"middle\" x=\"1969\" y=\"-402.3\" font-family=\"Helvetica,sans-Serif\" font-size=\"14.00\" fill=\"#000000\">gini = 0.34</text>\n<text text-anchor=\"middle\" x=\"1969\" y=\"-387.3\" font-family=\"Helvetica,sans-Serif\" font-size=\"14.00\" fill=\"#000000\">samples = 244</text>\n<text text-anchor=\"middle\" x=\"1969\" y=\"-372.3\" font-family=\"Helvetica,sans-Serif\" font-size=\"14.00\" fill=\"#000000\">value = [191, 53]</text>\n<text text-anchor=\"middle\" x=\"1969\" y=\"-357.3\" font-family=\"Helvetica,sans-Serif\" font-size=\"14.00\" fill=\"#000000\">class = Exited</text>\n</g>\n<!-- 18&#45;&gt;40 -->\n<g id=\"edge57\" class=\"edge\">\n<title>18&#45;&gt;40</title>\n<path fill=\"none\" stroke=\"#000000\" d=\"M1876.6647,-460.8796C1890.8358,-449.0038 1906.257,-436.0804 1920.3658,-424.2568\"/>\n<polygon fill=\"#000000\" stroke=\"#000000\" points=\"1922.6363,-426.9206 1928.0528,-417.8149 1918.1402,-421.5554 1922.6363,-426.9206\"/>\n</g>\n</g>\n</svg>\n"
          },
          "metadata": {
            "tags": []
          },
          "execution_count": 32
        }
      ]
    },
    {
      "cell_type": "markdown",
      "metadata": {
        "id": "QpludyujgHZx",
        "colab_type": "text"
      },
      "source": [
        "## Random forest"
      ]
    },
    {
      "cell_type": "code",
      "metadata": {
        "id": "7aBEWuGogJiP",
        "colab_type": "code",
        "outputId": "b536b47b-4647-4988-840e-15e9592199c8",
        "colab": {
          "base_uri": "https://localhost:8080/",
          "height": 136
        }
      },
      "source": [
        "from sklearn.ensemble import RandomForestClassifier\n",
        "\n",
        "random_forest = RandomForestClassifier(n_estimators=100,\n",
        "                                       random_state=5)\n",
        "\n",
        "random_forest.fit(x_training, y_training)"
      ],
      "execution_count": 0,
      "outputs": [
        {
          "output_type": "execute_result",
          "data": {
            "text/plain": [
              "RandomForestClassifier(bootstrap=True, class_weight=None, criterion='gini',\n",
              "                       max_depth=None, max_features='auto', max_leaf_nodes=None,\n",
              "                       min_impurity_decrease=0.0, min_impurity_split=None,\n",
              "                       min_samples_leaf=1, min_samples_split=2,\n",
              "                       min_weight_fraction_leaf=0.0, n_estimators=100,\n",
              "                       n_jobs=None, oob_score=False, random_state=5, verbose=0,\n",
              "                       warm_start=False)"
            ]
          },
          "metadata": {
            "tags": []
          },
          "execution_count": 35
        }
      ]
    },
    {
      "cell_type": "markdown",
      "metadata": {
        "id": "aQfpLfk-hHhX",
        "colab_type": "text"
      },
      "source": [
        "### Evaluation of performance"
      ]
    },
    {
      "cell_type": "code",
      "metadata": {
        "id": "FJ0-Vtfiglb2",
        "colab_type": "code",
        "outputId": "6029c22b-f3e7-451d-ba13-22d1818a9a7d",
        "colab": {
          "base_uri": "https://localhost:8080/",
          "height": 51
        }
      },
      "source": [
        "# For test data\n",
        "print(metrics.recall_score(y_test, random_forest.predict(x_test)))\n",
        "\n",
        "# For training data\n",
        "print(metrics.recall_score(y_training, random_forest.predict(x_training)))"
      ],
      "execution_count": 0,
      "outputs": [
        {
          "output_type": "stream",
          "text": [
            "0.4567901234567901\n",
            "1.0\n"
          ],
          "name": "stdout"
        }
      ]
    },
    {
      "cell_type": "markdown",
      "metadata": {
        "id": "oZtayfKahJUf",
        "colab_type": "text"
      },
      "source": [
        "This is a small data set. So since there is an overfitting with training data, so random forest is not a good model for this kind of dataset. We need really huge datasets, which can have multiple patterns."
      ]
    },
    {
      "cell_type": "markdown",
      "metadata": {
        "id": "O7rdy6Sftfw4",
        "colab_type": "text"
      },
      "source": [
        "# Neural Network"
      ]
    },
    {
      "cell_type": "markdown",
      "metadata": {
        "id": "Uv2F1on4u-Iv",
        "colab_type": "text"
      },
      "source": [
        "## Implementing a very simple 1-layer NN"
      ]
    },
    {
      "cell_type": "code",
      "metadata": {
        "id": "wrr-1YkVth-a",
        "colab_type": "code",
        "colab": {}
      },
      "source": [
        "import numpy as np\n",
        "\n",
        "x = np.array([1.0, 1.0, 1.0])\n",
        "y = np.array([30.0])\n",
        "\n",
        "w = np.array([0.2, 0.3, 0.1])\n",
        "alpha = 0.01"
      ],
      "execution_count": 0,
      "outputs": []
    },
    {
      "cell_type": "code",
      "metadata": {
        "id": "MA0eC49zt0Fd",
        "colab_type": "code",
        "outputId": "0ad0f826-a282-40aa-9783-1a9fc6ab1117",
        "colab": {
          "base_uri": "https://localhost:8080/",
          "height": 1000
        }
      },
      "source": [
        "for i in range(80):\n",
        "  z = np.dot(x, w)\n",
        "\n",
        "  # Applying activation function\n",
        "  y_hat = 2 * z\n",
        "\n",
        "  # Updating weights\n",
        "  w = w - alpha * (y_hat - y) * 2*x\n",
        "  print(y_hat)"
      ],
      "execution_count": 0,
      "outputs": [
        {
          "output_type": "stream",
          "text": [
            "1.2\n",
            "4.656000000000001\n",
            "7.69728\n",
            "10.3736064\n",
            "12.728773632000001\n",
            "14.801320796159999\n",
            "16.6251623006208\n",
            "18.230142824546306\n",
            "19.642525685600745\n",
            "20.885422603328657\n",
            "21.97917189092922\n",
            "22.941671264017714\n",
            "23.788670712335588\n",
            "24.534030226855315\n",
            "25.189946599632677\n",
            "25.767153007676754\n",
            "26.27509464675554\n",
            "26.722083289144877\n",
            "27.11543329444749\n",
            "27.461581299113792\n",
            "27.76619154322014\n",
            "28.034248558033717\n",
            "28.27013873106967\n",
            "28.477722083341312\n",
            "28.660395433340355\n",
            "28.82114798133951\n",
            "28.96261022357877\n",
            "29.087096996749317\n",
            "29.196645357139403\n",
            "29.293047914282674\n",
            "29.377882164568753\n",
            "29.452536304820505\n",
            "29.518231948242047\n",
            "29.576044114453\n",
            "29.626918820718643\n",
            "29.671688562232404\n",
            "29.71108593476451\n",
            "29.74575562259277\n",
            "29.776264947881636\n",
            "29.803113154135843\n",
            "29.826739575639543\n",
            "29.847530826562796\n",
            "29.86582712737526\n",
            "29.881927872090227\n",
            "29.896096527439397\n",
            "29.90856494414667\n",
            "29.919537150849067\n",
            "29.92919269274718\n",
            "29.937689569617522\n",
            "29.94516682126342\n",
            "29.95174680271181\n",
            "29.957537186386393\n",
            "29.962632724020025\n",
            "29.96711679713762\n",
            "29.97106278148111\n",
            "29.974535247703376\n",
            "29.977591017978973\n",
            "29.98028009582149\n",
            "29.982646484322917\n",
            "29.984728906204165\n",
            "29.986561437459663\n",
            "29.988174064964504\n",
            "29.989593177168764\n",
            "29.99084199590851\n",
            "29.991940956399485\n",
            "29.992908041631544\n",
            "29.99375907663576\n",
            "29.99450798743947\n",
            "29.99516702894674\n",
            "29.99574698547313\n",
            "29.996257347216353\n",
            "29.99670646555039\n",
            "29.997101689684342\n",
            "29.99744948692222\n",
            "29.997755548491554\n",
            "29.998024882672567\n",
            "29.998261896751856\n",
            "29.99847046914163\n",
            "29.998654012844636\n",
            "29.99881553130328\n"
          ],
          "name": "stdout"
        }
      ]
    },
    {
      "cell_type": "markdown",
      "metadata": {
        "id": "DyaGN4aO9PcG",
        "colab_type": "text"
      },
      "source": [
        "## MNIST dataset"
      ]
    },
    {
      "cell_type": "code",
      "metadata": {
        "id": "PGEblI8d9R0y",
        "colab_type": "code",
        "colab": {}
      },
      "source": [
        "from keras import datasets\n",
        "from keras import models, layers\n",
        "from keras.utils.np_utils import to_categorical"
      ],
      "execution_count": 0,
      "outputs": []
    },
    {
      "cell_type": "code",
      "metadata": {
        "id": "lq5Qn8GU9cak",
        "colab_type": "code",
        "outputId": "14c683d1-338d-42ed-8b77-6695e8c2fe27",
        "colab": {
          "base_uri": "https://localhost:8080/",
          "height": 85
        }
      },
      "source": [
        "# Loading dataset from keras (it has some standard datasets already available)\n",
        "\n",
        "(x_training, y_training), (x_test, y_test) = datasets.mnist.load_data()\n",
        "\n",
        "print(x_training.shape)\n",
        "print(y_training.shape)\n",
        "print(x_test.shape)\n",
        "print(y_test.shape)"
      ],
      "execution_count": 0,
      "outputs": [
        {
          "output_type": "stream",
          "text": [
            "(60000, 28, 28)\n",
            "(60000,)\n",
            "(10000, 28, 28)\n",
            "(10000,)\n"
          ],
          "name": "stdout"
        }
      ]
    },
    {
      "cell_type": "code",
      "metadata": {
        "id": "wE17gAI39510",
        "colab_type": "code",
        "outputId": "62cae08c-d5c0-47dd-e166-a68147f0f14b",
        "colab": {
          "base_uri": "https://localhost:8080/",
          "height": 286
        }
      },
      "source": [
        "# Data exploration\n",
        "\n",
        "import matplotlib.pyplot as plt\n",
        "\n",
        "plt.imshow(x_training[1], cmap=\"gray\")\n",
        "plt.show()\n",
        "\n",
        "print(y_training[1])"
      ],
      "execution_count": 0,
      "outputs": [
        {
          "output_type": "display_data",
          "data": {
            "image/png": "[encoded data removed]",
            "text/plain": [
              "<Figure size 432x288 with 1 Axes>"
            ]
          },
          "metadata": {
            "tags": []
          }
        },
        {
          "output_type": "stream",
          "text": [
            "0\n"
          ],
          "name": "stdout"
        }
      ]
    },
    {
      "cell_type": "code",
      "metadata": {
        "id": "sPnPTwWU-L2u",
        "colab_type": "code",
        "outputId": "86be6743-d0fa-428f-d519-82ec140051c2",
        "colab": {
          "base_uri": "https://localhost:8080/",
          "height": 51
        }
      },
      "source": [
        "# IMPORTANT: Make sure not to run this again otherwise, it will update in itself\n",
        "\n",
        "# Pre-processing\n",
        "\n",
        "# One-hot encoding of labels\n",
        "\n",
        "y_training = to_categorical(y_training)\n",
        "y_test = to_categorical(y_test)\n",
        "\n",
        "print(y_training.shape)\n",
        "print(y_test.shape)\n",
        "\n",
        "# Scaling the images - for dimensionality reduction\n",
        "\n",
        "x_training = x_training/255\n",
        "y_training = y_training/255"
      ],
      "execution_count": 0,
      "outputs": [
        {
          "output_type": "stream",
          "text": [
            "(60000, 10)\n",
            "(10000, 10)\n"
          ],
          "name": "stdout"
        }
      ]
    },
    {
      "cell_type": "code",
      "metadata": {
        "id": "5YmT0T_CAHQY",
        "colab_type": "code",
        "colab": {}
      },
      "source": [
        "# Building the model\n",
        "\n",
        "model = models.Sequential()\n",
        "model.add(layers.Flatten(input_shape=(28, 28)))\n",
        "model.add(layers.Dense(100, activation=\"relu\"))\n",
        "model.add(layers.Dense(10, activation=\"softmax\"))\n",
        "\n",
        "# Compile the model\n",
        "\n",
        "model.compile(loss=\"categorical_crossentropy\", optimizer=\"adam\", metrics=[\"accuracy\"])"
      ],
      "execution_count": 0,
      "outputs": []
    },
    {
      "cell_type": "code",
      "metadata": {
        "id": "Ght7DRxqBdC-",
        "colab_type": "code",
        "outputId": "b6c7647b-c00f-4e8f-b8ac-3790843d95f4",
        "colab": {
          "base_uri": "https://localhost:8080/",
          "height": 374
        }
      },
      "source": [
        "# Training the model\n",
        "\n",
        "model.fit(x_training, y_training, batch_size=1000, epochs=10, verbose=True)"
      ],
      "execution_count": 0,
      "outputs": [
        {
          "output_type": "stream",
          "text": [
            "Epoch 1/10\n",
            "60000/60000 [==============================] - 1s 21us/step - loss: 0.0037 - acc: 0.7585\n",
            "Epoch 2/10\n",
            "60000/60000 [==============================] - 1s 17us/step - loss: 0.0014 - acc: 0.9030\n",
            "Epoch 3/10\n",
            "60000/60000 [==============================] - 1s 15us/step - loss: 0.0011 - acc: 0.9232\n",
            "Epoch 4/10\n",
            "60000/60000 [==============================] - 1s 15us/step - loss: 9.3704e-04 - acc: 0.9346\n",
            "Epoch 5/10\n",
            "60000/60000 [==============================] - 1s 14us/step - loss: 8.2109e-04 - acc: 0.9420\n",
            "Epoch 6/10\n",
            "60000/60000 [==============================] - 1s 15us/step - loss: 7.3261e-04 - acc: 0.9484\n",
            "Epoch 7/10\n",
            "60000/60000 [==============================] - 1s 15us/step - loss: 6.6443e-04 - acc: 0.9526\n",
            "Epoch 8/10\n",
            "60000/60000 [==============================] - 1s 14us/step - loss: 6.0811e-04 - acc: 0.9567\n",
            "Epoch 9/10\n",
            "60000/60000 [==============================] - 1s 14us/step - loss: 5.5785e-04 - acc: 0.9605\n",
            "Epoch 10/10\n",
            "60000/60000 [==============================] - 1s 14us/step - loss: 5.1662e-04 - acc: 0.9631\n"
          ],
          "name": "stdout"
        },
        {
          "output_type": "execute_result",
          "data": {
            "text/plain": [
              "<keras.callbacks.History at 0x7f09c38175c0>"
            ]
          },
          "metadata": {
            "tags": []
          },
          "execution_count": 68
        }
      ]
    },
    {
      "cell_type": "code",
      "metadata": {
        "id": "CbWYhNYcB1AP",
        "colab_type": "code",
        "outputId": "9a222aea-eb42-4da7-e773-c8699c5d9db8",
        "colab": {
          "base_uri": "https://localhost:8080/",
          "height": 51
        }
      },
      "source": [
        "loss, accuracy = model.evaluate(x_test, y_test)\n",
        "print(accuracy)"
      ],
      "execution_count": 0,
      "outputs": [
        {
          "output_type": "stream",
          "text": [
            "10000/10000 [==============================] - 0s 30us/step\n",
            "0.956\n"
          ],
          "name": "stdout"
        }
      ]
    },
    {
      "cell_type": "markdown",
      "metadata": {
        "id": "xa4QFMqZJ6x8",
        "colab_type": "text"
      },
      "source": [
        "# Natural Language Processing"
      ]
    },
    {
      "cell_type": "markdown",
      "metadata": {
        "id": "eD0XB7IGL1Oj",
        "colab_type": "text"
      },
      "source": [
        "## Speech to Text conversion"
      ]
    },
    {
      "cell_type": "code",
      "metadata": {
        "id": "oCyFviDmJ9lW",
        "colab_type": "code",
        "outputId": "58a863db-4912-4f1f-9a7c-74cc5b64311b",
        "colab": {
          "base_uri": "https://localhost:8080/",
          "height": 85
        }
      },
      "source": [
        "!apt-get install conda && conda install pyaudio # This is not available with pyaudio it seems\n",
        "# !pip install SpeechRecognition\n",
        "# !pip install pyttsx3"
      ],
      "execution_count": 0,
      "outputs": [
        {
          "output_type": "stream",
          "text": [
            "Reading package lists... Done\n",
            "Building dependency tree       \n",
            "Reading state information... Done\n",
            "E: Unable to locate package conda\n"
          ],
          "name": "stdout"
        }
      ]
    },
    {
      "cell_type": "code",
      "metadata": {
        "id": "3yLNklmtKUhl",
        "colab_type": "code",
        "colab": {}
      },
      "source": [
        "import speech_recognition as sr\n",
        "\n",
        "r = sr.Recognizer()"
      ],
      "execution_count": 0,
      "outputs": []
    },
    {
      "cell_type": "code",
      "metadata": {
        "id": "y91zFUg7Ku_D",
        "colab_type": "code",
        "outputId": "6f0a79e8-fd59-4006-d968-99e02f49548d",
        "colab": {
          "base_uri": "https://localhost:8080/",
          "height": 426
        }
      },
      "source": [
        "# Record audio\n",
        "with sr.Microphone(0) as source:\n",
        "  audio = r.listen(source, phrase_time_limit=5)\n",
        "\n",
        "text = r.recognize_google(audio)\n",
        "print(text)"
      ],
      "execution_count": 0,
      "outputs": [
        {
          "output_type": "error",
          "ename": "AttributeError",
          "evalue": "ignored",
          "traceback": [
            "\u001b[0;31m---------------------------------------------------------------------------\u001b[0m",
            "\u001b[0;31mModuleNotFoundError\u001b[0m                       Traceback (most recent call last)",
            "\u001b[0;32m/usr/local/lib/python3.6/dist-packages/speech_recognition/__init__.py\u001b[0m in \u001b[0;36mget_pyaudio\u001b[0;34m()\u001b[0m\n\u001b[1;32m    107\u001b[0m         \u001b[0;32mtry\u001b[0m\u001b[0;34m:\u001b[0m\u001b[0;34m\u001b[0m\u001b[0;34m\u001b[0m\u001b[0m\n\u001b[0;32m--> 108\u001b[0;31m             \u001b[0;32mimport\u001b[0m \u001b[0mpyaudio\u001b[0m\u001b[0;34m\u001b[0m\u001b[0;34m\u001b[0m\u001b[0m\n\u001b[0m\u001b[1;32m    109\u001b[0m         \u001b[0;32mexcept\u001b[0m \u001b[0mImportError\u001b[0m\u001b[0;34m:\u001b[0m\u001b[0;34m\u001b[0m\u001b[0;34m\u001b[0m\u001b[0m\n",
            "\u001b[0;31mModuleNotFoundError\u001b[0m: No module named 'pyaudio'",
            "\nDuring handling of the above exception, another exception occurred:\n",
            "\u001b[0;31mAttributeError\u001b[0m                            Traceback (most recent call last)",
            "\u001b[0;32m<ipython-input-75-47ca6f6d9799>\u001b[0m in \u001b[0;36m<module>\u001b[0;34m()\u001b[0m\n\u001b[0;32m----> 1\u001b[0;31m \u001b[0;32mwith\u001b[0m \u001b[0msr\u001b[0m\u001b[0;34m.\u001b[0m\u001b[0mMicrophone\u001b[0m\u001b[0;34m(\u001b[0m\u001b[0;36m0\u001b[0m\u001b[0;34m)\u001b[0m \u001b[0;32mas\u001b[0m \u001b[0msource\u001b[0m\u001b[0;34m:\u001b[0m\u001b[0;34m\u001b[0m\u001b[0;34m\u001b[0m\u001b[0m\n\u001b[0m\u001b[1;32m      2\u001b[0m   \u001b[0maudio\u001b[0m \u001b[0;34m=\u001b[0m \u001b[0mr\u001b[0m\u001b[0;34m.\u001b[0m\u001b[0mlisten\u001b[0m\u001b[0;34m(\u001b[0m\u001b[0msource\u001b[0m\u001b[0;34m,\u001b[0m \u001b[0mphrase_time_limit\u001b[0m\u001b[0;34m=\u001b[0m\u001b[0;36m5\u001b[0m\u001b[0;34m)\u001b[0m\u001b[0;34m\u001b[0m\u001b[0;34m\u001b[0m\u001b[0m\n\u001b[1;32m      3\u001b[0m \u001b[0;34m\u001b[0m\u001b[0m\n\u001b[1;32m      4\u001b[0m \u001b[0mtext\u001b[0m \u001b[0;34m=\u001b[0m \u001b[0mr\u001b[0m\u001b[0;34m.\u001b[0m\u001b[0mrecognize_google\u001b[0m\u001b[0;34m(\u001b[0m\u001b[0maudio\u001b[0m\u001b[0;34m)\u001b[0m\u001b[0;34m\u001b[0m\u001b[0;34m\u001b[0m\u001b[0m\n\u001b[1;32m      5\u001b[0m \u001b[0mprint\u001b[0m\u001b[0;34m(\u001b[0m\u001b[0mtext\u001b[0m\u001b[0;34m)\u001b[0m\u001b[0;34m\u001b[0m\u001b[0;34m\u001b[0m\u001b[0m\n",
            "\u001b[0;32m/usr/local/lib/python3.6/dist-packages/speech_recognition/__init__.py\u001b[0m in \u001b[0;36m__init__\u001b[0;34m(self, device_index, sample_rate, chunk_size)\u001b[0m\n\u001b[1;32m     77\u001b[0m \u001b[0;34m\u001b[0m\u001b[0m\n\u001b[1;32m     78\u001b[0m         \u001b[0;31m# set up PyAudio\u001b[0m\u001b[0;34m\u001b[0m\u001b[0;34m\u001b[0m\u001b[0;34m\u001b[0m\u001b[0m\n\u001b[0;32m---> 79\u001b[0;31m         \u001b[0mself\u001b[0m\u001b[0;34m.\u001b[0m\u001b[0mpyaudio_module\u001b[0m \u001b[0;34m=\u001b[0m \u001b[0mself\u001b[0m\u001b[0;34m.\u001b[0m\u001b[0mget_pyaudio\u001b[0m\u001b[0;34m(\u001b[0m\u001b[0;34m)\u001b[0m\u001b[0;34m\u001b[0m\u001b[0;34m\u001b[0m\u001b[0m\n\u001b[0m\u001b[1;32m     80\u001b[0m         \u001b[0maudio\u001b[0m \u001b[0;34m=\u001b[0m \u001b[0mself\u001b[0m\u001b[0;34m.\u001b[0m\u001b[0mpyaudio_module\u001b[0m\u001b[0;34m.\u001b[0m\u001b[0mPyAudio\u001b[0m\u001b[0;34m(\u001b[0m\u001b[0;34m)\u001b[0m\u001b[0;34m\u001b[0m\u001b[0;34m\u001b[0m\u001b[0m\n\u001b[1;32m     81\u001b[0m         \u001b[0;32mtry\u001b[0m\u001b[0;34m:\u001b[0m\u001b[0;34m\u001b[0m\u001b[0;34m\u001b[0m\u001b[0m\n",
            "\u001b[0;32m/usr/local/lib/python3.6/dist-packages/speech_recognition/__init__.py\u001b[0m in \u001b[0;36mget_pyaudio\u001b[0;34m()\u001b[0m\n\u001b[1;32m    108\u001b[0m             \u001b[0;32mimport\u001b[0m \u001b[0mpyaudio\u001b[0m\u001b[0;34m\u001b[0m\u001b[0;34m\u001b[0m\u001b[0m\n\u001b[1;32m    109\u001b[0m         \u001b[0;32mexcept\u001b[0m \u001b[0mImportError\u001b[0m\u001b[0;34m:\u001b[0m\u001b[0;34m\u001b[0m\u001b[0;34m\u001b[0m\u001b[0m\n\u001b[0;32m--> 110\u001b[0;31m             \u001b[0;32mraise\u001b[0m \u001b[0mAttributeError\u001b[0m\u001b[0;34m(\u001b[0m\u001b[0;34m\"Could not find PyAudio; check installation\"\u001b[0m\u001b[0;34m)\u001b[0m\u001b[0;34m\u001b[0m\u001b[0;34m\u001b[0m\u001b[0m\n\u001b[0m\u001b[1;32m    111\u001b[0m         \u001b[0;32mfrom\u001b[0m \u001b[0mdistutils\u001b[0m\u001b[0;34m.\u001b[0m\u001b[0mversion\u001b[0m \u001b[0;32mimport\u001b[0m \u001b[0mLooseVersion\u001b[0m\u001b[0;34m\u001b[0m\u001b[0;34m\u001b[0m\u001b[0m\n\u001b[1;32m    112\u001b[0m         \u001b[0;32mif\u001b[0m \u001b[0mLooseVersion\u001b[0m\u001b[0;34m(\u001b[0m\u001b[0mpyaudio\u001b[0m\u001b[0;34m.\u001b[0m\u001b[0m__version__\u001b[0m\u001b[0;34m)\u001b[0m \u001b[0;34m<\u001b[0m \u001b[0mLooseVersion\u001b[0m\u001b[0;34m(\u001b[0m\u001b[0;34m\"0.2.11\"\u001b[0m\u001b[0;34m)\u001b[0m\u001b[0;34m:\u001b[0m\u001b[0;34m\u001b[0m\u001b[0;34m\u001b[0m\u001b[0m\n",
            "\u001b[0;31mAttributeError\u001b[0m: Could not find PyAudio; check installation"
          ]
        }
      ]
    },
    {
      "cell_type": "markdown",
      "metadata": {
        "id": "bi3OjNSeL641",
        "colab_type": "text"
      },
      "source": [
        "## Text to speech conversion"
      ]
    },
    {
      "cell_type": "code",
      "metadata": {
        "id": "YPyp4Fq3Uka9",
        "colab_type": "code",
        "colab": {}
      },
      "source": [
        "!apt-get install espeak"
      ],
      "execution_count": 0,
      "outputs": []
    },
    {
      "cell_type": "code",
      "metadata": {
        "id": "cwczvGDWLIyk",
        "colab_type": "code",
        "colab": {}
      },
      "source": [
        "# Text to speech\n",
        "import pyttsx3\n",
        "\n",
        "engine = pyttsx3.init()\n",
        "data = \"Hello everyone, hope you like Machine Leaarning\"\n",
        "engine.say(data)\n",
        "engine.runAndWait()"
      ],
      "execution_count": 0,
      "outputs": []
    },
    {
      "cell_type": "markdown",
      "metadata": {
        "id": "TPSj0jENL-HA",
        "colab_type": "text"
      },
      "source": [
        "## Text preprocessing\n",
        "\n",
        "Finding patterns using regular expressions"
      ]
    },
    {
      "cell_type": "markdown",
      "metadata": {
        "id": "jSSTut1JRToH",
        "colab_type": "text"
      },
      "source": [
        "### Text splitting"
      ]
    },
    {
      "cell_type": "code",
      "metadata": {
        "id": "wLS86VIGMBSp",
        "colab_type": "code",
        "colab": {}
      },
      "source": [
        "import re"
      ],
      "execution_count": 0,
      "outputs": []
    },
    {
      "cell_type": "code",
      "metadata": {
        "id": "P0lBwKtgMC9k",
        "colab_type": "code",
        "outputId": "a89f2fc8-d994-4f16-e7ce-21d77cd1b67a",
        "colab": {
          "base_uri": "https://localhost:8080/",
          "height": 34
        }
      },
      "source": [
        "# Finding the phone numbers\n",
        "\n",
        "data = \"my mobile number is 1234567890 and what is yours?\"\n",
        "\n",
        "re.findall(\"[0-9]{10}\", data)"
      ],
      "execution_count": 0,
      "outputs": [
        {
          "output_type": "execute_result",
          "data": {
            "text/plain": [
              "['1234567890']"
            ]
          },
          "metadata": {
            "tags": []
          },
          "execution_count": 78
        }
      ]
    },
    {
      "cell_type": "code",
      "metadata": {
        "id": "UexjE74rMVqc",
        "colab_type": "code",
        "colab": {}
      },
      "source": [
        "data = \"\"\"\n",
        "My birthday is 12-12-1889 and your birthday is 01-04-1992 and his birthday is 21/03/1934\n",
        "and my email id is something@text.com and his email id is test@test.com\n",
        "\"\"\""
      ],
      "execution_count": 0,
      "outputs": []
    },
    {
      "cell_type": "code",
      "metadata": {
        "id": "TE0qI2lgNS5-",
        "colab_type": "code",
        "outputId": "c363bfe6-515f-4773-d11d-b27bf9e37c71",
        "colab": {
          "base_uri": "https://localhost:8080/",
          "height": 34
        }
      },
      "source": [
        "# Find dates\n",
        "\n",
        "pattern = \"[0-9]{1,2}-[0-9]{1,2}-[0-9]{4}|[0-9]{1,2}/[0-9]{1,2}/[0-9]{4}\"\n",
        "re.findall(pattern, data)"
      ],
      "execution_count": 0,
      "outputs": [
        {
          "output_type": "execute_result",
          "data": {
            "text/plain": [
              "['12-12-1889', '01-04-1992', '21/03/1934']"
            ]
          },
          "metadata": {
            "tags": []
          },
          "execution_count": 81
        }
      ]
    },
    {
      "cell_type": "code",
      "metadata": {
        "id": "4LGxceH-NMKF",
        "colab_type": "code",
        "outputId": "e32435db-2c2a-4f75-d995-e3b63a1392aa",
        "colab": {
          "base_uri": "https://localhost:8080/",
          "height": 34
        }
      },
      "source": [
        "# Finding emails\n",
        "\n",
        "pattern = \"[0-9a-zA-Z._]+@[a-zA-Z0-9._]+\"\n",
        "re.findall(pattern, data)"
      ],
      "execution_count": 0,
      "outputs": [
        {
          "output_type": "execute_result",
          "data": {
            "text/plain": [
              "['something@text.com', 'test@test.com']"
            ]
          },
          "metadata": {
            "tags": []
          },
          "execution_count": 82
        }
      ]
    },
    {
      "cell_type": "code",
      "metadata": {
        "id": "W-ReuprXN8T3",
        "colab_type": "code",
        "outputId": "73db6348-6199-45cc-e434-ddfd60f26e41",
        "colab": {
          "base_uri": "https://localhost:8080/",
          "height": 54
        }
      },
      "source": [
        "data = \"Bengaluru (also called Bangalore) is the capital of Karnataka.\"\n",
        "data += \" Mr. Mac is visiting my house to clean it.\"\n",
        "data += \" Can you help me with your car today? Thanks!\"\n",
        "data += \" I need some help please connect on something@test.com.\"\n",
        "data += \" Thanks for informing me.\"\n",
        "\n",
        "print (data)"
      ],
      "execution_count": 0,
      "outputs": [
        {
          "output_type": "stream",
          "text": [
            "Bengaluru (also called Bangalore) is the capital of Karnataka. Mr. Mac is visiting my house to clean it. Can you help me with your car today? Thanks! I need some help please connect on something@test.com. Thanks for informing me.\n"
          ],
          "name": "stdout"
        }
      ]
    },
    {
      "cell_type": "code",
      "metadata": {
        "id": "sw_9Es6KOZ52",
        "colab_type": "code",
        "outputId": "c301b764-db54-4e69-a82f-f5cb39a5adff",
        "colab": {
          "base_uri": "https://localhost:8080/",
          "height": 136
        }
      },
      "source": [
        "data.split(\".\")"
      ],
      "execution_count": 0,
      "outputs": [
        {
          "output_type": "execute_result",
          "data": {
            "text/plain": [
              "['Bengaluru (also called Bangalore) is the capital of Karnataka',\n",
              " ' Mr',\n",
              " ' Mac is visiting my house to clean it',\n",
              " ' Can you help me with your car today? Thanks! I need some help please connect on something@test',\n",
              " 'com',\n",
              " ' Thanks for informing me',\n",
              " '']"
            ]
          },
          "metadata": {
            "tags": []
          },
          "execution_count": 84
        }
      ]
    },
    {
      "cell_type": "code",
      "metadata": {
        "id": "exVfGhT0OeQf",
        "colab_type": "code",
        "outputId": "83d6c110-33e4-47b3-81a8-6a925f6935db",
        "colab": {
          "base_uri": "https://localhost:8080/",
          "height": 289
        }
      },
      "source": [
        "import nltk\n",
        "# Downloading libraries for punctuations and word vocabulary\n",
        "nltk.download(\"punkt\")\n",
        "nltk.download(\"wordnet\")\n",
        "\n",
        "#Downloading libraries for parts of speech, list of tags for parts of speech, chunking data and downloads words\n",
        "nltk.download('averaged_perceptron_tagger')\n",
        "nltk.download('tagsets')\n",
        "nltk.download('maxent_ne_chunker')\n",
        "\n",
        "nltk.download('words')"
      ],
      "execution_count": 0,
      "outputs": [
        {
          "output_type": "stream",
          "text": [
            "[nltk_data] Downloading package punkt to /root/nltk_data...\n",
            "[nltk_data]   Package punkt is already up-to-date!\n",
            "[nltk_data] Downloading package wordnet to /root/nltk_data...\n",
            "[nltk_data]   Package wordnet is already up-to-date!\n",
            "[nltk_data] Downloading package averaged_perceptron_tagger to\n",
            "[nltk_data]     /root/nltk_data...\n",
            "[nltk_data]   Package averaged_perceptron_tagger is already up-to-\n",
            "[nltk_data]       date!\n",
            "[nltk_data] Downloading package tagsets to /root/nltk_data...\n",
            "[nltk_data]   Package tagsets is already up-to-date!\n",
            "[nltk_data] Downloading package maxent_ne_chunker to\n",
            "[nltk_data]     /root/nltk_data...\n",
            "[nltk_data]   Package maxent_ne_chunker is already up-to-date!\n",
            "[nltk_data] Downloading package words to /root/nltk_data...\n",
            "[nltk_data]   Unzipping corpora/words.zip.\n"
          ],
          "name": "stdout"
        },
        {
          "output_type": "execute_result",
          "data": {
            "text/plain": [
              "True"
            ]
          },
          "metadata": {
            "tags": []
          },
          "execution_count": 108
        }
      ]
    },
    {
      "cell_type": "code",
      "metadata": {
        "id": "rigmkcdjOhaT",
        "colab_type": "code",
        "outputId": "42c97fa7-9c91-45c9-ff98-855351add9ba",
        "colab": {
          "base_uri": "https://localhost:8080/",
          "height": 71
        }
      },
      "source": [
        "print(nltk.sent_tokenize(data))\n",
        "print(nltk.word_tokenize(data))"
      ],
      "execution_count": 0,
      "outputs": [
        {
          "output_type": "stream",
          "text": [
            "['Bengaluru (also called Bangalore) is the capital of Karnataka.', 'Mr. Mac is visiting my house to clean it.', 'Can you help me with your car today?', 'Thanks!', 'I need some help please connect on something@test.com.', 'Thanks for informing me.']\n",
            "['Bengaluru', '(', 'also', 'called', 'Bangalore', ')', 'is', 'the', 'capital', 'of', 'Karnataka', '.', 'Mr.', 'Mac', 'is', 'visiting', 'my', 'house', 'to', 'clean', 'it', '.', 'Can', 'you', 'help', 'me', 'with', 'your', 'car', 'today', '?', 'Thanks', '!', 'I', 'need', 'some', 'help', 'please', 'connect', 'on', 'something', '@', 'test.com', '.', 'Thanks', 'for', 'informing', 'me', '.']\n"
          ],
          "name": "stdout"
        }
      ]
    },
    {
      "cell_type": "markdown",
      "metadata": {
        "id": "F6HSwmfFQIyM",
        "colab_type": "text"
      },
      "source": [
        "### Morphological Analysis - converting word to its root form\n",
        "\n",
        "Stemming - Faster, less accurate, works on spelling level <br>\n",
        "Lemmatization - Slower, more accurate, works on meaning level"
      ]
    },
    {
      "cell_type": "code",
      "metadata": {
        "id": "b9F2DOllQcL5",
        "colab_type": "code",
        "outputId": "bfcb2255-a405-413f-9931-cf489faefb80",
        "colab": {
          "base_uri": "https://localhost:8080/",
          "height": 85
        }
      },
      "source": [
        "from nltk.stem import PorterStemmer\n",
        "\n",
        "ps = PorterStemmer()\n",
        "print(ps.stem(\"cars\"))\n",
        "print(ps.stem(\"boys\"))\n",
        "print(ps.stem(\"boxes\"))\n",
        "print(ps.stem(\"wives\"))\n",
        "print(ps.stem(\"children\"))"
      ],
      "execution_count": 0,
      "outputs": [
        {
          "output_type": "stream",
          "text": [
            "car\n",
            "boy\n",
            "box\n",
            "wive\n"
          ],
          "name": "stdout"
        }
      ]
    },
    {
      "cell_type": "code",
      "metadata": {
        "id": "VOcZfntLQ50W",
        "colab_type": "code",
        "outputId": "c6a3f61e-2483-409e-cb0e-10568a36895c",
        "colab": {
          "base_uri": "https://localhost:8080/",
          "height": 102
        }
      },
      "source": [
        "from nltk.stem import WordNetLemmatizer\n",
        "\n",
        "wd = WordNetLemmatizer()\n",
        "print(wd.lemmatize(\"cars\"))\n",
        "print(wd.lemmatize(\"boys\"))\n",
        "print(wd.lemmatize(\"boxes\"))\n",
        "print(wd.lemmatize(\"wives\"))\n",
        "print(wd.lemmatize(\"children\"))"
      ],
      "execution_count": 0,
      "outputs": [
        {
          "output_type": "stream",
          "text": [
            "car\n",
            "boy\n",
            "box\n",
            "wife\n",
            "child\n"
          ],
          "name": "stdout"
        }
      ]
    },
    {
      "cell_type": "markdown",
      "metadata": {
        "id": "pJ26xEKFRa3R",
        "colab_type": "text"
      },
      "source": [
        "### Part of speech"
      ]
    },
    {
      "cell_type": "code",
      "metadata": {
        "id": "E3V55xPkRdFz",
        "colab_type": "code",
        "outputId": "3414fe5b-4df2-4eeb-ef7e-f5524d6e6fa8",
        "colab": {
          "base_uri": "https://localhost:8080/",
          "height": 122
        }
      },
      "source": [
        "data = \"John bought a watch in Delhi and he liked it.\"\n",
        "print(nltk.pos_tag(nltk.word_tokenize(data)))\n",
        "nltk.help.upenn_tagset(\"NNP\")"
      ],
      "execution_count": 0,
      "outputs": [
        {
          "output_type": "stream",
          "text": [
            "[('John', 'NNP'), ('bought', 'VBD'), ('a', 'DT'), ('watch', 'NN'), ('in', 'IN'), ('Delhi', 'NNP'), ('and', 'CC'), ('he', 'PRP'), ('liked', 'VBD'), ('it', 'PRP'), ('.', '.')]\n",
            "NNP: noun, proper, singular\n",
            "    Motown Venneboerger Czestochwa Ranzer Conchita Trumplane Christos\n",
            "    Oceanside Escobar Kreisler Sawyer Cougar Yvette Ervin ODI Darryl CTCA\n",
            "    Shannon A.K.C. Meltex Liverpool ...\n"
          ],
          "name": "stdout"
        }
      ]
    },
    {
      "cell_type": "code",
      "metadata": {
        "id": "0UEmtg5oSueX",
        "colab_type": "code",
        "outputId": "1f638ecf-86b8-4e40-c8f7-d9778ff2fbbb",
        "colab": {
          "base_uri": "https://localhost:8080/",
          "height": 238
        }
      },
      "source": [
        "data = \"Rajesh Kumar is a manager of ABC Information Pvt Ltd and he is from India\"\n",
        "print(nltk.chunk.ne_chunk(nltk.pos_tag(nltk.word_tokenize(data))))"
      ],
      "execution_count": 0,
      "outputs": [
        {
          "output_type": "stream",
          "text": [
            "(S\n",
            "  (PERSON Rajesh/NNP)\n",
            "  (PERSON Kumar/NNP)\n",
            "  is/VBZ\n",
            "  a/DT\n",
            "  manager/NN\n",
            "  of/IN\n",
            "  (ORGANIZATION ABC/NNP Information/NNP Pvt/NNP Ltd/NNP)\n",
            "  and/CC\n",
            "  he/PRP\n",
            "  is/VBZ\n",
            "  from/IN\n",
            "  (GPE India/NNP))\n"
          ],
          "name": "stdout"
        }
      ]
    },
    {
      "cell_type": "markdown",
      "metadata": {
        "id": "BqBcYjgvdb8n",
        "colab_type": "text"
      },
      "source": [
        "## Email classifier"
      ]
    },
    {
      "cell_type": "code",
      "metadata": {
        "id": "zl2bIu8Edez3",
        "colab_type": "code",
        "outputId": "0580c20f-2530-40e3-c252-6d689696d3f1",
        "colab": {
          "base_uri": "https://localhost:8080/",
          "height": 119
        }
      },
      "source": [
        "# Loading the dataset\n",
        "\n",
        "from sklearn import datasets\n",
        "\n",
        "train_data = datasets.fetch_20newsgroups(subset=\"train\")\n",
        "test_data = datasets.fetch_20newsgroups(subset=\"test\")\n",
        "\n",
        "x_training = train_data.data\n",
        "y_training = train_data.target\n",
        "x_test = test_data.data\n",
        "y_test = test_data.target\n",
        "\n",
        "print(len(x_training))\n",
        "print(len(y_training))\n",
        "print(len(x_test))\n",
        "print(len(y_test))"
      ],
      "execution_count": 0,
      "outputs": [
        {
          "output_type": "stream",
          "text": [
            "Downloading 20news dataset. This may take a few minutes.\n",
            "Downloading dataset from https://ndownloader.figshare.com/files/5975967 (14 MB)\n"
          ],
          "name": "stderr"
        },
        {
          "output_type": "stream",
          "text": [
            "11314\n",
            "11314\n",
            "7532\n",
            "7532\n"
          ],
          "name": "stdout"
        }
      ]
    },
    {
      "cell_type": "code",
      "metadata": {
        "id": "rK5-yhk5eQ3b",
        "colab_type": "code",
        "outputId": "7b72baf6-4e6a-415e-b288-b6a1b5bfbc1c",
        "colab": {
          "base_uri": "https://localhost:8080/",
          "height": 391
        }
      },
      "source": [
        "# Exploring the dataset\n",
        "print(x_training[150])\n",
        "print(y_training[150])\n",
        "\n",
        "print(train_data.target_names[y_training[150]])"
      ],
      "execution_count": 0,
      "outputs": [
        {
          "output_type": "stream",
          "text": [
            "From: weston@ucssun1.sdsu.edu (weston t)\n",
            "Subject: graphical representation of vector-valued functions\n",
            "Organization: SDSU Computing Services\n",
            "Lines: 13\n",
            "NNTP-Posting-Host: ucssun1.sdsu.edu\n",
            "\n",
            "gnuplot, etc. make it easy to plot real valued functions of 2 variables\n",
            "but I want to plot functions whose values are 2-vectors. I have been \n",
            "doing this by plotting arrays of arrows (complete with arrowheads) but\n",
            "before going further, I thought I would ask whether someone has already\n",
            "done the work. Any pointers??\n",
            "\n",
            "thanx in advance\n",
            "\n",
            "\n",
            "Tom Weston                    | USENET: weston@ucssun1.sdsu.edu\n",
            "Department of Philosophy      | (619) 594-6218 (office)\n",
            "San Diego State Univ.         | (619) 575-7477 (home)\n",
            "San Diego, CA 92182-0303      | \n",
            "\n",
            "1\n",
            "comp.graphics\n"
          ],
          "name": "stdout"
        }
      ]
    },
    {
      "cell_type": "code",
      "metadata": {
        "id": "KQzzEElgeyGM",
        "colab_type": "code",
        "colab": {}
      },
      "source": [
        "# Data cleaning\n",
        "\n",
        "import re\n",
        "\n",
        "for i in range(len(x_training)):\n",
        "  doc = x_training[i]\n",
        "  # Removing all emails\n",
        "  doc = re.sub(\"[a-zA-Z0-9._]+@[a-zA-Z0-9._]+\", \"\", doc)\n",
        "  # Removing numbers\n",
        "  doc = re.sub(\"[0-9]+[0-9a-zA-Z._]+\", \"\", doc)\n",
        "  # Removing underscores from words\n",
        "  doc = re.sub(\"_\", \"\", doc)\n",
        "\n",
        "  x_training[i] = doc"
      ],
      "execution_count": 0,
      "outputs": []
    },
    {
      "cell_type": "code",
      "metadata": {
        "id": "j97NSx77ftXr",
        "colab_type": "code",
        "outputId": "95aa3516-f239-414a-d8cc-e2bd4345a2f7",
        "colab": {
          "base_uri": "https://localhost:8080/",
          "height": 71
        }
      },
      "source": [
        "from sklearn.feature_extraction.text import TfidfVectorizer\n",
        "\n",
        "vector = TfidfVectorizer(lowercase=True, \n",
        "                         stop_words=\"english\",\n",
        "                         min_df=20,\n",
        "                         max_df=0.90,\n",
        "                         ngram_range=(1,2))\n",
        "vector.fit(x_training)\n",
        "print(len(vector.get_feature_names()))\n",
        "print(vector.get_feature_names()[:100])"
      ],
      "execution_count": 0,
      "outputs": [
        {
          "output_type": "stream",
          "text": [
            "10464\n",
            "['aa', 'aaa', 'aaron', 'aaron ray', 'ab', 'abandon', 'abandoned', 'abc', 'abiding', 'abiding citizens', 'abilities', 'ability', 'able', 'able help', 'able tell', 'able use', 'abolish', 'abortion', 'abraham', 'abroad', 'abs', 'absence', 'absolute', 'absolute truth', 'absolutely', 'abstract', 'absurd', 'abuse', 'abused', 'abuses', 'ac', 'ac uk', 'acad', 'academic', 'academic computer', 'academic computing', 'academy', 'accelerate', 'accelerated', 'acceleration', 'accelerator', 'accelerators', 'accept', 'acceptable', 'acceptance', 'acceptance wiretap', 'accepted', 'accepting', 'accepting jeesus', 'accepts', 'access', 'access digex', 'access online', 'access unix', 'accessed', 'accessible', 'accessories', 'accident', 'accidental', 'accidentally', 'accidents', 'accompanied', 'accomplish', 'accomplished', 'accord', 'accordance', 'according', 'account', 'accounting', 'accounts', 'accuracy', 'accuracy information', 'accurate', 'accurately', 'accuse', 'accused', 'ace', 'achieve', 'achieved', 'acid', 'acknowledge', 'acknowledged', 'aclu', 'acm', 'acquire', 'acquired', 'acquisition', 'acs', 'acs ohio', 'act', 'acted', 'acting', 'action', 'actions', 'active', 'actively', 'activists', 'activities', 'activities net', 'activity']\n"
          ],
          "name": "stdout"
        }
      ]
    },
    {
      "cell_type": "code",
      "metadata": {
        "id": "LkOJ6MAyhByD",
        "colab_type": "code",
        "outputId": "b91b3529-c285-4920-c581-430700c5a7f3",
        "colab": {
          "base_uri": "https://localhost:8080/",
          "height": 34
        }
      },
      "source": [
        "# Convert the data into vectors\n",
        "\n",
        "x_train = vector.transform(x_training).toarray()\n",
        "print(x_train.shape)"
      ],
      "execution_count": 0,
      "outputs": [
        {
          "output_type": "stream",
          "text": [
            "(11314, 10464)\n"
          ],
          "name": "stdout"
        }
      ]
    },
    {
      "cell_type": "code",
      "metadata": {
        "id": "U9RrrdBWkZRC",
        "colab_type": "code",
        "outputId": "a082a01e-3833-426d-a4ca-5b812e6d1e2f",
        "colab": {
          "base_uri": "https://localhost:8080/",
          "height": 34
        }
      },
      "source": [
        "# Machine Learning model\n",
        "\n",
        "from sklearn.naive_bayes import MultinomialNB\n",
        "\n",
        "model = MultinomialNB()\n",
        "\n",
        "model.fit(x_train, y_training)"
      ],
      "execution_count": 0,
      "outputs": [
        {
          "output_type": "execute_result",
          "data": {
            "text/plain": [
              "MultinomialNB(alpha=1.0, class_prior=None, fit_prior=True)"
            ]
          },
          "metadata": {
            "tags": []
          },
          "execution_count": 144
        }
      ]
    },
    {
      "cell_type": "code",
      "metadata": {
        "id": "ZumK2uwyko2t",
        "colab_type": "code",
        "outputId": "ac964aea-8f07-4f08-9d44-6960b65c72b2",
        "colab": {
          "base_uri": "https://localhost:8080/",
          "height": 51
        }
      },
      "source": [
        "# Evaluating performance\n",
        "\n",
        "from sklearn import metrics\n",
        "\n",
        "print(metrics.accuracy_score(y_training, model.predict(x_train)))\n",
        "print(metrics.accuracy_score(y_test, model.predict(vector.transform(x_test))))"
      ],
      "execution_count": 0,
      "outputs": [
        {
          "output_type": "stream",
          "text": [
            "0.9232808909315892\n",
            "0.7875730217737653\n"
          ],
          "name": "stdout"
        }
      ]
    },
    {
      "cell_type": "markdown",
      "metadata": {
        "id": "ewWxIcRIoMcG",
        "colab_type": "text"
      },
      "source": [
        "Better feature engineering could possibly yield better accuracy"
      ]
    },
    {
      "cell_type": "code",
      "metadata": {
        "id": "vYWkEt1Xl6_j",
        "colab_type": "code",
        "outputId": "16fffc06-75ba-4f86-9962-7fc4b604d646",
        "colab": {
          "base_uri": "https://localhost:8080/",
          "height": 51
        }
      },
      "source": [
        "input_data = \"\"\"\n",
        "Hi, my computer has started becoming slow, its windows 98 cersion 1.\n",
        "I am using it from long and the cursor sometimes stops moving.\n",
        "I am stuck with this issue, the native applications are also not responding.\n",
        "Please suggest something.\n",
        "\"\"\"\n",
        "\n",
        "out = model.predict(vector.transform([input_data]))\n",
        "print(out)\n",
        "print(train_data.target_names[out[0]])"
      ],
      "execution_count": 0,
      "outputs": [
        {
          "output_type": "stream",
          "text": [
            "[5]\n",
            "comp.windows.x\n"
          ],
          "name": "stdout"
        }
      ]
    },
    {
      "cell_type": "markdown",
      "metadata": {
        "id": "XD0bgS4qolOZ",
        "colab_type": "text"
      },
      "source": [
        "## Spelling correction\n",
        "\n",
        "Using Jaccard distance"
      ]
    },
    {
      "cell_type": "code",
      "metadata": {
        "id": "ZbNTsbRponSx",
        "colab_type": "code",
        "outputId": "9ffdbfce-bf7e-4847-ac2e-d31aedd26264",
        "colab": {
          "base_uri": "https://localhost:8080/",
          "height": 34
        }
      },
      "source": [
        "import nltk\n",
        "nltk.jaccard_distance(set(\"Orange\"), set(\"Orenge\"))\n",
        "\n",
        "# if the value is low, then it is similar word"
      ],
      "execution_count": 0,
      "outputs": [
        {
          "output_type": "execute_result",
          "data": {
            "text/plain": [
              "0.16666666666666666"
            ]
          },
          "metadata": {
            "tags": []
          },
          "execution_count": 146
        }
      ]
    },
    {
      "cell_type": "markdown",
      "metadata": {
        "id": "MQj9K-uUpM3I",
        "colab_type": "text"
      },
      "source": [
        "You can also use n-grams for increasing accuracy"
      ]
    },
    {
      "cell_type": "code",
      "metadata": {
        "id": "1sxqE7JTpSMt",
        "colab_type": "code",
        "outputId": "6758cbc8-6f7e-4f56-bd5f-29c9b5e1754a",
        "colab": {
          "base_uri": "https://localhost:8080/",
          "height": 34
        }
      },
      "source": [
        "w1 = nltk.ngrams(\"Orange\", 2)\n",
        "w2 = nltk.ngrams(\"Orenge\", 2)\n",
        "\n",
        "nltk.jaccard_distance(set(w1), set(w2))"
      ],
      "execution_count": 0,
      "outputs": [
        {
          "output_type": "execute_result",
          "data": {
            "text/plain": [
              "0.5714285714285714"
            ]
          },
          "metadata": {
            "tags": []
          },
          "execution_count": 150
        }
      ]
    }
  ]
}