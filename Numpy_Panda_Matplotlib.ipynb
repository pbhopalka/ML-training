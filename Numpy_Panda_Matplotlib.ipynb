{
  "nbformat": 4,
  "nbformat_minor": 0,
  "metadata": {
    "colab": {
      "name": "ML_with_python_training.ipynb",
      "provenance": [],
      "include_colab_link": true
    },
    "kernelspec": {
      "name": "python3",
      "display_name": "Python 3"
    }
  },
  "cells": [
    {
      "cell_type": "markdown",
      "metadata": {
        "id": "view-in-github",
        "colab_type": "text"
      },
      "source": [
        "<a href=\"https://colab.research.google.com/github/pbhopalka/ML-training/blob/master/Numpy_Panda_Matplotlib.ipynb\" target=\"_parent\"><img src=\"https://colab.research.google.com/assets/colab-badge.svg\" alt=\"Open In Colab\"/></a>"
      ]
    },
    {
      "cell_type": "markdown",
      "metadata": {
        "id": "l31d6y7eEZvs",
        "colab_type": "text"
      },
      "source": [
        "# Numpy tutorials"
      ]
    },
    {
      "cell_type": "code",
      "metadata": {
        "id": "OV5pp6HLCGEN",
        "colab_type": "code",
        "colab": {}
      },
      "source": [
        "import numpy as np"
      ],
      "execution_count": 0,
      "outputs": []
    },
    {
      "cell_type": "markdown",
      "metadata": {
        "id": "Q8tszRhnCdHQ",
        "colab_type": "text"
      },
      "source": [
        "Numpy has two data types:\n",
        "1. Array - numpy ndarray\n",
        "2. Matrix "
      ]
    },
    {
      "cell_type": "markdown",
      "metadata": {
        "id": "zta-7LWnWDBA",
        "colab_type": "text"
      },
      "source": [
        "### Arrays and Matrices"
      ]
    },
    {
      "cell_type": "code",
      "metadata": {
        "id": "r150Uz6rCnbQ",
        "colab_type": "code",
        "outputId": "f0c87dfe-975f-445d-a792-b84629193b0d",
        "colab": {
          "base_uri": "https://localhost:8080/",
          "height": 68
        }
      },
      "source": [
        "x = np.array([4,2,3])\n",
        "y = np.array([2,5,8])\n",
        "\n",
        "print (x + y)\n",
        "print (x - y)\n",
        "print (x * y)"
      ],
      "execution_count": 2,
      "outputs": [
        {
          "output_type": "stream",
          "text": [
            "[ 6  7 11]\n",
            "[ 2 -3 -5]\n",
            "[ 8 10 24]\n"
          ],
          "name": "stdout"
        }
      ]
    },
    {
      "cell_type": "code",
      "metadata": {
        "id": "1_wevDXhC7Ws",
        "colab_type": "code",
        "colab": {}
      },
      "source": [
        "a = np.array([[4,2,8], \n",
        "              [3,2,6],\n",
        "              [1,2,5]])\n"
      ],
      "execution_count": 0,
      "outputs": []
    },
    {
      "cell_type": "code",
      "metadata": {
        "id": "YeYh4HzYDIZL",
        "colab_type": "code",
        "outputId": "db5b68d3-de86-4873-fe8d-59323d3f0c5a",
        "colab": {
          "base_uri": "https://localhost:8080/",
          "height": 119
        }
      },
      "source": [
        "print(a.shape)\n",
        "print(a.size)\n",
        "print(a.min())\n",
        "print(a.max())\n",
        "print(a.mean())\n",
        "print(a.std())"
      ],
      "execution_count": 4,
      "outputs": [
        {
          "output_type": "stream",
          "text": [
            "(3, 3)\n",
            "9\n",
            "1\n",
            "8\n",
            "3.6666666666666665\n",
            "2.160246899469287\n"
          ],
          "name": "stdout"
        }
      ]
    },
    {
      "cell_type": "code",
      "metadata": {
        "id": "z4-rVJdPDndz",
        "colab_type": "code",
        "outputId": "3240637f-94a6-4b88-a847-d044ab5a0708",
        "colab": {
          "base_uri": "https://localhost:8080/",
          "height": 102
        }
      },
      "source": [
        "print (a)\n",
        "# row wise operation (use axis = 1)\n",
        "print(a.min(axis=1))\n",
        "# column wise operation (use axis = 0)\n",
        "print(a.max(axis=0))"
      ],
      "execution_count": 5,
      "outputs": [
        {
          "output_type": "stream",
          "text": [
            "[[4 2 8]\n",
            " [3 2 6]\n",
            " [1 2 5]]\n",
            "[2 2 1]\n",
            "[4 2 8]\n"
          ],
          "name": "stdout"
        }
      ]
    },
    {
      "cell_type": "markdown",
      "metadata": {
        "id": "p0nQpOoGWQXG",
        "colab_type": "text"
      },
      "source": [
        "### Mathematical operations"
      ]
    },
    {
      "cell_type": "code",
      "metadata": {
        "id": "cohnTRxJEtwL",
        "colab_type": "code",
        "colab": {
          "base_uri": "https://localhost:8080/",
          "height": 51
        },
        "outputId": "5b200203-b543-410f-b757-9e01ec79273c"
      },
      "source": [
        "print(np.log10(1000))\n",
        "print(np.sin(np.deg2rad(90)))"
      ],
      "execution_count": 7,
      "outputs": [
        {
          "output_type": "stream",
          "text": [
            "3.0\n",
            "1.0\n"
          ],
          "name": "stdout"
        }
      ]
    },
    {
      "cell_type": "code",
      "metadata": {
        "id": "rM2mwWnQFIqD",
        "colab_type": "code",
        "colab": {
          "base_uri": "https://localhost:8080/",
          "height": 34
        },
        "outputId": "8a5dff06-cd38-45b1-8d56-a4150b20958d"
      },
      "source": [
        "x = np.ones(5)\n",
        "print(x)"
      ],
      "execution_count": 9,
      "outputs": [
        {
          "output_type": "stream",
          "text": [
            "[1. 1. 1. 1. 1.]\n"
          ],
          "name": "stdout"
        }
      ]
    },
    {
      "cell_type": "code",
      "metadata": {
        "id": "zmCB12iiFeMk",
        "colab_type": "code",
        "colab": {
          "base_uri": "https://localhost:8080/",
          "height": 153
        },
        "outputId": "1d9579fa-a566-4bb1-8f99-2a8cda4fd682"
      },
      "source": [
        "print(np.ones((2,4)))\n",
        "print(np.zeros(6))\n",
        "print(np.zeros((2,3), dtype=\"int32\"))\n",
        "print(np.arange(5,20, 0.5))"
      ],
      "execution_count": 10,
      "outputs": [
        {
          "output_type": "stream",
          "text": [
            "[[1. 1. 1. 1.]\n",
            " [1. 1. 1. 1.]]\n",
            "[0. 0. 0. 0. 0. 0.]\n",
            "[[0 0 0]\n",
            " [0 0 0]]\n",
            "[ 5.   5.5  6.   6.5  7.   7.5  8.   8.5  9.   9.5 10.  10.5 11.  11.5\n",
            " 12.  12.5 13.  13.5 14.  14.5 15.  15.5 16.  16.5 17.  17.5 18.  18.5\n",
            " 19.  19.5]\n"
          ],
          "name": "stdout"
        }
      ]
    },
    {
      "cell_type": "markdown",
      "metadata": {
        "colab_type": "text",
        "id": "MkI9OvzRwZJ1"
      },
      "source": [
        "### Random number generations"
      ]
    },
    {
      "cell_type": "code",
      "metadata": {
        "id": "2f-843fyF2lX",
        "colab_type": "code",
        "colab": {
          "base_uri": "https://localhost:8080/",
          "height": 102
        },
        "outputId": "68e031e0-c0e8-41e3-a0f0-2cd82f1aedab"
      },
      "source": [
        "# Generating random numbers with numpy\n",
        "print(np.random.rand(5))\n",
        "\n",
        "#Generating random numbers with normal distribution with mean=0 and std=1\n",
        "print(np.random.randn(5))\n",
        "\n",
        "#Integer random strings\n",
        "print(np.random.randint(10, 50, 5))\n",
        "\n",
        "#Seeding - fix a template for random number generation, so everytime it will give the same random numbers\n",
        "np.random.seed(10)\n",
        "print(np.random.randint(10, 50, (2, 3)))\n"
      ],
      "execution_count": 14,
      "outputs": [
        {
          "output_type": "stream",
          "text": [
            "[0.58332174 0.02517173 0.70920801 0.26556613 0.26360285]\n",
            "[ 0.45187984 -0.85947418 -0.53479453  1.03287114 -0.13623575]\n",
            "[43 18 46 24 23]\n",
            "[[19 46 25]\n",
            " [10 38 35]]\n"
          ],
          "name": "stdout"
        }
      ]
    },
    {
      "cell_type": "markdown",
      "metadata": {
        "id": "4x56KBXCIIR7",
        "colab_type": "text"
      },
      "source": [
        "### Solving linear equations\n",
        "\n",
        "3x - 7y = 7 <br>\n",
        "x + 3y = 13\n",
        "\n",
        "Solve for x and y"
      ]
    },
    {
      "cell_type": "code",
      "metadata": {
        "id": "R9VXRW5eH_gA",
        "colab_type": "code",
        "colab": {
          "base_uri": "https://localhost:8080/",
          "height": 34
        },
        "outputId": "da10b27b-4ea5-4cc3-a0e0-c1c7d57c8baf"
      },
      "source": [
        "# Solving linear equations\n",
        "\n",
        "a = [[3, 7], [1, 3]]\n",
        "b = [7, 13]\n",
        "np.linalg.solve(a, b)\n",
        "\n"
      ],
      "execution_count": 16,
      "outputs": [
        {
          "output_type": "execute_result",
          "data": {
            "text/plain": [
              "array([-35.,  16.])"
            ]
          },
          "metadata": {
            "tags": []
          },
          "execution_count": 16
        }
      ]
    },
    {
      "cell_type": "markdown",
      "metadata": {
        "id": "H_YUEwZ6Jg7q",
        "colab_type": "text"
      },
      "source": [
        "# Pandas tutorial\n"
      ]
    },
    {
      "cell_type": "code",
      "metadata": {
        "id": "EBSE2zpiKKHl",
        "colab_type": "code",
        "colab": {}
      },
      "source": [
        "import pandas as pd"
      ],
      "execution_count": 0,
      "outputs": []
    },
    {
      "cell_type": "markdown",
      "metadata": {
        "id": "l_T5BE9iKaWF",
        "colab_type": "text"
      },
      "source": [
        "Pandas has 3 data types:\n",
        "1. Pandas series - 1D\n",
        "2. Pandas Dataframe - 2D\n",
        "3. Pandas Panel - 3D"
      ]
    },
    {
      "cell_type": "markdown",
      "metadata": {
        "id": "qxoYwyvVQiIY",
        "colab_type": "text"
      },
      "source": [
        "## Reading data and exporting data"
      ]
    },
    {
      "cell_type": "markdown",
      "metadata": {
        "id": "X-BgqDVrVh8i",
        "colab_type": "text"
      },
      "source": [
        "### Loading from CSVs"
      ]
    },
    {
      "cell_type": "code",
      "metadata": {
        "id": "zwMgI-JJK3gZ",
        "colab_type": "code",
        "colab": {
          "base_uri": "https://localhost:8080/",
          "height": 391
        },
        "outputId": "00fbc5ac-5d5f-4d1e-84c5-785f8054e4a8"
      },
      "source": [
        "data_file = pd.read_csv(\"/content/datawh.csv\")\n",
        "# You can also write pd.read_csv(r\"<file-path>\")\n",
        "# Here the r means that it will treat this string as a raw string (a data type in python)\n",
        "print(data_file)\n",
        "type(data_file)"
      ],
      "execution_count": 20,
      "outputs": [
        {
          "output_type": "stream",
          "text": [
            "         Dates  Temperature  Humidity  Pressure  Air Quality\n",
            "0   30-04-2018          218       182         4            2\n",
            "1   01-05-2018         2592       182         3            2\n",
            "2   02-05-2018          509       439         4            0\n",
            "3   03-05-2018         2439        53         5            1\n",
            "4   04-05-2018          824       444         5            0\n",
            "5   05-05-2018         1744       443         5            1\n",
            "6   06-05-2018          786       226         5            1\n",
            "7   07-05-2018         1326       309         0            1\n",
            "8   08-05-2018         1804       188         4            2\n",
            "9   09-05-2018          109       420         0            1\n",
            "10  10-05-2018         2524       433         1            0\n",
            "11  11-05-2018         2945       149         1            0\n",
            "12  12-05-2018         2168       531         1            1\n",
            "13  13-05-2018         1318       360         3            2\n",
            "14  14-05-2018          788       435         3            2\n",
            "15  15-05-2018          988       259         4            0\n",
            "16  16-05-2018         1454       125         5            1\n",
            "17  17-05-2018         2200       325         3            2\n",
            "18  18-05-2018         1722       523         0            2\n",
            "19  19-05-2018          766       535         3            2\n"
          ],
          "name": "stdout"
        },
        {
          "output_type": "execute_result",
          "data": {
            "text/plain": [
              "pandas.core.frame.DataFrame"
            ]
          },
          "metadata": {
            "tags": []
          },
          "execution_count": 20
        }
      ]
    },
    {
      "cell_type": "code",
      "metadata": {
        "id": "7xDoZkebMWuO",
        "colab_type": "code",
        "colab": {
          "base_uri": "https://localhost:8080/",
          "height": 306
        },
        "outputId": "1b3adab0-80e4-4943-8e65-2edef5477cdc"
      },
      "source": [
        "# To check the first 5 rows of dataframe\n",
        "print(data_file.head())\n",
        "\n",
        "# To check bottom five rows of dataframe\n",
        "print(data_file.tail())\n",
        "\n",
        "# To check bottom 3 rows\n",
        "print(data_file.tail(3))\n",
        "\n",
        "# To check the shape\n",
        "print(data_file.shape)"
      ],
      "execution_count": 22,
      "outputs": [
        {
          "output_type": "stream",
          "text": [
            "        Dates  Temperature  Humidity  Pressure  Air Quality\n",
            "0  30-04-2018          218       182         4            2\n",
            "1  01-05-2018         2592       182         3            2\n",
            "2  02-05-2018          509       439         4            0\n",
            "3  03-05-2018         2439        53         5            1\n",
            "4  04-05-2018          824       444         5            0\n",
            "         Dates  Temperature  Humidity  Pressure  Air Quality\n",
            "15  15-05-2018          988       259         4            0\n",
            "16  16-05-2018         1454       125         5            1\n",
            "17  17-05-2018         2200       325         3            2\n",
            "18  18-05-2018         1722       523         0            2\n",
            "19  19-05-2018          766       535         3            2\n",
            "         Dates  Temperature  Humidity  Pressure  Air Quality\n",
            "17  17-05-2018         2200       325         3            2\n",
            "18  18-05-2018         1722       523         0            2\n",
            "19  19-05-2018          766       535         3            2\n",
            "(20, 5)\n"
          ],
          "name": "stdout"
        }
      ]
    },
    {
      "cell_type": "code",
      "metadata": {
        "id": "AdogM0zBM9vc",
        "colab_type": "code",
        "colab": {
          "base_uri": "https://localhost:8080/",
          "height": 391
        },
        "outputId": "1966a68d-3c7d-4186-b427-e0fac0590520"
      },
      "source": [
        "# Date has been indexed instead of creating a separate index\n",
        "df_date_indexed = pd.read_csv('/content/datawh.csv', index_col=\"Dates\")\n",
        "print(df_date_indexed)"
      ],
      "execution_count": 23,
      "outputs": [
        {
          "output_type": "stream",
          "text": [
            "            Temperature  Humidity  Pressure  Air Quality\n",
            "Dates                                                   \n",
            "30-04-2018          218       182         4            2\n",
            "01-05-2018         2592       182         3            2\n",
            "02-05-2018          509       439         4            0\n",
            "03-05-2018         2439        53         5            1\n",
            "04-05-2018          824       444         5            0\n",
            "05-05-2018         1744       443         5            1\n",
            "06-05-2018          786       226         5            1\n",
            "07-05-2018         1326       309         0            1\n",
            "08-05-2018         1804       188         4            2\n",
            "09-05-2018          109       420         0            1\n",
            "10-05-2018         2524       433         1            0\n",
            "11-05-2018         2945       149         1            0\n",
            "12-05-2018         2168       531         1            1\n",
            "13-05-2018         1318       360         3            2\n",
            "14-05-2018          788       435         3            2\n",
            "15-05-2018          988       259         4            0\n",
            "16-05-2018         1454       125         5            1\n",
            "17-05-2018         2200       325         3            2\n",
            "18-05-2018         1722       523         0            2\n",
            "19-05-2018          766       535         3            2\n"
          ],
          "name": "stdout"
        }
      ]
    },
    {
      "cell_type": "code",
      "metadata": {
        "id": "ANwTqnYrNsBT",
        "colab_type": "code",
        "colab": {
          "base_uri": "https://localhost:8080/",
          "height": 731
        },
        "outputId": "dff178e7-8bea-4c48-8352-3880b13100b1"
      },
      "source": [
        "# Loading data without header\n",
        "\n",
        "data_file = pd.read_csv('/content/datanh.csv', header=None)\n",
        "print(data_file)\n",
        "\n",
        "# Adding headers to the columns\n",
        "data_file.columns = [\"temp\", \"hum\", \"pressure\", \"air_quality\"]\n",
        "print(data_file)"
      ],
      "execution_count": 25,
      "outputs": [
        {
          "output_type": "stream",
          "text": [
            "     0   1   2   3\n",
            "0   18  37  22  10\n",
            "1   16  27  19  30\n",
            "2   19  49  19  16\n",
            "3   30  36  21  13\n",
            "4   23  45  16  13\n",
            "5   12  47  22  19\n",
            "6   10  30  21  14\n",
            "7   19  49  24  24\n",
            "8   31  36   9  17\n",
            "9   18  26  17  19\n",
            "10  14  52  11  19\n",
            "11  29  31  17  25\n",
            "12  24  49  24  32\n",
            "13  16  26  18  30\n",
            "14  16  38  10  27\n",
            "15  32  28  24  28\n",
            "16  20  47   6  34\n",
            "17  32  40  23  30\n",
            "18  24  25  10  32\n",
            "19  31  21  11  34\n",
            "    temp  hum  pressure  air_quality\n",
            "0     18   37        22           10\n",
            "1     16   27        19           30\n",
            "2     19   49        19           16\n",
            "3     30   36        21           13\n",
            "4     23   45        16           13\n",
            "5     12   47        22           19\n",
            "6     10   30        21           14\n",
            "7     19   49        24           24\n",
            "8     31   36         9           17\n",
            "9     18   26        17           19\n",
            "10    14   52        11           19\n",
            "11    29   31        17           25\n",
            "12    24   49        24           32\n",
            "13    16   26        18           30\n",
            "14    16   38        10           27\n",
            "15    32   28        24           28\n",
            "16    20   47         6           34\n",
            "17    32   40        23           30\n",
            "18    24   25        10           32\n",
            "19    31   21        11           34\n"
          ],
          "name": "stdout"
        }
      ]
    },
    {
      "cell_type": "markdown",
      "metadata": {
        "id": "ykYzrYlOVoa4",
        "colab_type": "text"
      },
      "source": [
        "### Loading data from HTML"
      ]
    },
    {
      "cell_type": "code",
      "metadata": {
        "id": "SJGWVUQ4PBdf",
        "colab_type": "code",
        "colab": {
          "base_uri": "https://localhost:8080/",
          "height": 952
        },
        "outputId": "8229ad8a-be1e-4667-b986-0a37a6cb6014"
      },
      "source": [
        "# Loading data from HTML\n",
        "\n",
        "url = 'https://coinmarketcap.com/currencies/bitcoin/historical-data/'\n",
        "\n",
        "#Read html only takes the <table> tag from the HTML page\n",
        "data_from_web = pd.read_html(url)\n",
        "\n",
        "print(type(data_from_web))\n",
        "print(len(data_from_web))\n",
        "\n",
        "df1 = data_from_web[0]\n",
        "df2 = data_from_web[1]\n",
        "\n",
        "print(df1)\n",
        "print(df2)"
      ],
      "execution_count": 27,
      "outputs": [
        {
          "output_type": "stream",
          "text": [
            "<class 'list'>\n",
            "2\n",
            "            Date     Open*      High  ...   Close**       Volume    Market Cap\n",
            "0   Sep 24, 2019   9729.32   9804.32  ...   8620.57  25002886689  154785821876\n",
            "1   Sep 23, 2019  10067.96  10074.24  ...   9729.32  15144925408  174674558023\n",
            "2   Sep 22, 2019  10024.12  10074.44  ...  10070.39  13199651698  180784051699\n",
            "3   Sep 21, 2019  10183.65  10188.10  ...  10019.72  13425266806  179853287294\n",
            "4   Sep 20, 2019  10266.32  10285.87  ...  10181.64  14734189639  182738947696\n",
            "5   Sep 19, 2019  10200.50  10295.67  ...  10266.41  19937691247  184240949577\n",
            "6   Sep 18, 2019  10247.80  10275.93  ...  10198.25  16169268880  182998899156\n",
            "7   Sep 17, 2019  10281.51  10296.77  ...  10241.27  15304603363  183748515828\n",
            "8   Sep 16, 2019  10347.22  10386.87  ...  10276.79  15160167779  184366827555\n",
            "9   Sep 15, 2019  10356.47  10387.03  ...  10347.71  12043433567  185618174384\n",
            "10  Sep 14, 2019  10345.40  10422.13  ...  10358.05  13468713124  185784300332\n",
            "11  Sep 13, 2019  10415.36  10441.49  ...  10360.55  14109864675  185809163035\n",
            "12  Sep 12, 2019  10176.82  10442.25  ...  10410.13  15323563925  186678943059\n",
            "13  Sep 11, 2019  10123.03  10215.95  ...  10178.37  15428063426  182502788242\n",
            "14  Sep 10, 2019  10336.41  10394.35  ...  10115.98  14906809639  181360731383\n",
            "15  Sep 09, 2019  10443.23  10450.31  ...  10334.97  17595943368  185263578990\n",
            "16  Sep 08, 2019  10518.11  10595.64  ...  10441.28  13670567493  187150078007\n",
            "17  Sep 07, 2019  10353.93  10558.67  ...  10517.25  15307366476  188488525926\n",
            "18  Sep 06, 2019  10578.20  10898.76  ...  10353.30  19536574783  185530405363\n",
            "19  Sep 05, 2019  10588.18  10627.27  ...  10575.53  14551239508  189492405383\n",
            "20  Sep 04, 2019  10621.18  10762.64  ...  10594.49  16742664769  189810010608\n",
            "21  Sep 03, 2019  10345.73  10736.10  ...  10623.54  19384917989  190312487956\n",
            "22  Sep 02, 2019   9757.47  10396.59  ...  10346.76  17248102294  185333114163\n",
            "23  Sep 01, 2019   9630.59   9796.76  ...   9757.97  11445355859  174768292883\n",
            "24  Aug 31, 2019   9597.54   9673.22  ...   9630.66  11454806419  172470743516\n",
            "25  Aug 30, 2019   9514.84   9656.12  ...   9598.17  13595263986  171869216524\n",
            "26  Aug 29, 2019   9756.79   9756.79  ...   9510.20  17045878501  170274910132\n",
            "27  Aug 28, 2019  10203.43  10279.37  ...   9754.42  17603790323  174627460400\n",
            "28  Aug 27, 2019  10372.83  10381.33  ...  10185.50  14762609503  182325540955\n",
            "29  Aug 26, 2019  10126.30  10512.33  ...  10370.82  18438654080  185625235889\n",
            "\n",
            "[30 rows x 7 columns]\n",
            "                           0                            1\n",
            "0              Bitcoin Price                  8400.85 USD\n",
            "1                Bitcoin ROI                    +6109.05%\n",
            "2                Market Rank                           #1\n",
            "3                 Market Cap          150,848,202,218 USD\n",
            "4             24 Hour Volume           28,969,800,201 USD\n",
            "5         Circulating Supply               17,956,300 BTC\n",
            "6               Total Supply               17,956,300 BTC\n",
            "7                 Max Supply               21,000,000 BTC\n",
            "8              All Time High  20089.00 USD (Dec 17, 2017)\n",
            "9               All Time Low     65.53 USD (Jul 05, 2013)\n",
            "10        52 Week High / Low   13796.49 USD / 3191.30 USD\n",
            "11         90 Day High / Low   13129.53 USD / 8325.40 USD\n",
            "12         30 Day High / Low   10898.76 USD / 8325.40 USD\n",
            "13          7 Day High / Low   10295.67 USD / 8325.40 USD\n",
            "14        24 Hour High / Low    9775.15 USD / 8325.40 USD\n",
            "15    Yesterday's High / Low    9804.32 USD / 8370.80 USD\n",
            "16  Yesterday's Open / Close    9729.32 USD / 8620.57 USD\n",
            "17        Yesterday's Change      $-1108.75 USD (-11.40%)\n",
            "18        Yesterday's Volume          $25,002,886,689 USD\n"
          ],
          "name": "stdout"
        }
      ]
    },
    {
      "cell_type": "markdown",
      "metadata": {
        "id": "34keT1jPVspN",
        "colab_type": "text"
      },
      "source": [
        "### Exporting data"
      ]
    },
    {
      "cell_type": "code",
      "metadata": {
        "id": "OGNr4gjDP825",
        "colab_type": "code",
        "colab": {}
      },
      "source": [
        "# Exporting data\n",
        "\n",
        "df1.to_excel('/content/bitcoinData.xlsx')"
      ],
      "execution_count": 0,
      "outputs": []
    },
    {
      "cell_type": "markdown",
      "metadata": {
        "id": "F4jkxMT9Qp97",
        "colab_type": "text"
      },
      "source": [
        "## Data selection and basic analysis"
      ]
    },
    {
      "cell_type": "code",
      "metadata": {
        "id": "KLJ9uLepQ6Fp",
        "colab_type": "code",
        "colab": {
          "base_uri": "https://localhost:8080/",
          "height": 204
        },
        "outputId": "0d7d484a-ae0b-452d-c68e-116272c65620"
      },
      "source": [
        "data_file = pd.read_csv('/content/datawh.csv', index_col=\"Dates\")\n",
        "\n",
        "print(data_file.shape)\n",
        "\n",
        "# Retrieve information about dataframe\n",
        "print(data_file.info())"
      ],
      "execution_count": 30,
      "outputs": [
        {
          "output_type": "stream",
          "text": [
            "(20, 4)\n",
            "<class 'pandas.core.frame.DataFrame'>\n",
            "Index: 20 entries, 30-04-2018 to 19-05-2018\n",
            "Data columns (total 4 columns):\n",
            "Temperature    20 non-null int64\n",
            "Humidity       20 non-null int64\n",
            "Pressure       20 non-null int64\n",
            "Air Quality    20 non-null int64\n",
            "dtypes: int64(4)\n",
            "memory usage: 800.0+ bytes\n",
            "None\n"
          ],
          "name": "stdout"
        }
      ]
    },
    {
      "cell_type": "markdown",
      "metadata": {
        "id": "x9bt7YY9VJL0",
        "colab_type": "text"
      },
      "source": [
        "### Selecting data"
      ]
    },
    {
      "cell_type": "code",
      "metadata": {
        "id": "DZW8UWimRgyE",
        "colab_type": "code",
        "colab": {
          "base_uri": "https://localhost:8080/",
          "height": 425
        },
        "outputId": "408bb324-a531-4344-ef52-0f7b3f58c400"
      },
      "source": [
        "# Selecting a specific column\n",
        "print(data_file[\"Temperature\"])\n",
        "\n",
        "# 1D data is called series in pandas\n",
        "print(type(data_file[\"Temperature\"]))\n",
        "\n",
        "# 2D data is dataframes in pandas\n",
        "print(type(data_file[[\"Temperature\", \"Humidity\"]]))"
      ],
      "execution_count": 34,
      "outputs": [
        {
          "output_type": "stream",
          "text": [
            "Dates\n",
            "30-04-2018     218\n",
            "01-05-2018    2592\n",
            "02-05-2018     509\n",
            "03-05-2018    2439\n",
            "04-05-2018     824\n",
            "05-05-2018    1744\n",
            "06-05-2018     786\n",
            "07-05-2018    1326\n",
            "08-05-2018    1804\n",
            "09-05-2018     109\n",
            "10-05-2018    2524\n",
            "11-05-2018    2945\n",
            "12-05-2018    2168\n",
            "13-05-2018    1318\n",
            "14-05-2018     788\n",
            "15-05-2018     988\n",
            "16-05-2018    1454\n",
            "17-05-2018    2200\n",
            "18-05-2018    1722\n",
            "19-05-2018     766\n",
            "Name: Temperature, dtype: int64\n",
            "<class 'pandas.core.series.Series'>\n",
            "<class 'pandas.core.frame.DataFrame'>\n"
          ],
          "name": "stdout"
        }
      ]
    },
    {
      "cell_type": "code",
      "metadata": {
        "id": "a58lAHcKSoET",
        "colab_type": "code",
        "colab": {
          "base_uri": "https://localhost:8080/",
          "height": 340
        },
        "outputId": "6ec59c29-1bb3-48ab-dae2-92dc7fb69455"
      },
      "source": [
        "# Selecting data in a range\n",
        "\n",
        "print(data_file[\"01-05-2018\":\"07-05-2018\"]) #Getting based on index\n",
        "\n",
        "# Showing only temperature data from 1-5-2018 to 7-5-2018\n",
        "print(data_file[\"01-05-2018\":\"07-05-2018\"][\"Temperature\"])"
      ],
      "execution_count": 37,
      "outputs": [
        {
          "output_type": "stream",
          "text": [
            "            Temperature  Humidity  Pressure  Air Quality\n",
            "Dates                                                   \n",
            "01-05-2018         2592       182         3            2\n",
            "02-05-2018          509       439         4            0\n",
            "03-05-2018         2439        53         5            1\n",
            "04-05-2018          824       444         5            0\n",
            "05-05-2018         1744       443         5            1\n",
            "06-05-2018          786       226         5            1\n",
            "07-05-2018         1326       309         0            1\n",
            "\n",
            "Dates\n",
            "01-05-2018    2592\n",
            "02-05-2018     509\n",
            "03-05-2018    2439\n",
            "04-05-2018     824\n",
            "05-05-2018    1744\n",
            "06-05-2018     786\n",
            "07-05-2018    1326\n",
            "Name: Temperature, dtype: int64\n"
          ],
          "name": "stdout"
        }
      ]
    },
    {
      "cell_type": "markdown",
      "metadata": {
        "id": "Xl3xJ5FvU93k",
        "colab_type": "text"
      },
      "source": [
        "### Filtering Data"
      ]
    },
    {
      "cell_type": "code",
      "metadata": {
        "id": "9Fy25bkcTg6b",
        "colab_type": "code",
        "colab": {
          "base_uri": "https://localhost:8080/",
          "height": 187
        },
        "outputId": "f6417824-11ea-421b-ab9d-6bfaea3a2197"
      },
      "source": [
        "# Filter all those data whose humidity is greater than 500 and show all rows\n",
        "print(data_file[data_file[\"Humidity\"] > 500])\n",
        "\n",
        "# Filter all those data whose humidity is greater than 500 and show only column with temperature\n",
        "print(data_file[data_file[\"Humidity\"] > 500][\"Temperature\"])"
      ],
      "execution_count": 39,
      "outputs": [
        {
          "output_type": "stream",
          "text": [
            "            Temperature  Humidity  Pressure  Air Quality\n",
            "Dates                                                   \n",
            "12-05-2018         2168       531         1            1\n",
            "18-05-2018         1722       523         0            2\n",
            "19-05-2018          766       535         3            2\n",
            "Dates\n",
            "12-05-2018    2168\n",
            "18-05-2018    1722\n",
            "19-05-2018     766\n",
            "Name: Temperature, dtype: int64\n"
          ],
          "name": "stdout"
        }
      ]
    },
    {
      "cell_type": "markdown",
      "metadata": {
        "id": "YBG2pgpUIicI",
        "colab_type": "text"
      },
      "source": [
        "### Cleaning data and filling them"
      ]
    },
    {
      "cell_type": "code",
      "metadata": {
        "id": "dVnFM4zqItSg",
        "colab_type": "code",
        "colab": {
          "base_uri": "https://localhost:8080/",
          "height": 374
        },
        "outputId": "bdb694a4-5d61-42ef-9fc8-5878bd5f8a4d"
      },
      "source": [
        "path = '/content/datawh_missing.csv'\n",
        "data_file = pd.read_csv(path)\n",
        "print(data_file)"
      ],
      "execution_count": 24,
      "outputs": [
        {
          "output_type": "stream",
          "text": [
            "         Dates Temperature Humidity Pressure Air Quality\n",
            "0   30-04-2018         218      182        4           2\n",
            "1   01-05-2018           ?      182        3           2\n",
            "2   02-05-2018           .      439      NaN           0\n",
            "3   03-05-2018        2439       53        5           1\n",
            "4   04-05-2018         824      444        5         NaN\n",
            "5   05-05-2018        1744        .        5           1\n",
            "6   06-05-2018         786        .        5           1\n",
            "7   07-05-2018        1326      309        .           1\n",
            "8   08-05-2018        1804      188        .           2\n",
            "9   09-05-2018           ?      420        0           1\n",
            "10  10-05-2018        2524      433        1           0\n",
            "11  11-05-2018        2945      149        .           0\n",
            "12  12-05-2018           .      531        1           1\n",
            "13  13-05-2018        1318      360        3           2\n",
            "14  14-05-2018           .      435      NaN           2\n",
            "15  15-05-2018           .      259        4           0\n",
            "16  16-05-2018           .        .        .           .\n",
            "17  17-05-2018        2200      325        3           2\n",
            "18  18-05-2018        1722      523        .           2\n",
            "19  19-05-2018         766      535        3           2\n"
          ],
          "name": "stdout"
        }
      ]
    },
    {
      "cell_type": "code",
      "metadata": {
        "id": "XPc72Q2wJF8s",
        "colab_type": "code",
        "colab": {
          "base_uri": "https://localhost:8080/",
          "height": 51
        },
        "outputId": "a97fc3e8-8a81-44e7-fed3-471084aec57f"
      },
      "source": [
        "# Check for duplicate rows/entries\n",
        "\n",
        "print(data_file.duplicated().sum())\n",
        "\n",
        "# In case of duplicates, drop them. In our case, there are no duplicates\n",
        "df_1 = data_file.drop_duplicates(inplace=True)\n",
        "print(df_1)"
      ],
      "execution_count": 7,
      "outputs": [
        {
          "output_type": "stream",
          "text": [
            "0\n",
            "None\n"
          ],
          "name": "stdout"
        }
      ]
    },
    {
      "cell_type": "code",
      "metadata": {
        "id": "TmcLWQ0uKBf3",
        "colab_type": "code",
        "colab": {
          "base_uri": "https://localhost:8080/",
          "height": 119
        },
        "outputId": "c78c9f22-f951-4ead-af50-98ac5d4ca274"
      },
      "source": [
        "#Check for missing values\n",
        "\n",
        "print(data_file.isnull().sum())"
      ],
      "execution_count": 9,
      "outputs": [
        {
          "output_type": "stream",
          "text": [
            "Dates          0\n",
            "Temperature    0\n",
            "Humidity       0\n",
            "Pressure       2\n",
            "Air Quality    1\n",
            "dtype: int64\n"
          ],
          "name": "stdout"
        }
      ]
    },
    {
      "cell_type": "code",
      "metadata": {
        "id": "IE9wqVFwLNaS",
        "colab_type": "code",
        "colab": {
          "base_uri": "https://localhost:8080/",
          "height": 119
        },
        "outputId": "7ca04b92-7e8d-4ed0-c4b2-6e00c4564007"
      },
      "source": [
        "# Load data file by also defining what the not available values are going to look like\n",
        "data_file = pd.read_csv(path, na_values=[\".\", \"?\"])\n",
        "print(data_file.isnull().sum())"
      ],
      "execution_count": 31,
      "outputs": [
        {
          "output_type": "stream",
          "text": [
            "Dates          0\n",
            "Temperature    7\n",
            "Humidity       3\n",
            "Pressure       7\n",
            "Air Quality    2\n",
            "dtype: int64\n"
          ],
          "name": "stdout"
        }
      ]
    },
    {
      "cell_type": "code",
      "metadata": {
        "id": "AYbYW4wELxRU",
        "colab_type": "code",
        "colab": {
          "base_uri": "https://localhost:8080/",
          "height": 357
        },
        "outputId": "73ffd5fe-2f0a-4665-ae1b-37ccbd7afd5e"
      },
      "source": [
        "# Drop rows which has less than 3 real values and replace with nothing\n",
        "# See that row 16 is gone\n",
        "data_file.dropna(thresh=3, inplace=True)\n",
        "print(data_file)"
      ],
      "execution_count": 32,
      "outputs": [
        {
          "output_type": "stream",
          "text": [
            "         Dates  Temperature  Humidity  Pressure  Air Quality\n",
            "0   30-04-2018        218.0     182.0       4.0          2.0\n",
            "1   01-05-2018          NaN     182.0       3.0          2.0\n",
            "2   02-05-2018          NaN     439.0       NaN          0.0\n",
            "3   03-05-2018       2439.0      53.0       5.0          1.0\n",
            "4   04-05-2018        824.0     444.0       5.0          NaN\n",
            "5   05-05-2018       1744.0       NaN       5.0          1.0\n",
            "6   06-05-2018        786.0       NaN       5.0          1.0\n",
            "7   07-05-2018       1326.0     309.0       NaN          1.0\n",
            "8   08-05-2018       1804.0     188.0       NaN          2.0\n",
            "9   09-05-2018          NaN     420.0       0.0          1.0\n",
            "10  10-05-2018       2524.0     433.0       1.0          0.0\n",
            "11  11-05-2018       2945.0     149.0       NaN          0.0\n",
            "12  12-05-2018          NaN     531.0       1.0          1.0\n",
            "13  13-05-2018       1318.0     360.0       3.0          2.0\n",
            "14  14-05-2018          NaN     435.0       NaN          2.0\n",
            "15  15-05-2018          NaN     259.0       4.0          0.0\n",
            "17  17-05-2018       2200.0     325.0       3.0          2.0\n",
            "18  18-05-2018       1722.0     523.0       NaN          2.0\n",
            "19  19-05-2018        766.0     535.0       3.0          2.0\n"
          ],
          "name": "stdout"
        }
      ]
    },
    {
      "cell_type": "markdown",
      "metadata": {
        "id": "eZek11TINUBV",
        "colab_type": "text"
      },
      "source": [
        "#### Skewness formula\n",
        "\n",
        "Skewness = 3(Mean - Median)/Standard Deviation <br>\n",
        "\n",
        "If skewness is between -0.1 to 0.1 then it mostly skewed. If value is positive, then it is positive skewed (right skewed), otherwise negative skewed (left skewed)"
      ]
    },
    {
      "cell_type": "code",
      "metadata": {
        "id": "4pYqIv41NBZE",
        "colab_type": "code",
        "colab": {
          "base_uri": "https://localhost:8080/",
          "height": 102
        },
        "outputId": "d9717595-f7bd-4b42-99c2-1833afadf6b5"
      },
      "source": [
        "# Calculating skew\n",
        "\n",
        "print(data_file)\n",
        "data_file.skew()"
      ],
      "execution_count": 33,
      "outputs": [
        {
          "output_type": "execute_result",
          "data": {
            "text/plain": [
              "Temperature    0.019636\n",
              "Humidity      -0.367387\n",
              "Pressure      -0.670499\n",
              "Air Quality   -0.451480\n",
              "dtype: float64"
            ]
          },
          "metadata": {
            "tags": []
          },
          "execution_count": 33
        }
      ]
    },
    {
      "cell_type": "code",
      "metadata": {
        "id": "SoB-xTijORjF",
        "colab_type": "code",
        "colab": {
          "base_uri": "https://localhost:8080/",
          "height": 884
        },
        "outputId": "1d7bba3c-2785-4041-f438-c6c707f5ab4b"
      },
      "source": [
        "# Input the missing values for mean for Temperature with mean and the others with Median\n",
        "# This is because, Temperature data has no skewness based on above value and others are positively or negatively skewed\n",
        "# In our case, negatively skewed data\n",
        "\n",
        "data_file[\"Temperature\"].fillna(data_file[\"Temperature\"].mean(), inplace=True)\n",
        "data_file.fillna(data_file.median(), inplace=True)\n",
        "\n",
        "print(data_file) #After data\n",
        "print(data_file.isnull().sum())\n",
        "\n",
        "#Skewed value will change now because new data is available\n",
        "\n",
        "data_file.skew()"
      ],
      "execution_count": 34,
      "outputs": [
        {
          "output_type": "stream",
          "text": [
            "         Dates  Temperature  Humidity  Pressure  Air Quality\n",
            "0   30-04-2018        218.0     182.0       4.0          2.0\n",
            "1   01-05-2018          NaN     182.0       3.0          2.0\n",
            "2   02-05-2018          NaN     439.0       NaN          0.0\n",
            "3   03-05-2018       2439.0      53.0       5.0          1.0\n",
            "4   04-05-2018        824.0     444.0       5.0          NaN\n",
            "5   05-05-2018       1744.0       NaN       5.0          1.0\n",
            "6   06-05-2018        786.0       NaN       5.0          1.0\n",
            "7   07-05-2018       1326.0     309.0       NaN          1.0\n",
            "8   08-05-2018       1804.0     188.0       NaN          2.0\n",
            "9   09-05-2018          NaN     420.0       0.0          1.0\n",
            "10  10-05-2018       2524.0     433.0       1.0          0.0\n",
            "11  11-05-2018       2945.0     149.0       NaN          0.0\n",
            "12  12-05-2018          NaN     531.0       1.0          1.0\n",
            "13  13-05-2018       1318.0     360.0       3.0          2.0\n",
            "14  14-05-2018          NaN     435.0       NaN          2.0\n",
            "15  15-05-2018          NaN     259.0       4.0          0.0\n",
            "17  17-05-2018       2200.0     325.0       3.0          2.0\n",
            "18  18-05-2018       1722.0     523.0       NaN          2.0\n",
            "19  19-05-2018        766.0     535.0       3.0          2.0\n",
            "         Dates  Temperature  Humidity  Pressure  Air Quality\n",
            "0   30-04-2018   218.000000     182.0       4.0          2.0\n",
            "1   01-05-2018  1585.846154     182.0       3.0          2.0\n",
            "2   02-05-2018  1585.846154     439.0       3.0          0.0\n",
            "3   03-05-2018  2439.000000      53.0       5.0          1.0\n",
            "4   04-05-2018   824.000000     444.0       5.0          1.0\n",
            "5   05-05-2018  1744.000000     360.0       5.0          1.0\n",
            "6   06-05-2018   786.000000     360.0       5.0          1.0\n",
            "7   07-05-2018  1326.000000     309.0       3.0          1.0\n",
            "8   08-05-2018  1804.000000     188.0       3.0          2.0\n",
            "9   09-05-2018  1585.846154     420.0       0.0          1.0\n",
            "10  10-05-2018  2524.000000     433.0       1.0          0.0\n",
            "11  11-05-2018  2945.000000     149.0       3.0          0.0\n",
            "12  12-05-2018  1585.846154     531.0       1.0          1.0\n",
            "13  13-05-2018  1318.000000     360.0       3.0          2.0\n",
            "14  14-05-2018  1585.846154     435.0       3.0          2.0\n",
            "15  15-05-2018  1585.846154     259.0       4.0          0.0\n",
            "17  17-05-2018  2200.000000     325.0       3.0          2.0\n",
            "18  18-05-2018  1722.000000     523.0       3.0          2.0\n",
            "19  19-05-2018   766.000000     535.0       3.0          2.0\n",
            "Dates          0\n",
            "Temperature    0\n",
            "Humidity       0\n",
            "Pressure       0\n",
            "Air Quality    0\n",
            "dtype: int64\n"
          ],
          "name": "stdout"
        },
        {
          "output_type": "execute_result",
          "data": {
            "text/plain": [
              "Temperature    0.022743\n",
              "Humidity      -0.434920\n",
              "Pressure      -0.594362\n",
              "Air Quality   -0.410217\n",
              "dtype: float64"
            ]
          },
          "metadata": {
            "tags": []
          },
          "execution_count": 34
        }
      ]
    },
    {
      "cell_type": "markdown",
      "metadata": {
        "id": "Rjdj6UjFVL3O",
        "colab_type": "text"
      },
      "source": [
        "# Matplotlib (for Visualization)"
      ]
    },
    {
      "cell_type": "markdown",
      "metadata": {
        "id": "GVU1jdYxSFqg",
        "colab_type": "text"
      },
      "source": [
        "## Data Visualization"
      ]
    },
    {
      "cell_type": "code",
      "metadata": {
        "id": "ukxoKRZNSJuL",
        "colab_type": "code",
        "colab": {}
      },
      "source": [
        "import numpy as np\n",
        "import matplotlib.pyplot as plt"
      ],
      "execution_count": 0,
      "outputs": []
    },
    {
      "cell_type": "code",
      "metadata": {
        "id": "MihI6phoSfj1",
        "colab_type": "code",
        "colab": {
          "base_uri": "https://localhost:8080/",
          "height": 269
        },
        "outputId": "93bc9fbf-d3f0-4dc0-f0de-a041dec62021"
      },
      "source": [
        "x = np.arange(0, 10, 0.5)\n",
        "y = 2*x - 5\n",
        "z = 3*x - 0.5*x + 2\n",
        "\n",
        "plt.plot(x, z)\n",
        "plt.plot(x, y)\n",
        "plt.show()"
      ],
      "execution_count": 39,
      "outputs": [
        {
          "output_type": "display_data",
          "data": {
            "image/png": "[encoded data removed]",
            "text/plain": [
              "<Figure size 432x288 with 1 Axes>"
            ]
          },
          "metadata": {
            "tags": []
          }
        }
      ]
    },
    {
      "cell_type": "markdown",
      "metadata": {
        "id": "1PR34iNrmWPa",
        "colab_type": "text"
      },
      "source": [
        "### Line graph"
      ]
    },
    {
      "cell_type": "code",
      "metadata": {
        "id": "T-ofEGSISyYs",
        "colab_type": "code",
        "colab": {
          "base_uri": "https://localhost:8080/",
          "height": 350
        },
        "outputId": "e86b8259-4c80-403c-dd43-749023f932c9"
      },
      "source": [
        "# Show the figure with length=12 and width=5\n",
        "plt.figure(figsize=(12, 5))\n",
        "\n",
        "# Plot the figure of x and y, color is red, and label is given for the legend\n",
        "plt.plot(x, y, c='r', label=\"x v/s y\")\n",
        "\n",
        "# Plot the figure of x and z, color is green, and label is given for the legend\n",
        "plt.plot(x, z, c='g', label=\"x v/s z\")\n",
        "\n",
        "# Label the x-axis\n",
        "plt.xlabel(\"value of x\")\n",
        "\n",
        "# Label the y-axis\n",
        "plt.ylabel(\"value of y or z\")\n",
        "\n",
        "# Title of the graph\n",
        "plt.title(\"Graph of x, y, z\")\n",
        "\n",
        "# Show the legend (uses the label given while using plt.plot())\n",
        "plt.legend()\n",
        "\n",
        "# Show the graph (on some IDEs, without this it will not show the graph, but internally would have plotted it already)\n",
        "plt.show()"
      ],
      "execution_count": 45,
      "outputs": [
        {
          "output_type": "display_data",
          "data": {
            "image/png": "[encoded data removed]",
            "text/plain": [
              "<Figure size 864x360 with 1 Axes>"
            ]
          },
          "metadata": {
            "tags": []
          }
        }
      ]
    },
    {
      "cell_type": "markdown",
      "metadata": {
        "id": "d4hkRkzGmZqW",
        "colab_type": "text"
      },
      "source": [
        "### Scatter plot"
      ]
    },
    {
      "cell_type": "code",
      "metadata": {
        "id": "q8h9PnXXVXvL",
        "colab_type": "code",
        "colab": {
          "base_uri": "https://localhost:8080/",
          "height": 324
        },
        "outputId": "4ba02e69-a1be-4139-b85a-0d8f557dca01"
      },
      "source": [
        "# Showing scatter plot\n",
        "\n",
        "plt.figure(figsize=(12,5))\n",
        "plt.scatter(x, y)\n",
        "plt.show()"
      ],
      "execution_count": 48,
      "outputs": [
        {
          "output_type": "display_data",
          "data": {
            "image/png": "[encoded data removed]",
            "text/plain": [
              "<Figure size 864x360 with 1 Axes>"
            ]
          },
          "metadata": {
            "tags": []
          }
        }
      ]
    },
    {
      "cell_type": "markdown",
      "metadata": {
        "id": "zq9bbXCfmcV8",
        "colab_type": "text"
      },
      "source": [
        "### Scatter plot with line plot"
      ]
    },
    {
      "cell_type": "code",
      "metadata": {
        "id": "v58cWm9jVsmD",
        "colab_type": "code",
        "colab": {
          "base_uri": "https://localhost:8080/",
          "height": 324
        },
        "outputId": "ca82f461-5780-4328-ee2c-a7a3686491d4"
      },
      "source": [
        "# Showing scatter plot and a line plot\n",
        "\n",
        "plt.figure(figsize=(12,5))\n",
        "plt.scatter(x, y)\n",
        "plt.plot(x, y, c='g')\n",
        "plt.show()"
      ],
      "execution_count": 49,
      "outputs": [
        {
          "output_type": "display_data",
          "data": {
            "image/png": "[encoded data removed]",
            "text/plain": [
              "<Figure size 864x360 with 1 Axes>"
            ]
          },
          "metadata": {
            "tags": []
          }
        }
      ]
    },
    {
      "cell_type": "markdown",
      "metadata": {
        "id": "pTXLUVavmfkw",
        "colab_type": "text"
      },
      "source": [
        "### Pie chart"
      ]
    },
    {
      "cell_type": "code",
      "metadata": {
        "id": "fJPi-nvTV7bM",
        "colab_type": "code",
        "colab": {
          "base_uri": "https://localhost:8080/",
          "height": 255
        },
        "outputId": "3d75db34-1499-4f99-99be-7e08d14296d1"
      },
      "source": [
        "# Showing pie chart\n",
        "\n",
        "vals = [45, 56, 12, 45, 75]\n",
        "labs = ['BLR', 'BOM', 'MAA', 'DEL', 'HYD']\n",
        "plt.pie(vals, labels=labs)\n",
        "plt.show()"
      ],
      "execution_count": 51,
      "outputs": [
        {
          "output_type": "display_data",
          "data": {
            "image/png": "[encoded data removed]",
            "text/plain": [
              "<Figure size 432x288 with 1 Axes>"
            ]
          },
          "metadata": {
            "tags": []
          }
        }
      ]
    },
    {
      "cell_type": "markdown",
      "metadata": {
        "id": "xZYyVbsgmht2",
        "colab_type": "text"
      },
      "source": [
        "### Bar chart"
      ]
    },
    {
      "cell_type": "code",
      "metadata": {
        "id": "ZVYQj1vNWREw",
        "colab_type": "code",
        "colab": {
          "base_uri": "https://localhost:8080/",
          "height": 269
        },
        "outputId": "4a488da1-1f8d-4067-9150-679796a438f2"
      },
      "source": [
        "# Showing bar chart\n",
        "\n",
        "vals = [45, 56, 12, 45, 75]\n",
        "labs = ['BLR', 'BOM', 'MAA', 'DEL', 'HYD']\n",
        "plt.bar(labs, vals)\n",
        "plt.show()"
      ],
      "execution_count": 52,
      "outputs": [
        {
          "output_type": "display_data",
          "data": {
            "image/png": "[encoded data removed]",
            "text/plain": [
              "<Figure size 432x288 with 1 Axes>"
            ]
          },
          "metadata": {
            "tags": []
          }
        }
      ]
    },
    {
      "cell_type": "markdown",
      "metadata": {
        "id": "G1LPixyGWt1r",
        "colab_type": "text"
      },
      "source": [
        "## Advanced visualization with real data"
      ]
    },
    {
      "cell_type": "code",
      "metadata": {
        "id": "zHaGSkaCWxwp",
        "colab_type": "code",
        "colab": {}
      },
      "source": [
        "import numpy as np\n",
        "import matplotlib.pyplot as plt\n",
        "import pandas as pd\n",
        "import seaborn as sns"
      ],
      "execution_count": 0,
      "outputs": []
    },
    {
      "cell_type": "code",
      "metadata": {
        "id": "xXqcQPvyW99P",
        "colab_type": "code",
        "colab": {
          "base_uri": "https://localhost:8080/",
          "height": 102
        },
        "outputId": "bec6d8e4-c8d0-42f7-86ae-ede491b0d927"
      },
      "source": [
        "data_file = pd.read_csv('/content/Bank_churn_modelling.csv')\n",
        "print(data_file.shape)\n",
        "print(data_file.columns)"
      ],
      "execution_count": 86,
      "outputs": [
        {
          "output_type": "stream",
          "text": [
            "(10000, 14)\n",
            "Index(['RowNumber', 'CustomerId', 'Surname', 'CreditScore', 'Geography',\n",
            "       'Gender', 'Age', 'Tenure', 'Balance', 'NumOfProducts', 'HasCrCard',\n",
            "       'IsActiveMember', 'EstimatedSalary', 'Exited'],\n",
            "      dtype='object')\n"
          ],
          "name": "stdout"
        }
      ]
    },
    {
      "cell_type": "code",
      "metadata": {
        "id": "qIqMOjHFXv9D",
        "colab_type": "code",
        "colab": {
          "base_uri": "https://localhost:8080/",
          "height": 102
        },
        "outputId": "208632a2-73b2-4d8e-ac37-c203aaee7a02"
      },
      "source": [
        "# Drop the columns which are not relevant\n",
        "\n",
        "data_file.drop(labels=[\"RowNumber\", \"CustomerId\", \"Surname\"], axis=1, inplace=True)\n",
        "print(data_file.shape)\n",
        "print(data_file.columns)"
      ],
      "execution_count": 60,
      "outputs": [
        {
          "output_type": "stream",
          "text": [
            "(10000, 11)\n",
            "Index(['CreditScore', 'Geography', 'Gender', 'Age', 'Tenure', 'Balance',\n",
            "       'NumOfProducts', 'HasCrCard', 'IsActiveMember', 'EstimatedSalary',\n",
            "       'Exited'],\n",
            "      dtype='object')\n"
          ],
          "name": "stdout"
        }
      ]
    },
    {
      "cell_type": "markdown",
      "metadata": {
        "id": "k2SDO8Ejf8dU",
        "colab_type": "text"
      },
      "source": [
        "### Use distplot from seaborn\n",
        "\n",
        "Use this to show data in form of histogram and then make continous data out of it\n",
        "\n",
        "Extremely useful for numeric data"
      ]
    },
    {
      "cell_type": "markdown",
      "metadata": {
        "id": "POgcWQNTankg",
        "colab_type": "text"
      },
      "source": [
        "##### Comparing Credit score with exited "
      ]
    },
    {
      "cell_type": "code",
      "metadata": {
        "id": "bGIIYU-eYbKy",
        "colab_type": "code",
        "colab": {
          "base_uri": "https://localhost:8080/",
          "height": 337
        },
        "outputId": "b58f10c9-2729-4510-f918-8073aa989685"
      },
      "source": [
        "# Credit score v/s exited\n",
        "# Compare probability distribution of creditscore\n",
        "# For customers exited and not exited\n",
        "\n",
        "plt.figure(figsize=(12,5))\n",
        "\n",
        "# Pass the credit score of those customers where exited == 0 (See filtering section of Pandas)\n",
        "sns.distplot(data_file[\"CreditScore\"][data_file[\"Exited\"] == 0])\n",
        "\n",
        "# Pass the credit score of those customers where exited == 1 (See filtering section of Pandas)\n",
        "sns.distplot(data_file[\"CreditScore\"][data_file[\"Exited\"] == 1])\n",
        "\n",
        "plt.legend([\"0\", \"1\"])\n",
        "plt.show()"
      ],
      "execution_count": 61,
      "outputs": [
        {
          "output_type": "display_data",
          "data": {
            "image/png": "[encoded data removed]",
            "text/plain": [
              "<Figure size 864x360 with 1 Axes>"
            ]
          },
          "metadata": {
            "tags": []
          }
        }
      ]
    },
    {
      "cell_type": "markdown",
      "metadata": {
        "id": "ZCBIaTMMasYu",
        "colab_type": "text"
      },
      "source": [
        "#### Comparing age with exited or non-exited"
      ]
    },
    {
      "cell_type": "code",
      "metadata": {
        "id": "K5CRniT9ac6s",
        "colab_type": "code",
        "colab": {
          "base_uri": "https://localhost:8080/",
          "height": 337
        },
        "outputId": "2ec8817f-f2e6-473c-c524-e6807b73e07b"
      },
      "source": [
        "# Age v/s exited\n",
        "# Compare probability distribution of Age\n",
        "# For customers exited and not exited\n",
        "\n",
        "plt.figure(figsize=(12,5))\n",
        "\n",
        "# Pass the credit score of those customers where exited == 0 (See filtering section of Pandas)\n",
        "sns.distplot(data_file[\"Age\"][data_file[\"Exited\"] == 0])\n",
        "\n",
        "# Pass the credit score of those customers where exited == 1 (See filtering section of Pandas)\n",
        "sns.distplot(data_file[\"Age\"][data_file[\"Exited\"] == 1])\n",
        "\n",
        "plt.legend([\"0\", \"1\"])\n",
        "plt.show()"
      ],
      "execution_count": 62,
      "outputs": [
        {
          "output_type": "display_data",
          "data": {
            "image/png": "[encoded data removed]",
            "text/plain": [
              "<Figure size 864x360 with 1 Axes>"
            ]
          },
          "metadata": {
            "tags": []
          }
        }
      ]
    },
    {
      "cell_type": "markdown",
      "metadata": {
        "id": "UTBeKvPafdiL",
        "colab_type": "text"
      },
      "source": [
        "### Use countplot from seaborn\n",
        "\n",
        "For nominal data, this is a useful represenation\n",
        "Similar to bar chart"
      ]
    },
    {
      "cell_type": "markdown",
      "metadata": {
        "id": "NITXOhBXfUX3",
        "colab_type": "text"
      },
      "source": [
        "#### Comparing Geography with exited"
      ]
    },
    {
      "cell_type": "code",
      "metadata": {
        "id": "3g1MtEoDbcVO",
        "colab_type": "code",
        "colab": {
          "base_uri": "https://localhost:8080/",
          "height": 549
        },
        "outputId": "331dbe7a-b917-4d72-8ca6-1616e5c6d797"
      },
      "source": [
        "#Geography vs Exited\n",
        "\n",
        "# plt.figure(figsize=(12, 5))\n",
        "sns.countplot(data_file[\"Geography\"])\n",
        "plt.show()\n",
        "\n",
        "# plt.figure(figsize=(12,5))\n",
        "sns.countplot(data_file[\"Geography\"][data_file[\"Exited\"] == 1])\n",
        "plt.show()"
      ],
      "execution_count": 77,
      "outputs": [
        {
          "output_type": "display_data",
          "data": {
            "image/png": "[encoded data removed]",
            "text/plain": [
              "<Figure size 432x288 with 1 Axes>"
            ]
          },
          "metadata": {
            "tags": []
          }
        },
        {
          "output_type": "display_data",
          "data": {
            "image/png": "[encoded data removed]",
            "text/plain": [
              "<Figure size 432x288 with 1 Axes>"
            ]
          },
          "metadata": {
            "tags": []
          }
        }
      ]
    },
    {
      "cell_type": "markdown",
      "metadata": {
        "id": "oJasCbzVfjLd",
        "colab_type": "text"
      },
      "source": [
        "#### Comparing Gender with exited"
      ]
    },
    {
      "cell_type": "code",
      "metadata": {
        "id": "7i6Hy5mtdLSk",
        "colab_type": "code",
        "colab": {
          "base_uri": "https://localhost:8080/",
          "height": 549
        },
        "outputId": "3ab6d8d7-bb85-4faa-ef45-c28f19af1290"
      },
      "source": [
        "#Gender vs Exited\n",
        "\n",
        "# plt.figure(figsize=(12, 5))\n",
        "sns.countplot(data_file[\"Gender\"])\n",
        "plt.show()\n",
        "\n",
        "# plt.figure(figsize=(12,5))\n",
        "sns.countplot(data_file[\"Gender\"][data_file[\"Exited\"] == 1])\n",
        "plt.show()"
      ],
      "execution_count": 78,
      "outputs": [
        {
          "output_type": "display_data",
          "data": {
            "image/png": "[encoded data removed]",
            "text/plain": [
              "<Figure size 432x288 with 1 Axes>"
            ]
          },
          "metadata": {
            "tags": []
          }
        },
        {
          "output_type": "display_data",
          "data": {
            "image/png": "[encoded data removed]",
            "text/plain": [
              "<Figure size 432x288 with 1 Axes>"
            ]
          },
          "metadata": {
            "tags": []
          }
        }
      ]
    },
    {
      "cell_type": "markdown",
      "metadata": {
        "id": "OC4IeTM_frI6",
        "colab_type": "text"
      },
      "source": [
        "#### Comparing Has credit card vs exited"
      ]
    },
    {
      "cell_type": "code",
      "metadata": {
        "id": "EqIIu4bmdcKB",
        "colab_type": "code",
        "colab": {
          "base_uri": "https://localhost:8080/",
          "height": 549
        },
        "outputId": "e4f2d69f-774b-46c8-e863-f679c012acfa"
      },
      "source": [
        "#HasCrCard vs Exited\n",
        "\n",
        "sns.countplot(data_file[\"HasCrCard\"])\n",
        "plt.show()\n",
        "\n",
        "sns.countplot(data_file[\"HasCrCard\"][data_file[\"Exited\"] == 1])\n",
        "plt.show()"
      ],
      "execution_count": 79,
      "outputs": [
        {
          "output_type": "display_data",
          "data": {
            "image/png": "[encoded data removed]",
            "text/plain": [
              "<Figure size 432x288 with 1 Axes>"
            ]
          },
          "metadata": {
            "tags": []
          }
        },
        {
          "output_type": "display_data",
          "data": {
            "image/png": "[encoded data removed]",
            "text/plain": [
              "<Figure size 432x288 with 1 Axes>"
            ]
          },
          "metadata": {
            "tags": []
          }
        }
      ]
    },
    {
      "cell_type": "markdown",
      "metadata": {
        "id": "KqMj7oJqi59E",
        "colab_type": "text"
      },
      "source": [
        "## Correlation\n",
        "\n",
        "Value of correlation is between -1 to 1. <br>\n",
        "If data is in form of (x, y) then <br>\n",
        "\n",
        "if x goes high and based on that y also goes high, then correlation is positive. <br>\n",
        "\n",
        "if x goes high but based on that y goes low, then correlation is negative. <br>\n",
        "\n"
      ]
    },
    {
      "cell_type": "code",
      "metadata": {
        "id": "fpIjL4M9i9mw",
        "colab_type": "code",
        "colab": {
          "base_uri": "https://localhost:8080/",
          "height": 221
        },
        "outputId": "0fe26906-42c3-4bfc-a4bd-41c18c96609f"
      },
      "source": [
        "# Find the correlation for the data in the data file\n",
        "\n",
        "cor = data_file.corr()\n",
        "print(cor)"
      ],
      "execution_count": 80,
      "outputs": [
        {
          "output_type": "stream",
          "text": [
            "                 CreditScore       Age  ...  EstimatedSalary    Exited\n",
            "CreditScore         1.000000 -0.003965  ...        -0.001384 -0.027094\n",
            "Age                -0.003965  1.000000  ...        -0.007201  0.285323\n",
            "Tenure              0.000842 -0.009997  ...         0.007784 -0.014001\n",
            "Balance             0.006268  0.028308  ...         0.012797  0.118533\n",
            "NumOfProducts       0.012238 -0.030680  ...         0.014204 -0.047820\n",
            "HasCrCard          -0.005458 -0.011721  ...        -0.009933 -0.007138\n",
            "IsActiveMember      0.025651  0.085472  ...        -0.011421 -0.156128\n",
            "EstimatedSalary    -0.001384 -0.007201  ...         1.000000  0.012097\n",
            "Exited             -0.027094  0.285323  ...         0.012097  1.000000\n",
            "\n",
            "[9 rows x 9 columns]\n"
          ],
          "name": "stdout"
        }
      ]
    },
    {
      "cell_type": "code",
      "metadata": {
        "id": "cpPUPT41jMa8",
        "colab_type": "code",
        "colab": {
          "base_uri": "https://localhost:8080/",
          "height": 450
        },
        "outputId": "23755425-40d6-43a4-ef7d-751369acf703"
      },
      "source": [
        "# Plot the correlation using heatmap\n",
        "\n",
        "plt.figure(figsize=(12,6))\n",
        "sns.heatmap(cor, annot=True, cmap=\"coolwarm\")\n",
        "plt.show()\n",
        "\n",
        "# If you look at the heatmap, you can see that numOfProducts and balance has a correlation and there is\n",
        "# some inference you can make. "
      ],
      "execution_count": 85,
      "outputs": [
        {
          "output_type": "display_data",
          "data": {
            "image/png": "[encoded data removed]",
            "text/plain": [
              "<Figure size 864x432 with 2 Axes>"
            ]
          },
          "metadata": {
            "tags": []
          }
        }
      ]
    }
  ]
}